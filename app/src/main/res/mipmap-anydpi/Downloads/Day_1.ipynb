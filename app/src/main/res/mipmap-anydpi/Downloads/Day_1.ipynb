{
  "nbformat": 4,
  "nbformat_minor": 0,
  "metadata": {
    "colab": {
      "provenance": []
    },
    "kernelspec": {
      "name": "python3",
      "display_name": "Python 3"
    },
    "language_info": {
      "name": "python"
    }
  },
  "cells": [
    {
      "cell_type": "code",
      "execution_count": null,
      "metadata": {
        "id": "q-ONOdDcdCwI",
        "colab": {
          "base_uri": "https://localhost:8080/"
        },
        "outputId": "9d78c592-7932-4ec7-d18b-3196537b0a3a"
      },
      "outputs": [
        {
          "output_type": "stream",
          "name": "stdout",
          "text": [
            "Hello\n",
            "Hello\n",
            " Hello \n",
            " Hello \n"
          ]
        }
      ],
      "source": [
        "print('Hello')\n",
        "print(\"Hello\")\n",
        "print(''' Hello ''')\n",
        "print(\"\"\" Hello \"\"\")"
      ]
    },
    {
      "cell_type": "code",
      "source": [
        "''' Hello, Python is good programming language '''\n",
        "\n",
        "# hello, Dhanraj\n",
        "\n",
        "print(__doc__)"
      ],
      "metadata": {
        "colab": {
          "base_uri": "https://localhost:8080/"
        },
        "id": "iIaZmoHEO37Y",
        "outputId": "cf400c0f-ebbc-4361-b6c7-913841ef8768"
      },
      "execution_count": null,
      "outputs": [
        {
          "output_type": "stream",
          "name": "stdout",
          "text": [
            " Hello, Python is good programming language \n"
          ]
        }
      ]
    },
    {
      "cell_type": "code",
      "source": [
        "# \"Hello\", 'Dhanraj', How are you ?\n",
        "\n",
        "print(''' \"Hello\", 'Dhanraj', How are you ? ''')"
      ],
      "metadata": {
        "colab": {
          "base_uri": "https://localhost:8080/"
        },
        "id": "m4XgDBnhPWar",
        "outputId": "31bde1dc-aab7-4353-c1ce-d1129835b03d"
      },
      "execution_count": null,
      "outputs": [
        {
          "output_type": "stream",
          "name": "stdout",
          "text": [
            " \"Hello\", 'Dhanraj', How are you ? \n"
          ]
        }
      ]
    },
    {
      "cell_type": "code",
      "source": [
        "print(\"\"\" \"Hello\", 'Dhanraj', How are you ? \"\"\" )"
      ],
      "metadata": {
        "colab": {
          "base_uri": "https://localhost:8080/"
        },
        "id": "kCsbrOT-QUyR",
        "outputId": "9e7deb9e-9639-469d-ed94-b0804dcdef76"
      },
      "execution_count": null,
      "outputs": [
        {
          "output_type": "stream",
          "name": "stdout",
          "text": [
            " \"Hello\", 'Dhanraj', How are you ? \n"
          ]
        }
      ]
    },
    {
      "cell_type": "code",
      "source": [
        "name = \"Dhanraj\"\n",
        "print(name)"
      ],
      "metadata": {
        "colab": {
          "base_uri": "https://localhost:8080/"
        },
        "id": "YQtovUj4QqwQ",
        "outputId": "1f80d991-410d-432b-a585-61828259255a"
      },
      "execution_count": null,
      "outputs": [
        {
          "output_type": "stream",
          "name": "stdout",
          "text": [
            "Dhanraj\n"
          ]
        }
      ]
    },
    {
      "cell_type": "code",
      "source": [
        "num = 10\n",
        "print(num)"
      ],
      "metadata": {
        "colab": {
          "base_uri": "https://localhost:8080/"
        },
        "id": "VpL38w89QxLh",
        "outputId": "6c3051e9-3056-4ca7-f2bb-2aafe08822e6"
      },
      "execution_count": null,
      "outputs": [
        {
          "output_type": "stream",
          "name": "stdout",
          "text": [
            "10\n"
          ]
        }
      ]
    },
    {
      "cell_type": "code",
      "source": [
        "num = 10\n",
        "id(num)  # address"
      ],
      "metadata": {
        "colab": {
          "base_uri": "https://localhost:8080/"
        },
        "id": "MhGdSI3dQzQf",
        "outputId": "79f3f304-f1fb-4b70-e7e0-ae98a8a7fad0"
      },
      "execution_count": null,
      "outputs": [
        {
          "output_type": "execute_result",
          "data": {
            "text/plain": [
              "137577019277840"
            ]
          },
          "metadata": {},
          "execution_count": 9
        }
      ]
    },
    {
      "cell_type": "code",
      "source": [
        "num = 10\n",
        "type(num)   # <class 'int'>"
      ],
      "metadata": {
        "colab": {
          "base_uri": "https://localhost:8080/"
        },
        "id": "_zHF8t-oRI90",
        "outputId": "002565cf-a5ab-439b-88a2-889511329331"
      },
      "execution_count": null,
      "outputs": [
        {
          "output_type": "execute_result",
          "data": {
            "text/plain": [
              "int"
            ]
          },
          "metadata": {},
          "execution_count": 10
        }
      ]
    },
    {
      "cell_type": "code",
      "source": [
        "# fundamental data types\n",
        "\n",
        "# int , bool, complex , float\n",
        "\n",
        "num = 10\n",
        "boolean =True\n",
        "complex_num = 10 + 0j\n",
        "float_value = 10.0\n",
        "\n",
        "print(num, \" --> \", type(num),  \" --> \" , id(num))\n",
        "print(boolean, \" --> \", type(boolean), \" --> \" , id(boolean))\n",
        "print(complex_num, \" --> \", type(complex_num),  \" --> \" , id(complex_num))\n",
        "print(float_value, \" --> \", type(float_value),  \" --> \" , id(float_value))"
      ],
      "metadata": {
        "colab": {
          "base_uri": "https://localhost:8080/"
        },
        "id": "NBmqG9VrRQK4",
        "outputId": "9ef548b7-5c3b-470d-8213-9e38aff94bc8"
      },
      "execution_count": null,
      "outputs": [
        {
          "output_type": "stream",
          "name": "stdout",
          "text": [
            "10  -->  <class 'int'>  -->  137577019277840\n",
            "True  -->  <class 'bool'>  -->  101806989714464\n",
            "(10+0j)  -->  <class 'complex'>  -->  137575689866512\n",
            "10.0  -->  <class 'float'>  -->  137575689870416\n"
          ]
        }
      ]
    },
    {
      "cell_type": "code",
      "source": [
        "num = 10\n",
        "print(id(num), num)\n",
        "num = 20\n",
        "print(id(num), num)\n",
        "print(num, id(num))"
      ],
      "metadata": {
        "colab": {
          "base_uri": "https://localhost:8080/"
        },
        "id": "x9N5MellSaXw",
        "outputId": "b54226ac-6777-4ee8-a939-96f7d3231a75"
      },
      "execution_count": null,
      "outputs": [
        {
          "output_type": "stream",
          "name": "stdout",
          "text": [
            "137577019277840 10\n",
            "137577019278160 20\n",
            "20 137577019278160\n"
          ]
        }
      ]
    },
    {
      "cell_type": "code",
      "source": [
        "num = 10\n",
        "num2 = 5 + 5\n",
        "num3 = 20 - 10\n",
        "num4 = 2 * 5\n",
        "\n",
        "print(id(num))\n",
        "print(id(num2))\n",
        "print(id(num3))\n",
        "print(id(num4))"
      ],
      "metadata": {
        "colab": {
          "base_uri": "https://localhost:8080/"
        },
        "id": "ZENAwrQTTVQ7",
        "outputId": "12cb74ab-71d5-4922-cfc3-422e21a66ad9"
      },
      "execution_count": null,
      "outputs": [
        {
          "output_type": "stream",
          "name": "stdout",
          "text": [
            "137577019277840\n",
            "137577019277840\n",
            "137577019277840\n",
            "137577019277840\n"
          ]
        }
      ]
    },
    {
      "cell_type": "code",
      "source": [
        "num1 , num2 = 10, 20\n",
        "print(num1, num2)"
      ],
      "metadata": {
        "colab": {
          "base_uri": "https://localhost:8080/"
        },
        "id": "rk_UDGhtUCDB",
        "outputId": "ea155859-daa0-4e3d-bbd8-f0c7307ef6a1"
      },
      "execution_count": null,
      "outputs": [
        {
          "output_type": "stream",
          "name": "stdout",
          "text": [
            "10 20\n"
          ]
        }
      ]
    },
    {
      "cell_type": "code",
      "source": [
        "num1 = num2 = num3 = 10\n",
        "print(num1, num2, num3)"
      ],
      "metadata": {
        "colab": {
          "base_uri": "https://localhost:8080/"
        },
        "id": "hqWqDCV5UMYy",
        "outputId": "bdbafb42-167e-41e1-c841-48da46cdb62a"
      },
      "execution_count": null,
      "outputs": [
        {
          "output_type": "stream",
          "name": "stdout",
          "text": [
            "10 10 10\n"
          ]
        }
      ]
    },
    {
      "cell_type": "code",
      "source": [
        "# swap two numbers\n",
        "\n",
        "num1 = 10\n",
        "num2 = 20\n",
        "print(\"Before : \")\n",
        "print(\"num1 : \", num1 , \" num2 : \", num2 )\n",
        "num1 ,  num2 = num2 , num1\n",
        "print(\"num1 : \", num1 , \" num2 : \", num2 )"
      ],
      "metadata": {
        "colab": {
          "base_uri": "https://localhost:8080/"
        },
        "id": "6W8xx7kBURxF",
        "outputId": "ab550fd3-38bc-4884-d8af-c012278002c5"
      },
      "execution_count": null,
      "outputs": [
        {
          "output_type": "stream",
          "name": "stdout",
          "text": [
            "Before : \n",
            "num1 :  10  num2 :  20\n",
            "num1 :  20  num2 :  10\n"
          ]
        }
      ]
    },
    {
      "cell_type": "code",
      "source": [
        "# operators\n",
        "\n",
        "selling_price = 1000\n",
        "discount = 20\n",
        "amount = (selling_price * discount ) / 100\n",
        "\n",
        "print(\"Price : \", selling_price)\n",
        "print(\"Discount : \", discount)\n",
        "print(\"-------------------\")\n",
        "print(\"Payable amount : \" , selling_price - amount)"
      ],
      "metadata": {
        "id": "V73DAN0JVOcs",
        "colab": {
          "base_uri": "https://localhost:8080/"
        },
        "outputId": "f2ef0169-716f-4b29-c5a0-a705b942dc8d"
      },
      "execution_count": null,
      "outputs": [
        {
          "output_type": "stream",
          "name": "stdout",
          "text": [
            "Price :  1000\n",
            "Discount :  20\n",
            "-------------------\n",
            "Payable amount :  800.0\n"
          ]
        }
      ]
    },
    {
      "cell_type": "code",
      "source": [
        "# Area of circle\n",
        "# process = pi * r^2\n",
        "# output  -> Area of circle is : area\n",
        "\n",
        "radius = 10\n",
        "area = 3.14 * radius * radius\n",
        "print(\"Area of circle is : \", area)"
      ],
      "metadata": {
        "colab": {
          "base_uri": "https://localhost:8080/"
        },
        "id": "oVgcH-GgYnQa",
        "outputId": "48cbd0ea-8760-419e-ab35-0e00a98b4e77"
      },
      "execution_count": null,
      "outputs": [
        {
          "output_type": "stream",
          "name": "stdout",
          "text": [
            "Area of circle is :  314.0\n"
          ]
        }
      ]
    },
    {
      "cell_type": "code",
      "source": [
        "# // , **\n",
        "print(10 / 3)\n",
        "print(10 // 3)\n",
        "\n",
        "print(10 ** 2)"
      ],
      "metadata": {
        "colab": {
          "base_uri": "https://localhost:8080/"
        },
        "id": "WJzXODa0Z1gZ",
        "outputId": "aa055a88-6df5-428f-99c9-94774c5e7909"
      },
      "execution_count": null,
      "outputs": [
        {
          "output_type": "stream",
          "name": "stdout",
          "text": [
            "3.3333333333333335\n",
            "3\n",
            "100\n"
          ]
        }
      ]
    },
    {
      "cell_type": "code",
      "source": [
        "# Area of circle\n",
        "# process = pi * r^2\n",
        "# output  -> Area of circle is : area\n",
        "\n",
        "radius = 10\n",
        "area = 3.14 * radius ** 2\n",
        "\n",
        "print(\"Area of circle is : \", area)"
      ],
      "metadata": {
        "colab": {
          "base_uri": "https://localhost:8080/"
        },
        "id": "tZEGpyXGZ-i-",
        "outputId": "9d79a377-513f-442b-9d42-0d1545b3201f"
      },
      "execution_count": null,
      "outputs": [
        {
          "output_type": "stream",
          "name": "stdout",
          "text": [
            "Area of circle is :  314.0\n"
          ]
        }
      ]
    },
    {
      "cell_type": "code",
      "source": [
        "# // --> remove last digit\n",
        "# % ---> display last digit\n",
        "\n",
        "print(12345 % 10)\n",
        "print(12345 // 10)"
      ],
      "metadata": {
        "colab": {
          "base_uri": "https://localhost:8080/"
        },
        "id": "-GqZdp4SaPWC",
        "outputId": "0c4e3af4-9616-49cf-e059-d28500fa97a0"
      },
      "execution_count": null,
      "outputs": [
        {
          "output_type": "stream",
          "name": "stdout",
          "text": [
            "5\n",
            "1234\n"
          ]
        }
      ]
    },
    {
      "cell_type": "code",
      "source": [
        "number = 12345\n",
        "print(\"Addition of digits is : \",(( number % 10) + ( number % 100) +  (number % 1000) + ( number % 10000)) )"
      ],
      "metadata": {
        "colab": {
          "base_uri": "https://localhost:8080/"
        },
        "id": "QJA53FZwagpH",
        "outputId": "984b6c02-a817-4c69-84de-29bca452d50d"
      },
      "execution_count": null,
      "outputs": [
        {
          "output_type": "stream",
          "name": "stdout",
          "text": [
            "Addition of digits is :  2740\n"
          ]
        }
      ]
    },
    {
      "cell_type": "code",
      "source": [
        "a = 12345\n",
        "a1 = a % 10\n",
        "a //= 10\n",
        "a2 = a % 10\n",
        "a //= 10\n",
        "a3 = a % 10\n",
        "a //= 10\n",
        "a4 = a % 10\n",
        "a //= 10\n",
        "a5 = a % 10\n",
        "print(a1 + a2 + a3 + a4 + a5)"
      ],
      "metadata": {
        "colab": {
          "base_uri": "https://localhost:8080/"
        },
        "id": "20TuJuJJbga2",
        "outputId": "4c0ece11-0d64-4060-c682-0ab64e0ad905"
      },
      "execution_count": null,
      "outputs": [
        {
          "output_type": "stream",
          "name": "stdout",
          "text": [
            "15\n"
          ]
        }
      ]
    },
    {
      "cell_type": "code",
      "source": [
        "# logical operator\n",
        "# and --> when all is needed\n",
        "# or  --> when any one is needed\n",
        "\n",
        "print(10 and 10)"
      ],
      "metadata": {
        "colab": {
          "base_uri": "https://localhost:8080/"
        },
        "id": "QeEtdHfab7vK",
        "outputId": "791672ef-d55a-4fd8-ea7e-dc90d8e768b9"
      },
      "execution_count": null,
      "outputs": [
        {
          "output_type": "stream",
          "name": "stdout",
          "text": [
            "10\n"
          ]
        }
      ]
    },
    {
      "cell_type": "code",
      "source": [
        "print(10 and 20)"
      ],
      "metadata": {
        "colab": {
          "base_uri": "https://localhost:8080/"
        },
        "id": "BN_sPrPFcpcQ",
        "outputId": "fc6647d9-69df-4f0c-afe8-b984ab8c7e3d"
      },
      "execution_count": null,
      "outputs": [
        {
          "output_type": "stream",
          "name": "stdout",
          "text": [
            "20\n"
          ]
        }
      ]
    },
    {
      "cell_type": "code",
      "source": [
        "if 10 == 10 and 20 == 20:\n",
        "  pass"
      ],
      "metadata": {
        "id": "7bxrOgk8cvDs"
      },
      "execution_count": null,
      "outputs": []
    },
    {
      "cell_type": "code",
      "source": [
        "# is, is not\n",
        "num1 = 10\n",
        "num2 = 20\n",
        "print(num1 is num2)"
      ],
      "metadata": {
        "colab": {
          "base_uri": "https://localhost:8080/"
        },
        "id": "x9-6Dn2CdU48",
        "outputId": "baf1f238-a68a-4ea4-96a6-07b6815a1bf8"
      },
      "execution_count": null,
      "outputs": [
        {
          "output_type": "stream",
          "name": "stdout",
          "text": [
            "False\n"
          ]
        }
      ]
    },
    {
      "cell_type": "code",
      "source": [
        "# is, is not\n",
        "\n",
        "num1 = 10\n",
        "num2 = 10\n",
        "print(num1 is not num2)"
      ],
      "metadata": {
        "colab": {
          "base_uri": "https://localhost:8080/"
        },
        "id": "dmIuSeXXd0Tb",
        "outputId": "769ad241-da24-4503-b519-c532fd7dcc1c"
      },
      "execution_count": null,
      "outputs": [
        {
          "output_type": "stream",
          "name": "stdout",
          "text": [
            "False\n"
          ]
        }
      ]
    },
    {
      "cell_type": "code",
      "source": [
        "# membership\n",
        "# in , not in\n",
        "\n",
        "print(\"h\" in \"hello\")"
      ],
      "metadata": {
        "colab": {
          "base_uri": "https://localhost:8080/"
        },
        "id": "p947Z-6Dd3r5",
        "outputId": "0a41c9e1-5605-46e3-a879-bb01e4729c37"
      },
      "execution_count": null,
      "outputs": [
        {
          "output_type": "stream",
          "name": "stdout",
          "text": [
            "True\n"
          ]
        }
      ]
    },
    {
      "cell_type": "code",
      "source": [
        "# membership\n",
        "# in , not in\n",
        "\n",
        "print(\"h\" not in \"hello\")"
      ],
      "metadata": {
        "colab": {
          "base_uri": "https://localhost:8080/"
        },
        "id": "WepWK3btelgi",
        "outputId": "c740a857-cc45-4f00-ea08-0772c7643359"
      },
      "execution_count": null,
      "outputs": [
        {
          "output_type": "stream",
          "name": "stdout",
          "text": [
            "False\n"
          ]
        }
      ]
    },
    {
      "cell_type": "code",
      "source": [
        "input = input(\"prompt/message\")\n",
        "print(input)"
      ],
      "metadata": {
        "colab": {
          "base_uri": "https://localhost:8080/"
        },
        "id": "sgg0afYfepBW",
        "outputId": "a91e33eb-369c-4b95-cd65-a11ee8a8c062"
      },
      "execution_count": null,
      "outputs": [
        {
          "output_type": "stream",
          "name": "stdout",
          "text": [
            "prompt/message10\n",
            "10\n"
          ]
        }
      ]
    },
    {
      "cell_type": "code",
      "source": [
        "input = input(\"prompt/message\")\n",
        "print(input, type(input))"
      ],
      "metadata": {
        "colab": {
          "base_uri": "https://localhost:8080/"
        },
        "id": "64TW_Nt3g5AX",
        "outputId": "b2213f44-97e9-4476-d6c0-76170aad4394"
      },
      "execution_count": null,
      "outputs": [
        {
          "output_type": "stream",
          "name": "stdout",
          "text": [
            "prompt/message10\n",
            "10 <class 'str'>\n"
          ]
        }
      ]
    },
    {
      "cell_type": "code",
      "source": [
        "# input --> by defalult --> string\n",
        "\n",
        "# int(), bool(), str(), float()"
      ],
      "metadata": {
        "id": "9wZvxZ_3hCZS"
      },
      "execution_count": null,
      "outputs": []
    },
    {
      "cell_type": "code",
      "source": [
        "user_input = bool(input(\"I want false output : \"))\n",
        "print(user_input)"
      ],
      "metadata": {
        "colab": {
          "base_uri": "https://localhost:8080/"
        },
        "id": "MIqiwq1Phf08",
        "outputId": "a074a6e5-26ae-4d4d-a58d-1d1a19a142d0"
      },
      "execution_count": null,
      "outputs": [
        {
          "output_type": "stream",
          "name": "stdout",
          "text": [
            "I want false output : 1\n",
            "True\n"
          ]
        }
      ]
    },
    {
      "cell_type": "code",
      "source": [
        "num1 = input(\"Enter number : \")\n",
        "num2 = input(\"Enter number : \")\n",
        "\n",
        "print(\"Addition is : \", num1 + num2)"
      ],
      "metadata": {
        "id": "wQI8dvuPiE8M",
        "colab": {
          "base_uri": "https://localhost:8080/"
        },
        "outputId": "9b59b4d8-41cd-4405-9fb3-bd394f8fefe6"
      },
      "execution_count": null,
      "outputs": [
        {
          "output_type": "stream",
          "name": "stdout",
          "text": [
            "Enter number : 10\n",
            "Enter number : 20\n",
            "Addition is :  1020\n"
          ]
        }
      ]
    },
    {
      "cell_type": "code",
      "source": [
        "num1 = int( input(\"Enter number : \"))\n",
        "num2 = int(input(\"Enter number : \"))\n",
        "\n",
        "print(\"Addition is : \", num1 + num2)"
      ],
      "metadata": {
        "colab": {
          "base_uri": "https://localhost:8080/"
        },
        "id": "D9C6hu55zPPM",
        "outputId": "23b99c01-5e85-4946-b1d6-d5f291f80179"
      },
      "execution_count": null,
      "outputs": [
        {
          "output_type": "stream",
          "name": "stdout",
          "text": [
            "Enter number : 10\n",
            "Enter number : 20\n",
            "Addition is :  30\n"
          ]
        }
      ]
    },
    {
      "cell_type": "code",
      "source": [
        "user_input = bool(input(\"I want false output : \"))\n",
        "print(user_input)"
      ],
      "metadata": {
        "colab": {
          "base_uri": "https://localhost:8080/"
        },
        "id": "JcFpx6cUzctw",
        "outputId": "573bbfae-be4a-469c-da60-c10714173521"
      },
      "execution_count": null,
      "outputs": [
        {
          "output_type": "stream",
          "name": "stdout",
          "text": [
            "I want false output : \n",
            "False\n"
          ]
        }
      ]
    },
    {
      "cell_type": "code",
      "source": [
        "# take a input from user\n",
        "# Sample input --> total_marks = 500\n",
        "# Expected output --> Your Percentage is : 100.0\n",
        "\n",
        "# process --> total_marks * 100 / 500"
      ],
      "metadata": {
        "id": "eT7ugz7sz0fl"
      },
      "execution_count": null,
      "outputs": []
    },
    {
      "cell_type": "code",
      "source": [
        "total_marks = int(input(\"Enter total marks : \"))\n",
        "percentage = total_marks * 100 / 500\n",
        "print(\"Your Percentage is : \", percentage)"
      ],
      "metadata": {
        "colab": {
          "base_uri": "https://localhost:8080/"
        },
        "id": "ZYWBsqNx0tmq",
        "outputId": "45a7767b-e8ae-4433-b8cf-74db0487dfb7"
      },
      "execution_count": null,
      "outputs": [
        {
          "output_type": "stream",
          "name": "stdout",
          "text": [
            "Enter total marks : 500\n",
            "Your Percentage is :  100.0\n"
          ]
        }
      ]
    },
    {
      "cell_type": "code",
      "source": [
        "print(\"Your Percentage is : \", int(input(\"Enter total marks : \")) * 100 / 500)"
      ],
      "metadata": {
        "id": "yLPUM8qm23XA"
      },
      "execution_count": null,
      "outputs": []
    },
    {
      "cell_type": "code",
      "source": [
        "# Take input from user\n",
        "# Sample input --> f = 100.0\n",
        "# Expected output --> C = 37.\n",
        "\n",
        "# process --> (f - 32) * 5/9"
      ],
      "metadata": {
        "id": "LBkEPxLs0wDm"
      },
      "execution_count": null,
      "outputs": []
    },
    {
      "cell_type": "code",
      "source": [
        "\n",
        "\n",
        "print(\"C : \", (int(input(\"Enter total marks : \")) - 32) * 5/9)"
      ],
      "metadata": {
        "colab": {
          "base_uri": "https://localhost:8080/"
        },
        "id": "XXzlN44E3L6z",
        "outputId": "d0141cc0-0206-4c37-ba62-c3be703bd99e"
      },
      "execution_count": null,
      "outputs": [
        {
          "output_type": "stream",
          "name": "stdout",
          "text": [
            "Enter total marks : 100\n",
            "C :  37.77777777777778\n"
          ]
        }
      ]
    },
    {
      "cell_type": "code",
      "source": [
        "# take input from user\n",
        "# Sample input --> 10, 20, 30\n",
        "# Expected output --> Avg = 20\n",
        "# process--> num1 + num2 + num3 / total_numbers\n",
        "\n",
        "# process --> total_marks * 100 / 500"
      ],
      "metadata": {
        "id": "glF1Xx1-1QPK"
      },
      "execution_count": null,
      "outputs": []
    },
    {
      "cell_type": "code",
      "source": [
        "num1 = int(input(\"Enter total marks : \"))\n",
        "num2 = int(input(\"Enter total marks : \"))\n",
        "num3 = int(input(\"Enter total marks : \"))\n",
        "\n",
        "print(\"Avg is : \", (num1 + num2 + num3 )// 3)"
      ],
      "metadata": {
        "colab": {
          "base_uri": "https://localhost:8080/"
        },
        "id": "-2QdsPPQ3ypG",
        "outputId": "f2f64a11-c6de-4e82-b94b-9835c6151884"
      },
      "execution_count": null,
      "outputs": [
        {
          "output_type": "stream",
          "name": "stdout",
          "text": [
            "Enter total marks : 10\n",
            "Enter total marks : 20\n",
            "Enter total marks : 30\n",
            "Avg is :  20\n"
          ]
        }
      ]
    },
    {
      "cell_type": "markdown",
      "source": [
        "**Branching**"
      ],
      "metadata": {
        "id": "UqCGYKHb4GTA"
      }
    },
    {
      "cell_type": "code",
      "source": [
        "# Syntax\n",
        "\n",
        "if condition (Boolean):\n",
        "  # code // pass"
      ],
      "metadata": {
        "colab": {
          "base_uri": "https://localhost:8080/",
          "height": 110
        },
        "id": "a7yWnpI-3_Cs",
        "outputId": "bf8571cf-2466-40cb-ec49-d8a1a58b91bf"
      },
      "execution_count": null,
      "outputs": [
        {
          "output_type": "error",
          "ename": "SyntaxError",
          "evalue": "invalid syntax (<ipython-input-17-12a01f6c9833>, line 3)",
          "traceback": [
            "\u001b[0;36m  File \u001b[0;32m\"<ipython-input-17-12a01f6c9833>\"\u001b[0;36m, line \u001b[0;32m3\u001b[0m\n\u001b[0;31m    if = 10\u001b[0m\n\u001b[0m       ^\u001b[0m\n\u001b[0;31mSyntaxError\u001b[0m\u001b[0;31m:\u001b[0m invalid syntax\n"
          ]
        }
      ]
    },
    {
      "cell_type": "code",
      "source": [
        "clock = int(input(\"Enter time : \"))\n",
        "\n",
        "if clock == 10:\n",
        "  print(\"Temple\")\n",
        "\n",
        "if clock == 3:\n",
        "  print(\"Movie\")\n",
        "\n",
        "if clock == 6:\n",
        "  print(\"Party\")"
      ],
      "metadata": {
        "colab": {
          "base_uri": "https://localhost:8080/"
        },
        "id": "hxzjcYcW5yaG",
        "outputId": "f097cb59-7818-4ec9-f793-6b7250b2775d"
      },
      "execution_count": null,
      "outputs": [
        {
          "output_type": "stream",
          "name": "stdout",
          "text": [
            "Enter time : 10\n",
            "Temple\n"
          ]
        }
      ]
    },
    {
      "cell_type": "code",
      "source": [
        "user_input= int(input(\"Enter number : \"))\n",
        "\n",
        "if user_input > 0:\n",
        "  print(user_input, \" +ve\")\n",
        "\n",
        "if user_input < 0:\n",
        "  print(user_input, \" -ve\")"
      ],
      "metadata": {
        "colab": {
          "base_uri": "https://localhost:8080/"
        },
        "id": "snsXrDVf6SXg",
        "outputId": "052de17d-5c7d-4a3a-c6aa-bb532e3f681c"
      },
      "execution_count": null,
      "outputs": [
        {
          "output_type": "stream",
          "name": "stdout",
          "text": [
            "Enter number : 10\n",
            "10  +ve\n"
          ]
        }
      ]
    },
    {
      "cell_type": "code",
      "source": [
        "clock = int(input(\"Enter time : \"))\n",
        "\n",
        "if clock == 10:\n",
        "  print(\"Temple\")\n",
        "\n",
        "if clock == 3:\n",
        "  print(\"Movie\")\n",
        "\n",
        "if clock == 6:\n",
        "  print(\"Party\")\n",
        "\n",
        "else:   # if any condition fail\n",
        "  print(\"Stay Home Stay Safe\")"
      ],
      "metadata": {
        "colab": {
          "base_uri": "https://localhost:8080/"
        },
        "id": "93nVv7XG7L4K",
        "outputId": "b3e934b9-5fc5-4463-c8a7-e711515867b6"
      },
      "execution_count": null,
      "outputs": [
        {
          "output_type": "stream",
          "name": "stdout",
          "text": [
            "Enter time : 4\n",
            "Stay Home Stay Safe\n"
          ]
        }
      ]
    },
    {
      "cell_type": "code",
      "source": [
        "\n",
        "num = int(input(\"Enter number \"))\n",
        "\n",
        "if num > 0:\n",
        "  print(num,  \" is positive \")\n",
        "else:\n",
        "  print(num,\" is negative\")"
      ],
      "metadata": {
        "colab": {
          "base_uri": "https://localhost:8080/"
        },
        "id": "Jl4QY_jT7gpZ",
        "outputId": "e8ed323e-5021-4cb9-ef26-4afba4708096"
      },
      "execution_count": null,
      "outputs": [
        {
          "output_type": "stream",
          "name": "stdout",
          "text": [
            "Enter number 0\n",
            "0  is negative\n"
          ]
        }
      ]
    },
    {
      "cell_type": "code",
      "source": [
        "if condition:\n",
        "  # code\n",
        "elif condition:\n",
        "  # code\n",
        "else:\n",
        "  # code"
      ],
      "metadata": {
        "id": "-npIT9tQ8gVa"
      },
      "execution_count": null,
      "outputs": []
    },
    {
      "cell_type": "code",
      "source": [
        "\n",
        "num = int(input(\"Enter number \"))\n",
        "\n",
        "if num > 0:\n",
        "  print(num,  \" is positive \")\n",
        "\n",
        "elif num == 0:\n",
        "  print(\"Number is 0\")\n",
        "else:\n",
        "  print(num,\" is negative\")"
      ],
      "metadata": {
        "colab": {
          "base_uri": "https://localhost:8080/"
        },
        "id": "sEVcS8iY83e6",
        "outputId": "d70a405b-bcf1-42c7-9247-a585e53e6c2a"
      },
      "execution_count": null,
      "outputs": [
        {
          "output_type": "stream",
          "name": "stdout",
          "text": [
            "Enter number -9\n",
            "-9  is negative\n"
          ]
        }
      ]
    },
    {
      "cell_type": "code",
      "source": [
        "# read a  number from user to check number is even or odd\n",
        "# Sample Input --> 10\n",
        "# expected output --> 10 is even\n",
        "\n",
        "# Sample Input --> 15\n",
        "# expected output --> 10 is odd\n",
        "\n",
        "# process --> num % 2 == 0 --> if true --> even otherwise --> false"
      ],
      "metadata": {
        "id": "A7Jy3nTe9bcn"
      },
      "execution_count": null,
      "outputs": []
    },
    {
      "cell_type": "code",
      "source": [
        "num = int(input())\n",
        "\n",
        "if num % 2 == 0:\n",
        "  print(num, \" is even\")\n",
        "else:\n",
        "  print(num, \" is odd\")"
      ],
      "metadata": {
        "colab": {
          "base_uri": "https://localhost:8080/"
        },
        "id": "t68hfO0F-XhY",
        "outputId": "940f3c45-4b7a-447d-ef50-0d13e56acaf8"
      },
      "execution_count": null,
      "outputs": [
        {
          "output_type": "stream",
          "name": "stdout",
          "text": [
            "10\n",
            "10  is even\n"
          ]
        }
      ]
    },
    {
      "cell_type": "code",
      "source": [
        "# Read a number from user and check number is accepted or not\n",
        "\n",
        "# Sample Input --> 15\n",
        "# expected output --> 15 is accepted\n",
        "\n",
        "# Sample Input --> 10\n",
        "# expected output --> 10 is rejected\n",
        "\n",
        "# process --> if number is perfectly divisible by 3 and 5 then number is accepted otherwise\n",
        "# number is rejected"
      ],
      "metadata": {
        "id": "U6_IHsew8_z5"
      },
      "execution_count": null,
      "outputs": []
    },
    {
      "cell_type": "code",
      "source": [
        "# and --> when all is needed\n",
        "# or --> when any one is needed\n",
        "\n",
        "num = int(input())\n",
        "if num % 3 == 0 and num % 5 == 0:\n",
        "  print(num, \" is accepted.\")\n",
        "else:\n",
        "  print(num, \" is rejected\")"
      ],
      "metadata": {
        "colab": {
          "base_uri": "https://localhost:8080/"
        },
        "id": "r6eNRtg0-nIb",
        "outputId": "2e3f0ef0-4df5-4052-a4f7-c45ceb41aedd"
      },
      "execution_count": null,
      "outputs": [
        {
          "output_type": "stream",
          "name": "stdout",
          "text": [
            "10\n",
            "10  is rejected\n"
          ]
        }
      ]
    },
    {
      "cell_type": "code",
      "source": [
        "# Read a number from user and check year is a leap year or not\n",
        "\n",
        "# Sample Input --> 2000\n",
        "# expected output --> 2000 is a leap year"
      ],
      "metadata": {
        "id": "EZX4DIiU-yyw"
      },
      "execution_count": null,
      "outputs": []
    },
    {
      "cell_type": "code",
      "source": [
        "year = int(input())\n",
        "if (year % 4 == 0 and year % 100 != 0 ) or year % 400 == 0:\n",
        "  print(year ,  \" is a leap year\")\n",
        "else:\n",
        "  print(year ,  \" is not a leap year\")"
      ],
      "metadata": {
        "colab": {
          "base_uri": "https://localhost:8080/"
        },
        "id": "fQwVLM-o_YA-",
        "outputId": "5dbb1cb2-5b7f-4c98-b4f8-25b962b50962"
      },
      "execution_count": null,
      "outputs": [
        {
          "output_type": "stream",
          "name": "stdout",
          "text": [
            "2000\n",
            "2000  is a leap year\n"
          ]
        }
      ]
    },
    {
      "cell_type": "code",
      "source": [
        "# Requirement based question\n",
        "\n",
        "per < 40  --> fali\n",
        "per >= 40 ---> per class : pass\n",
        "per >= 60 ---> per class : first class\n",
        "per >= 80 ---> per class : merite"
      ],
      "metadata": {
        "id": "vsjudU5FAhDX"
      },
      "execution_count": null,
      "outputs": []
    },
    {
      "cell_type": "code",
      "source": [
        "\n",
        "machine = input(\"On or OFF : (Y/N) \")\n",
        "\n",
        "if machine == \"Y\":\n",
        "\n",
        "  # marks\n",
        "  sub1 = int(input(\"Enter Marks : \"))\n",
        "  sub2 = int(input(\"Enter Marks : \"))\n",
        "  sub3 = int(input(\"Enter Marks : \"))\n",
        "\n",
        "  if sub1 >= 40 and sub2 >= 40 and sub3 >= 40:\n",
        "\n",
        "    # calculate per\n",
        "    percentage = ((sub1+sub2+sub3)*100) / 300\n",
        "\n",
        "    if percentage >= 0 and percentage <= 100:\n",
        "\n",
        "      if percentage >= 40 and percentage < 60:\n",
        "        print(\"Percentage : \", percentage , \" Class : Pass\")\n",
        "\n",
        "      elif percentage >= 60 and percentage < 80:\n",
        "        print(\"Percentage : \", percentage , \" Class : First Class\")\n",
        "\n",
        "      elif percentage >= 80 and percentage <= 100:\n",
        "        print(\"Percentage : \", percentage , \" Class : Merit\")\n",
        "\n",
        "    else:\n",
        "      print(\"Tum se naa ho payee...\")\n",
        "\n",
        "  else:\n",
        "    print(\"Try again...\")\n",
        "\n",
        "elif machine == \"N\":\n",
        "  print(\"Turn Off...\")"
      ],
      "metadata": {
        "colab": {
          "base_uri": "https://localhost:8080/"
        },
        "id": "ncpEp3ORDb0w",
        "outputId": "bc8f2d80-9d75-41f3-884a-7acaeb068203"
      },
      "execution_count": null,
      "outputs": [
        {
          "output_type": "stream",
          "name": "stdout",
          "text": [
            "On or OFF : (Y/N) Y\n",
            "Enter Marks : 100\n",
            "Enter Marks : 100\n",
            "Enter Marks : 100\n",
            "Percentage :  100.0  Class : Merit\n"
          ]
        }
      ]
    },
    {
      "cell_type": "markdown",
      "source": [
        "**Looping**"
      ],
      "metadata": {
        "id": "-Czk-8_JHQNr"
      }
    },
    {
      "cell_type": "code",
      "source": [
        "# for loop\n",
        "# while loop"
      ],
      "metadata": {
        "id": "krwTOipmGrU8"
      },
      "execution_count": null,
      "outputs": []
    },
    {
      "cell_type": "code",
      "source": [
        "while condition:\n",
        "  pass"
      ],
      "metadata": {
        "id": "GxDfIvQNIU6b"
      },
      "execution_count": null,
      "outputs": []
    },
    {
      "cell_type": "code",
      "source": [
        "# 1, 2, 3, 4, 5, 6, 7, 8, 9, 10\n",
        "\n",
        "start = 1\n",
        "# starting --> included, ending --> exluded\n",
        "\n",
        "while start < 10+1 :  # start <= 10  //  start < 11\n",
        "  print(start)\n",
        "  start = start + 1"
      ],
      "metadata": {
        "colab": {
          "base_uri": "https://localhost:8080/"
        },
        "id": "Xn_oDxzQIaEl",
        "outputId": "7fcc1abf-ba6d-498a-a73f-22bfaea050ab"
      },
      "execution_count": null,
      "outputs": [
        {
          "output_type": "stream",
          "name": "stdout",
          "text": [
            "1\n",
            "2\n",
            "3\n",
            "4\n",
            "5\n",
            "6\n",
            "7\n",
            "8\n",
            "9\n",
            "10\n"
          ]
        }
      ]
    },
    {
      "cell_type": "code",
      "source": [
        "# 10, ......0\n",
        "\n",
        "start = 10\n",
        "while start >= 0:\n",
        "  print(start)\n",
        "  start -= 1"
      ],
      "metadata": {
        "colab": {
          "base_uri": "https://localhost:8080/"
        },
        "id": "KRfuFwQwJ7sm",
        "outputId": "25a3b70c-1e73-44de-dc79-f6fd61af12b0"
      },
      "execution_count": null,
      "outputs": [
        {
          "output_type": "stream",
          "name": "stdout",
          "text": [
            "10\n",
            "9\n",
            "8\n",
            "7\n",
            "6\n",
            "5\n",
            "4\n",
            "3\n",
            "2\n",
            "1\n",
            "0\n"
          ]
        }
      ]
    },
    {
      "cell_type": "code",
      "source": [
        "# count the digits\n",
        "# Sample input --> 12345\n",
        "# Expected output --> count : 5"
      ],
      "metadata": {
        "id": "nXyFatqsKbiY"
      },
      "execution_count": null,
      "outputs": []
    },
    {
      "cell_type": "code",
      "source": [
        "import time\n",
        "\n",
        "num = int(input())\n",
        "count = 0\n",
        "while num != 0:\n",
        "  time.sleep(4)\n",
        "  print(num, \"count -> \", count )\n",
        "  count += 1\n",
        "  num //= 10\n",
        "\n",
        "print(\"Final answer is : \", count)"
      ],
      "metadata": {
        "colab": {
          "base_uri": "https://localhost:8080/"
        },
        "id": "RDjXHK3ePx30",
        "outputId": "9dc20e0f-7fb2-40ac-9867-fe0d6e7d237b"
      },
      "execution_count": null,
      "outputs": [
        {
          "output_type": "stream",
          "name": "stdout",
          "text": [
            "4444444\n",
            "4444444 count ->  0\n",
            "444444 count ->  1\n",
            "44444 count ->  2\n",
            "4444 count ->  3\n",
            "444 count ->  4\n",
            "44 count ->  5\n",
            "4 count ->  6\n",
            "Final answer is :  7\n"
          ]
        }
      ]
    },
    {
      "cell_type": "code",
      "source": [
        "# count the digits\n",
        "# Sample input --> 12345\n",
        "# Expected output --> addition : 15"
      ],
      "metadata": {
        "id": "s3HhM1WZQ7xM"
      },
      "execution_count": null,
      "outputs": []
    },
    {
      "cell_type": "code",
      "source": [
        "\n",
        "num = 12234\n",
        "sum = 0\n",
        "while num > 0:\n",
        "  sum += num % 10\n",
        "  num //= 10\n",
        "  print(\"sum --> \", sum)\n",
        "\n",
        "print(\"final answer is : \", sum)"
      ],
      "metadata": {
        "colab": {
          "base_uri": "https://localhost:8080/"
        },
        "id": "zh0D7VSeUO2Y",
        "outputId": "a2aeb858-a2a2-4675-cf97-fdfec296e6d7"
      },
      "execution_count": null,
      "outputs": [
        {
          "output_type": "stream",
          "name": "stdout",
          "text": [
            "sum -->  4\n",
            "sum -->  7\n",
            "sum -->  9\n",
            "sum -->  11\n",
            "sum -->  12\n",
            "final answer is :  12\n"
          ]
        }
      ]
    },
    {
      "cell_type": "code",
      "source": [
        "# reverse a number\n",
        "# Sample input --> 12345\n",
        "# Expected output --> rev : 54321"
      ],
      "metadata": {
        "id": "eCHizbOJSicw"
      },
      "execution_count": null,
      "outputs": []
    },
    {
      "cell_type": "code",
      "source": [
        "\n",
        "num = 12234\n",
        "rev = 0\n",
        "while num > 0:\n",
        "  rev = rev * 10 + num % 10\n",
        "  num //= 10\n",
        "  print(\"sum --> \", rev)\n",
        "\n",
        "print(\"final answer is : \", rev)"
      ],
      "metadata": {
        "colab": {
          "base_uri": "https://localhost:8080/"
        },
        "id": "Z1HvmmyGWc3e",
        "outputId": "5068e3da-583f-4556-9402-b252dca3eb55"
      },
      "execution_count": null,
      "outputs": [
        {
          "output_type": "stream",
          "name": "stdout",
          "text": [
            "sum -->  4\n",
            "sum -->  43\n",
            "sum -->  432\n",
            "sum -->  4322\n",
            "sum -->  43221\n",
            "final answer is :  43221\n"
          ]
        }
      ]
    },
    {
      "cell_type": "code",
      "source": [
        "# Read number from user to check number is palindrome or not\n",
        "# Sample -> 12321\n",
        "# expected --> 12321 is palindrome\n",
        "\n",
        "# Sample -> 123211\n",
        "# expected --> 112321 is not palindrome"
      ],
      "metadata": {
        "id": "1y-bPuXJWoVj"
      },
      "execution_count": null,
      "outputs": []
    },
    {
      "cell_type": "code",
      "source": [
        "\n",
        "num = 1223221\n",
        "original_num = num\n",
        "rev = 0\n",
        "while num > 0:\n",
        "  rev = rev * 10 + num % 10\n",
        "  num //= 10\n",
        "\n",
        "if original_num == rev:\n",
        "  print(original_num, \" is palindrome\")\n",
        "else:\n",
        "  print(original_num, \"is not palindrome\")"
      ],
      "metadata": {
        "colab": {
          "base_uri": "https://localhost:8080/"
        },
        "id": "FkHlB6c6XbYl",
        "outputId": "9920c10f-9984-48ed-a544-2e622de6e33c"
      },
      "execution_count": null,
      "outputs": [
        {
          "output_type": "stream",
          "name": "stdout",
          "text": [
            "1223221  is palindrome\n"
          ]
        }
      ]
    },
    {
      "cell_type": "code",
      "source": [
        "# for loop\n",
        "\n",
        "for <var> in collection_dataType:\n",
        "  print()"
      ],
      "metadata": {
        "id": "tDncFDdWXvcx"
      },
      "execution_count": null,
      "outputs": []
    },
    {
      "cell_type": "code",
      "source": [
        "a = range(10)\n",
        "print(type(a))"
      ],
      "metadata": {
        "colab": {
          "base_uri": "https://localhost:8080/"
        },
        "id": "G0XQbOJUYEvC",
        "outputId": "3dc0382d-e897-4833-d5cf-d7ce62f49f9c"
      },
      "execution_count": null,
      "outputs": [
        {
          "output_type": "stream",
          "name": "stdout",
          "text": [
            "<class 'range'>\n"
          ]
        }
      ]
    },
    {
      "cell_type": "code",
      "source": [
        "a"
      ],
      "metadata": {
        "colab": {
          "base_uri": "https://localhost:8080/"
        },
        "id": "bah2noVfYOjc",
        "outputId": "4f6defdf-45d3-49a9-91d0-cdbe0b146da1"
      },
      "execution_count": null,
      "outputs": [
        {
          "output_type": "execute_result",
          "data": {
            "text/plain": [
              "range(0, 10)"
            ]
          },
          "metadata": {},
          "execution_count": 56
        }
      ]
    },
    {
      "cell_type": "code",
      "source": [
        "range(starting/initialization, condition, increment/decrement/step)\n",
        "\n",
        "starting --> optional --> by default --> 0\n",
        "condition --> mandatory\n",
        "step --> by default --> +1 --> optional"
      ],
      "metadata": {
        "id": "qiX5GbseYS0U"
      },
      "execution_count": null,
      "outputs": []
    },
    {
      "cell_type": "code",
      "source": [
        "a = range(1, 10, 1)"
      ],
      "metadata": {
        "id": "YgGF53XTYfbd"
      },
      "execution_count": null,
      "outputs": []
    },
    {
      "cell_type": "code",
      "source": [
        "a"
      ],
      "metadata": {
        "colab": {
          "base_uri": "https://localhost:8080/"
        },
        "id": "6H2H4DiKYvVl",
        "outputId": "d38add62-484a-44e9-e0fb-5b26c3137f99"
      },
      "execution_count": null,
      "outputs": [
        {
          "output_type": "execute_result",
          "data": {
            "text/plain": [
              "range(1, 10)"
            ]
          },
          "metadata": {},
          "execution_count": 58
        }
      ]
    },
    {
      "cell_type": "code",
      "source": [
        "for x in range(10):\n",
        "  print(x)"
      ],
      "metadata": {
        "colab": {
          "base_uri": "https://localhost:8080/"
        },
        "id": "ZS29uFCsYwC5",
        "outputId": "2be4b94b-3e5a-4f2d-b332-2ff7b6dbb6d7"
      },
      "execution_count": null,
      "outputs": [
        {
          "output_type": "stream",
          "name": "stdout",
          "text": [
            "0\n",
            "1\n",
            "2\n",
            "3\n",
            "4\n",
            "5\n",
            "6\n",
            "7\n",
            "8\n",
            "9\n"
          ]
        }
      ]
    },
    {
      "cell_type": "code",
      "source": [
        "for x in range(1, 10+1):\n",
        "  print(x)"
      ],
      "metadata": {
        "colab": {
          "base_uri": "https://localhost:8080/"
        },
        "id": "hrc3fMbxZBAT",
        "outputId": "d34619d2-2684-48ac-cf54-a77652016850"
      },
      "execution_count": null,
      "outputs": [
        {
          "output_type": "stream",
          "name": "stdout",
          "text": [
            "1\n",
            "2\n",
            "3\n",
            "4\n",
            "5\n",
            "6\n",
            "7\n",
            "8\n",
            "9\n",
            "10\n"
          ]
        }
      ]
    },
    {
      "cell_type": "code",
      "source": [
        "for x in range(10):\n",
        "  print(\"at \" , x, \" we have : \", x+1)"
      ],
      "metadata": {
        "colab": {
          "base_uri": "https://localhost:8080/"
        },
        "id": "mpu5HW7xZEMb",
        "outputId": "3bdae14b-9f65-4b19-e093-5fa9b3afd54a"
      },
      "execution_count": null,
      "outputs": [
        {
          "output_type": "stream",
          "name": "stdout",
          "text": [
            "at  0  we have :  1\n",
            "at  1  we have :  2\n",
            "at  2  we have :  3\n",
            "at  3  we have :  4\n",
            "at  4  we have :  5\n",
            "at  5  we have :  6\n",
            "at  6  we have :  7\n",
            "at  7  we have :  8\n",
            "at  8  we have :  9\n",
            "at  9  we have :  10\n"
          ]
        }
      ]
    },
    {
      "cell_type": "code",
      "source": [],
      "metadata": {
        "id": "wAJDUBmxZPPU"
      },
      "execution_count": null,
      "outputs": []
    }
  ]
}