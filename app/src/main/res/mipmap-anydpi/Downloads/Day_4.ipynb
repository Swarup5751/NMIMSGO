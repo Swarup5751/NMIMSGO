{
  "cells": [
    {
      "cell_type": "code",
      "execution_count": null,
      "metadata": {
        "id": "iRS9BDhTZVlQ"
      },
      "outputs": [],
      "source": [
        "# Function\n",
        "\n",
        "def shaadi():\n",
        "  ''' create a function'''\n",
        "  print(\"Vijay weds Rashamika\")"
      ]
    },
    {
      "cell_type": "code",
      "execution_count": null,
      "metadata": {
        "colab": {
          "base_uri": "https://localhost:8080/"
        },
        "id": "zzudDlHhadoN",
        "outputId": "877aa786-5b12-4ef7-a46a-ee261c65f27a"
      },
      "outputs": [
        {
          "name": "stdout",
          "output_type": "stream",
          "text": [
            "Vijay weds Rashamika\n"
          ]
        }
      ],
      "source": [
        "shaadi()"
      ]
    },
    {
      "cell_type": "code",
      "execution_count": null,
      "metadata": {
        "id": "uq_eKf2Kadq5"
      },
      "outputs": [],
      "source": [
        "# 1. positional\n",
        "# 2. default\n",
        "# 3. key, value\n",
        "# 4. length size"
      ]
    },
    {
      "cell_type": "code",
      "execution_count": null,
      "metadata": {
        "id": "BvvzwlyEadt5"
      },
      "outputs": [],
      "source": [
        "# 1. positional argument\n",
        "\n",
        "\n",
        "def shaadi(g, b):\n",
        "  print(g , \" weds \", b)"
      ]
    },
    {
      "cell_type": "code",
      "execution_count": null,
      "metadata": {
        "colab": {
          "base_uri": "https://localhost:8080/"
        },
        "id": "n8akv_qaadwg",
        "outputId": "eba2c86e-b88f-4682-c7a6-bef92bf2a97b"
      },
      "outputs": [
        {
          "name": "stdout",
          "output_type": "stream",
          "text": [
            "9tara  weds  prajapati\n"
          ]
        }
      ],
      "source": [
        "shaadi(\"9tara\", \"prajapati\")"
      ]
    },
    {
      "cell_type": "code",
      "execution_count": null,
      "metadata": {
        "colab": {
          "base_uri": "https://localhost:8080/"
        },
        "id": "4IEvE65eadzn",
        "outputId": "2ce977cf-60fa-4298-b18e-2018d6d22a5b"
      },
      "outputs": [
        {
          "name": "stdout",
          "output_type": "stream",
          "text": [
            "3sha  weds  prajapati\n"
          ]
        }
      ],
      "source": [
        "shaadi(\"3sha\", \"prajapati\")"
      ]
    },
    {
      "cell_type": "code",
      "execution_count": null,
      "metadata": {
        "id": "Z7FzszVNad2l"
      },
      "outputs": [],
      "source": [
        "def intro(name, gender):\n",
        "  print(\"name : \", name, \"\\ngender : \", gender )"
      ]
    },
    {
      "cell_type": "code",
      "execution_count": null,
      "metadata": {
        "colab": {
          "base_uri": "https://localhost:8080/"
        },
        "id": "pLYOQ4-Mad59",
        "outputId": "f108252a-ef14-4139-d498-b609837541b7"
      },
      "outputs": [
        {
          "name": "stdout",
          "output_type": "stream",
          "text": [
            "name :  Dhanraj \n",
            "gender :  Male\n"
          ]
        }
      ],
      "source": [
        "intro(\"Dhanraj\", \"Male\")"
      ]
    },
    {
      "cell_type": "code",
      "execution_count": null,
      "metadata": {
        "colab": {
          "base_uri": "https://localhost:8080/"
        },
        "id": "EPiyG0d3feMs",
        "outputId": "be932209-dff0-457c-e32d-93af8f3a9b57"
      },
      "outputs": [
        {
          "name": "stdout",
          "output_type": "stream",
          "text": [
            "name :  Male \n",
            "gender :  Dhanraj\n"
          ]
        }
      ],
      "source": [
        "intro(\"Male\", \"Dhanraj\")"
      ]
    },
    {
      "cell_type": "code",
      "execution_count": null,
      "metadata": {
        "id": "tHZb07Kqfj-d"
      },
      "outputs": [],
      "source": [
        "def intro(name, gender):\n",
        "  print(\"name : \", name, \"\\ngender : \", gender )"
      ]
    },
    {
      "cell_type": "code",
      "execution_count": null,
      "metadata": {
        "colab": {
          "base_uri": "https://localhost:8080/"
        },
        "id": "BWLuyVPKfyM1",
        "outputId": "42ba22e9-bd25-4dd3-a8e8-e3ec9382bf89"
      },
      "outputs": [
        {
          "name": "stdout",
          "output_type": "stream",
          "text": [
            "Enter gender : male\n",
            "Enter namedhanraj\n",
            "name :  dhanraj \n",
            "gender :  male\n"
          ]
        }
      ],
      "source": [
        "user_gender = input(\"Enter gender : \")\n",
        "user_name = input(\"Enter name\")\n",
        "intro(name = user_name, gender = user_gender)"
      ]
    },
    {
      "cell_type": "code",
      "execution_count": null,
      "metadata": {
        "id": "PDxXpQZOgAmB"
      },
      "outputs": [],
      "source": [
        "def intro(name, dream):\n",
        "  print(\"name : \", name ,  \" Dream : \", dream)"
      ]
    },
    {
      "cell_type": "code",
      "execution_count": null,
      "metadata": {
        "colab": {
          "base_uri": "https://localhost:8080/",
          "height": 141
        },
        "id": "K_vL84j1gSaE",
        "outputId": "b749074e-4990-4838-baee-a7d269eadfa3"
      },
      "outputs": [
        {
          "ename": "TypeError",
          "evalue": "intro() missing 1 required positional argument: 'dream'",
          "output_type": "error",
          "traceback": [
            "\u001b[0;31m---------------------------------------------------------------------------\u001b[0m",
            "\u001b[0;31mTypeError\u001b[0m                                 Traceback (most recent call last)",
            "\u001b[0;32m<ipython-input-12-780685e790d1>\u001b[0m in \u001b[0;36m<cell line: 1>\u001b[0;34m()\u001b[0m\n\u001b[0;32m----> 1\u001b[0;31m \u001b[0mintro\u001b[0m\u001b[0;34m(\u001b[0m\u001b[0;34m\"dhanraj\"\u001b[0m\u001b[0;34m)\u001b[0m\u001b[0;34m\u001b[0m\u001b[0;34m\u001b[0m\u001b[0m\n\u001b[0m",
            "\u001b[0;31mTypeError\u001b[0m: intro() missing 1 required positional argument: 'dream'"
          ]
        }
      ],
      "source": [
        "intro(\"dhanraj\")"
      ]
    },
    {
      "cell_type": "code",
      "execution_count": null,
      "metadata": {
        "id": "yiF3-9qOgbX1"
      },
      "outputs": [],
      "source": [
        "def intro(name, dream = \"Engineer\") :\n",
        "  print(\"name : \", name ,  \" Dream : \", dream)"
      ]
    },
    {
      "cell_type": "code",
      "execution_count": null,
      "metadata": {
        "colab": {
          "base_uri": "https://localhost:8080/"
        },
        "id": "CFDG2ppigmL8",
        "outputId": "48dcd401-0a50-488f-ab6d-358fa544fa94"
      },
      "outputs": [
        {
          "name": "stdout",
          "output_type": "stream",
          "text": [
            "name :  dhanraj  Dream :  Engineer\n"
          ]
        }
      ],
      "source": [
        "intro(\"dhanraj\")"
      ]
    },
    {
      "cell_type": "code",
      "execution_count": null,
      "metadata": {
        "colab": {
          "base_uri": "https://localhost:8080/"
        },
        "id": "it4XODh-gntV",
        "outputId": "ca23419f-5371-42c5-a226-4916254fb079"
      },
      "outputs": [
        {
          "name": "stdout",
          "output_type": "stream",
          "text": [
            "name :  dhanraj  Dream :  s/w developer\n"
          ]
        }
      ],
      "source": [
        "intro(\"dhanraj\", \"s/w developer\")"
      ]
    },
    {
      "cell_type": "code",
      "execution_count": null,
      "metadata": {
        "colab": {
          "base_uri": "https://localhost:8080/"
        },
        "id": "DOO7_WqbgqRy",
        "outputId": "186b3d7e-5d9a-4a9a-9ab0-7c2e3f107238"
      },
      "outputs": [
        {
          "name": "stdout",
          "output_type": "stream",
          "text": [
            "Enter : gaming writing travel\n",
            "('gaming writing travel',) <class 'tuple'>\n"
          ]
        }
      ],
      "source": [
        "def hobbies(*hobby):\n",
        "  print(hobby, type(hobby))\n",
        "\n",
        "\n",
        "\n",
        "hobbies(input(\"Enter : \"))"
      ]
    },
    {
      "cell_type": "code",
      "execution_count": null,
      "metadata": {
        "colab": {
          "base_uri": "https://localhost:8080/"
        },
        "id": "9kz93zp_hEqw",
        "outputId": "1c1c983f-e9cb-4944-c8f3-a3c7dcf8c4af"
      },
      "outputs": [
        {
          "output_type": "stream",
          "name": "stdout",
          "text": [
            "Enter : developing\n",
            "Enter : travel\n",
            "Enter : playing\n",
            "Enter : \n",
            "1. developing\n",
            "2. travel\n",
            "3. playing\n"
          ]
        }
      ],
      "source": [
        "def hobbies(*hobby):\n",
        "\n",
        "  counter = 1\n",
        "  for h in hobby:\n",
        "    print(f\"{counter}. {h}\")\n",
        "    counter += 1\n",
        "\n",
        "l = []\n",
        "while True:\n",
        "  hobby = input(\"Enter : \")\n",
        "\n",
        "  if hobby == '':\n",
        "    break\n",
        "  else:\n",
        "    l.append(hobby)\n",
        "\n",
        "\n",
        "hobbies(*l)"
      ]
    },
    {
      "cell_type": "code",
      "execution_count": null,
      "metadata": {
        "id": "aMYud8G6hw7h"
      },
      "outputs": [],
      "source": [
        "def addition(num1, num2):\n",
        "  print(f\"Addition of {num1} and {num2} is : {num1 + num2}\")"
      ]
    },
    {
      "cell_type": "code",
      "execution_count": null,
      "metadata": {
        "colab": {
          "base_uri": "https://localhost:8080/"
        },
        "id": "sRzYD80GjxMf",
        "outputId": "1a310b74-b9a2-4e5d-dabd-309025879a6a"
      },
      "outputs": [
        {
          "name": "stdout",
          "output_type": "stream",
          "text": [
            "Addition of 10 and 20 is : 30\n"
          ]
        }
      ],
      "source": [
        "addition(10, 20)"
      ]
    },
    {
      "cell_type": "code",
      "execution_count": null,
      "metadata": {
        "colab": {
          "base_uri": "https://localhost:8080/"
        },
        "id": "wAKODhOBj1a8",
        "outputId": "44699960-65ad-44d8-f7db-2351551c4ea2"
      },
      "outputs": [
        {
          "name": "stdout",
          "output_type": "stream",
          "text": [
            "Addition of 20 and 20 is : 40\n",
            "None\n"
          ]
        }
      ],
      "source": [
        "result = addition(20, 20)\n",
        "print(result)"
      ]
    },
    {
      "cell_type": "code",
      "execution_count": null,
      "metadata": {
        "colab": {
          "base_uri": "https://localhost:8080/"
        },
        "id": "dw7q2bcekBnT",
        "outputId": "929b3275-e750-41fd-ab19-4b1200b0291f"
      },
      "outputs": [
        {
          "name": "stdout",
          "output_type": "stream",
          "text": [
            "Addition of 30 and 40 is : 70\n",
            "None\n"
          ]
        }
      ],
      "source": [
        "print(addition(30, 40))"
      ]
    },
    {
      "cell_type": "code",
      "execution_count": null,
      "metadata": {
        "id": "fEeJzccOkH4Q"
      },
      "outputs": [],
      "source": [
        "def addition1(num1, num2):\n",
        "  return f\"Addition of {num1} and {num2} is : {num1 + num2}\""
      ]
    },
    {
      "cell_type": "code",
      "execution_count": null,
      "metadata": {
        "colab": {
          "base_uri": "https://localhost:8080/"
        },
        "id": "oESXH8ELkOiZ",
        "outputId": "bf4dffc6-0b83-4eba-f7dc-0e19db331b3e"
      },
      "outputs": [
        {
          "name": "stdout",
          "output_type": "stream",
          "text": [
            "Addition of 30 and 40 is : 70\n"
          ]
        }
      ],
      "source": [
        "print(addition(30, 40))"
      ]
    },
    {
      "cell_type": "code",
      "execution_count": null,
      "metadata": {
        "id": "qdKrph8KkR6c"
      },
      "outputs": [],
      "source": [
        "result = addition1(10, 10)"
      ]
    },
    {
      "cell_type": "code",
      "execution_count": null,
      "metadata": {
        "colab": {
          "base_uri": "https://localhost:8080/"
        },
        "id": "Hmv3YnRwkVGk",
        "outputId": "b2aaeb97-08b4-4e79-dde3-7f6ea562067a"
      },
      "outputs": [
        {
          "name": "stdout",
          "output_type": "stream",
          "text": [
            "Addition of 10 and 10 is : 20\n"
          ]
        }
      ],
      "source": [
        "print(result)"
      ]
    },
    {
      "cell_type": "code",
      "execution_count": null,
      "metadata": {
        "id": "pSH_4Tu8kWM8"
      },
      "outputs": [],
      "source": [
        "2.\tFind the Second Largest Element:\n",
        "○\tQuestion: Find the second largest element in an array.\n",
        "○\tLogic: Initialize two variables to store the largest and second-largest elements and iterate through the array.\n",
        "○\tSample Input: [7, 3, 9, 2, 8]\n",
        "○\tExpected Output: Second Largest: 8\n"
      ]
    },
    {
      "cell_type": "code",
      "execution_count": null,
      "metadata": {
        "colab": {
          "base_uri": "https://localhost:8080/"
        },
        "id": "Jw9yzD2YkwAS",
        "outputId": "2d441a37-3bd4-4735-dff2-135ea38b53e9"
      },
      "outputs": [
        {
          "name": "stdout",
          "output_type": "stream",
          "text": [
            "8\n"
          ]
        }
      ],
      "source": [
        "def second_largest(list):\n",
        "  result = sorted(set(list))\n",
        "  return result[-2]\n",
        "\n",
        "\n",
        "\n",
        "print( second_largest([7, 3, 9, 2, 8, 8, 8, 9, 9, 9]))"
      ]
    },
    {
      "cell_type": "code",
      "execution_count": null,
      "metadata": {
        "colab": {
          "base_uri": "https://localhost:8080/"
        },
        "id": "vWQ3lhvbmWng",
        "outputId": "ebd0ca02-3aa4-4753-bf3a-acb8fa6c4671"
      },
      "outputs": [
        {
          "name": "stdout",
          "output_type": "stream",
          "text": [
            "9\n"
          ]
        }
      ],
      "source": [
        "# ○\tSample Input: [7, 3, 9, 2, 8, 8, 8, 9, 9, 9]\n",
        "# ○\tExpected Output: Second Largest: 9\n",
        "\n",
        "\n",
        "def second_largest(list):\n",
        "  result = sorted(list)\n",
        "  return result[-2]\n",
        "\n",
        "\n",
        "\n",
        "print( second_largest([7, 3, 9, 2, 8, 8, 8, 9, 9, 9]))"
      ]
    },
    {
      "cell_type": "code",
      "execution_count": null,
      "metadata": {
        "id": "IHiWojf_mvJG"
      },
      "outputs": [],
      "source": [
        "3.\tRemove Duplicates from Unsorted Array:\n",
        "○\tQuestion: Write a function to remove duplicates from an unsorted array.\n",
        "○\tLogic: Use a hash set to keep track of unique elements as you iterate through the array.\n",
        "○\tSample Input: [3, 2, 3, 1, 2, 4]\n",
        "○\tExpected Output: [3, 2, 1, 4]\n"
      ]
    },
    {
      "cell_type": "code",
      "execution_count": null,
      "metadata": {
        "id": "KR5IId7Hm8XX"
      },
      "outputs": [],
      "source": [
        "5.\tIntersection of Two Arrays:\n",
        "○\tQuestion: Find the intersection of two arrays.\n",
        "○\tLogic: Use a hash set to store one array's elements and check for common elements in the second array.\n",
        "○\tSample Input: [1, 2, 2, 1] and [2, 2]\n",
        "○\tExpected Output: [2]\n"
      ]
    },
    {
      "cell_type": "code",
      "execution_count": null,
      "metadata": {
        "id": "lyMSQL04pE41"
      },
      "outputs": [],
      "source": []
    },
    {
      "cell_type": "code",
      "execution_count": null,
      "metadata": {
        "colab": {
          "base_uri": "https://localhost:8080/"
        },
        "id": "ZitwURTEpMXP",
        "outputId": "214d4178-3f0f-4f4d-eb31-d6255dbc5dd0"
      },
      "outputs": [
        {
          "name": "stdout",
          "output_type": "stream",
          "text": [
            "{1, 2, 4}\n"
          ]
        }
      ],
      "source": [
        "s = {1, 2, 3, 4}\n",
        "s2 = {1, 4, 2, 5}\n",
        "print(s & s2)"
      ]
    },
    {
      "cell_type": "code",
      "execution_count": null,
      "metadata": {
        "colab": {
          "base_uri": "https://localhost:8080/"
        },
        "id": "sKJtOlS-pUDU",
        "outputId": "42b6ed91-2acc-4d0e-a44f-6e3eed0d8498"
      },
      "outputs": [
        {
          "name": "stdout",
          "output_type": "stream",
          "text": [
            "{3}\n"
          ]
        }
      ],
      "source": [
        "print(s - s2)"
      ]
    },
    {
      "cell_type": "code",
      "execution_count": null,
      "metadata": {
        "colab": {
          "base_uri": "https://localhost:8080/"
        },
        "id": "e3StxFgvpXw-",
        "outputId": "7f50a73c-b272-4b06-fcd3-599a7021281b"
      },
      "outputs": [
        {
          "data": {
            "text/plain": [
              "{1, 2}"
            ]
          },
          "execution_count": 44,
          "metadata": {},
          "output_type": "execute_result"
        }
      ],
      "source": [
        "def intersection(list1, list2):\n",
        "  return set(list1) & set(list2)\n",
        "\n",
        "\n",
        "intersection([1, 2, 2, 1], [1, 2])"
      ]
    },
    {
      "cell_type": "code",
      "execution_count": null,
      "metadata": {
        "colab": {
          "base_uri": "https://localhost:8080/"
        },
        "id": "ziiwBEpSpqua",
        "outputId": "f26c724d-db96-494f-fb0f-410762f853a6"
      },
      "outputs": [
        {
          "data": {
            "text/plain": [
              "{1, 2}"
            ]
          },
          "execution_count": 46,
          "metadata": {},
          "output_type": "execute_result"
        }
      ],
      "source": [
        "def intersection(list1, list2):\n",
        "\n",
        "  if len(list1) <= 0 and len(list2) <= 0:\n",
        "    return \"List is empty\"\n",
        "\n",
        "  result_list = []\n",
        "  for num in list1:\n",
        "    if num in list2:\n",
        "      result_list.append(num)\n",
        "\n",
        "  return set(result_list)\n",
        "\n",
        "\n",
        "intersection([1, 2, 2, 1], [1, 2])"
      ]
    },
    {
      "cell_type": "code",
      "execution_count": null,
      "metadata": {
        "id": "prsrFUdIqVRb"
      },
      "outputs": [],
      "source": [
        "# find first occurrence\n",
        "\n",
        "Sample Test Case 1 : s1 = \"Hello, Python\",    s2 = \"Python\"\n",
        "Expected output    : 7\n",
        "\n",
        "Sample Test Case 1 : s1 = \"Hello, world\",    s2 = \"Java\"\n",
        "Expected output    : -1\n",
        "\n",
        "Sample Test Case 1 : s1 = \"\",    s2 = \"\"\n",
        "Expected output    : -1"
      ]
    },
    {
      "cell_type": "code",
      "execution_count": null,
      "metadata": {
        "id": "fSSE9dcrsVQi"
      },
      "outputs": [],
      "source": [
        "def first_occurrence(s1, s2):\n",
        "  if len(s1) <= 0 and len(s2) <= 0:\n",
        "    return -1\n",
        "  return s1.find(s2)\n",
        "\n",
        "s1 = \"Hello, Python\"\n",
        "s2 = \"Python\""
      ]
    },
    {
      "cell_type": "code",
      "execution_count": null,
      "metadata": {
        "colab": {
          "base_uri": "https://localhost:8080/"
        },
        "id": "36ocMlqrtVAL",
        "outputId": "c0cea97e-4145-4802-cfb0-b0e665175dd5"
      },
      "outputs": [
        {
          "data": {
            "text/plain": [
              "7"
            ]
          },
          "execution_count": 53,
          "metadata": {},
          "output_type": "execute_result"
        }
      ],
      "source": [
        "first_occurrence(s1, s2)"
      ]
    },
    {
      "cell_type": "code",
      "execution_count": null,
      "metadata": {
        "colab": {
          "base_uri": "https://localhost:8080/"
        },
        "id": "dp7KmOXJtXbp",
        "outputId": "a54b9a45-30f9-431f-deaa-5fe8f2eda881"
      },
      "outputs": [
        {
          "data": {
            "text/plain": [
              "7"
            ]
          },
          "execution_count": 54,
          "metadata": {},
          "output_type": "execute_result"
        }
      ],
      "source": [
        "def first_occurrence(s1, s2):\n",
        "  if len(s1) <= 0 and len(s2) <= 0:\n",
        "    return -1\n",
        "\n",
        "  for letter in range(len(s1)):\n",
        "    if s1[letter] == s2[0]:\n",
        "      return letter\n",
        "\n",
        "s1 = \"Hello, Python\"\n",
        "s2 = \"Python\"\n",
        "\n",
        "first_occurrence(s1, s2)"
      ]
    },
    {
      "cell_type": "code",
      "execution_count": null,
      "metadata": {
        "id": "-PZRJzEwt7WX"
      },
      "outputs": [],
      "source": [
        "11.\tMove Zeros to the End:\n",
        "○\tQuestion: Given an array, move all the zeros to the end without changing the order of non-zero elements.\n",
        "○\tLogic: Iterate through the array, moving non-zero elements to the front and filling the remaining space with zeros.\n",
        "○\tSample Input: [0, 1, 0, 3, 12]\n",
        "○\tExpected Output: [1, 3, 12, 0, 0]\n"
      ]
    },
    {
      "cell_type": "code",
      "execution_count": null,
      "metadata": {
        "colab": {
          "base_uri": "https://localhost:8080/"
        },
        "id": "FqcSK0cHwOmB",
        "outputId": "f491ddf6-d8c6-4e29-9c5f-2972ce36f574"
      },
      "outputs": [
        {
          "output_type": "execute_result",
          "data": {
            "text/plain": [
              "[1, 3, 12, 0, 0]"
            ]
          },
          "metadata": {},
          "execution_count": 2
        }
      ],
      "source": [
        "def moves_zeros(list):\n",
        "  position = 0\n",
        "  for index in list:\n",
        "        if index != 0:\n",
        "            list[position] = index\n",
        "            position += 1\n",
        "\n",
        "  for i in range(position, len(list)):\n",
        "      list[i] = 0\n",
        "\n",
        "  return list\n",
        "\n",
        "\n",
        "moves_zeros([0, 1, 0, 3, 12])"
      ]
    },
    {
      "cell_type": "code",
      "execution_count": null,
      "metadata": {
        "colab": {
          "base_uri": "https://localhost:8080/"
        },
        "id": "vQ0bz8gzxB1N",
        "outputId": "bd9fcfd9-f9c4-4ed0-b010-6659ba8d2afe"
      },
      "outputs": [
        {
          "output_type": "execute_result",
          "data": {
            "text/plain": [
              "[1, 3, 12, 0, 0]"
            ]
          },
          "metadata": {},
          "execution_count": 3
        }
      ],
      "source": [
        "def moves_zeros(list):\n",
        "  position = 0\n",
        "  for index in list:\n",
        "        if index != 0:\n",
        "            list[position] = index\n",
        "            position += 1\n",
        "\n",
        "  for i in range(position, len(list)):\n",
        "      list[i] = 0\n",
        "\n",
        "  return list\n",
        "\n",
        "\n",
        "moves_zeros([0, 1, 0, 3, 12])"
      ]
    },
    {
      "cell_type": "code",
      "execution_count": null,
      "metadata": {
        "id": "-I7A4bjOyUdS"
      },
      "outputs": [],
      "source": [
        "13.\tFind the Kth Largest Element:\n",
        "○\tQuestion: Find the Kth largest element in an array.\n",
        "○\tLogic: Use techniques like quickselect or a max-heap to find the Kth largest element efficiently.\n",
        "○\tSample Input: [3, 2, 1, 5, 6, 4], K = 2\n",
        "○\tExpected Output: 5\n"
      ]
    },
    {
      "cell_type": "code",
      "execution_count": null,
      "metadata": {
        "id": "M6B0OVgf0llX"
      },
      "outputs": [],
      "source": [
        "2.\tRemove Duplicates from a List:\n",
        "○\tQuestion: Write a function to remove duplicate elements from a list.\n",
        "○\tLogic: Use a loop or convert the list to a set and back to a list.\n",
        "○\tSample Input: [1, 2, 2, 3, 4, 4, 5]\n",
        "○\tExpected Output: [1, 2, 3, 4, 5]\n"
      ]
    },
    {
      "cell_type": "code",
      "execution_count": null,
      "metadata": {
        "id": "gf5sG45C2O5V",
        "colab": {
          "base_uri": "https://localhost:8080/"
        },
        "outputId": "c7921640-17ee-44be-cebb-167e026d1c65"
      },
      "outputs": [
        {
          "output_type": "execute_result",
          "data": {
            "text/plain": [
              "[1, 2, 3, 4, 5]"
            ]
          },
          "metadata": {},
          "execution_count": 5
        }
      ],
      "source": [
        "def remove_duplicates(list):\n",
        "\n",
        "  for x in list:\n",
        "    pass\n",
        "\n",
        "\n",
        "\n",
        "\n",
        "remove_duplicates([1, 2, 2, 3, 4, 4, 5])"
      ]
    },
    {
      "cell_type": "code",
      "source": [
        "def remove_duplicates(list):\n",
        "  unique_list = []\n",
        "  for item in list:\n",
        "      if item not in unique_list:\n",
        "          unique_list.append(item)\n",
        "  return unique_list\n",
        "\n",
        "\n",
        "\n",
        "remove_duplicates([1, 2, 2, 3, 4, 4, 5])"
      ],
      "metadata": {
        "colab": {
          "base_uri": "https://localhost:8080/"
        },
        "id": "6SAmuvGvn9aB",
        "outputId": "27008112-2abf-41d7-eeb6-ed3244e902d1"
      },
      "execution_count": null,
      "outputs": [
        {
          "output_type": "execute_result",
          "data": {
            "text/plain": [
              "[1, 2, 3, 4, 5]"
            ]
          },
          "metadata": {},
          "execution_count": 7
        }
      ]
    },
    {
      "cell_type": "code",
      "execution_count": null,
      "metadata": {
        "id": "Rq4STDMO3sPK",
        "colab": {
          "base_uri": "https://localhost:8080/"
        },
        "outputId": "79caf289-6487-4f6d-be97-86313b01fed4"
      },
      "outputs": [
        {
          "output_type": "execute_result",
          "data": {
            "text/plain": [
              "[1, 2, 3, 4, 4, 5]"
            ]
          },
          "metadata": {},
          "execution_count": 10
        }
      ],
      "source": [
        "# 2.\tRemove Duplicate elements from a List:\n",
        "# ○\tSample Input: [1, 2, 2, 3, 4, 4, 5],   element = 2\n",
        "# ○\tExpected Output: [1, 2, 3, 4, 4, 5]\n",
        "\n",
        "def remove_element(list, element):\n",
        "  for value in list:\n",
        "    if value == element:\n",
        "      list.remove(value)\n",
        "  return list\n",
        "\n",
        "\n",
        "remove_element([1, 2, 2, 3, 4, 4, 5], 2)"
      ]
    },
    {
      "cell_type": "code",
      "execution_count": null,
      "metadata": {
        "colab": {
          "base_uri": "https://localhost:8080/"
        },
        "id": "loDhAcGZ3_b5",
        "outputId": "27263523-838c-4f56-9762-78dc54167f29"
      },
      "outputs": [
        {
          "output_type": "stream",
          "name": "stdout",
          "text": [
            "[0, 0, 1, 2, 3, 3, 4, 5, 10]\n",
            "[0, 0, 1, 2, 2, 3, 3, 3, 4, 4, 5, 10]\n"
          ]
        }
      ],
      "source": [
        "def merge_two_list(list1, list2):\n",
        "  list1.extend(list2)\n",
        "  return sorted(list1)\n",
        "\n",
        "def merge_two_list2(list1, list2):\n",
        "  return sorted(list1 + list2)\n",
        "\n",
        "list1 = [3, 0, 1, 5, 10, 0]\n",
        "list2 = [4, 3, 2]\n",
        "\n",
        "print(merge_two_list(list1, list2))\n",
        "print(merge_two_list2(list1, list2))"
      ]
    },
    {
      "cell_type": "code",
      "execution_count": null,
      "metadata": {
        "id": "hifyXg8p4Ie2"
      },
      "outputs": [],
      "source": [
        "'''\n",
        "3.\tReverse a List:\n",
        "○\tQuestion: Write a function to reverse the order of elements in a list.\n",
        "○\tLogic: Use list slicing or a loop to reverse the elements.\n",
        "○\tSample Input: [1, 2, 3, 4, 5]\n",
        "○\tExpected Output: [5, 4, 3, 2, 1]\n",
        "\n",
        "\n",
        "'''\n"
      ]
    },
    {
      "cell_type": "code",
      "execution_count": null,
      "metadata": {
        "id": "zwgjGIaX4Nuf",
        "colab": {
          "base_uri": "https://localhost:8080/",
          "height": 36
        },
        "outputId": "68d40c8f-69ab-4af3-86bd-38b1b3d55a77"
      },
      "outputs": [
        {
          "output_type": "execute_result",
          "data": {
            "text/plain": [
              "'Palindrome'"
            ],
            "application/vnd.google.colaboratory.intrinsic+json": {
              "type": "string"
            }
          },
          "metadata": {},
          "execution_count": 13
        }
      ],
      "source": [
        "'''\n",
        "4.\tCheck for Palindromic List:\n",
        "○\tQuestion: Write a function to check if a list is a palindrome.\n",
        "○\tLogic: Compare the list with its reverse.\n",
        "○\tSample Input: [1, 2, 3, 2, 1]\n",
        "○\tExpected Output: Palindrome\n",
        "'''\n",
        "\n",
        "\n",
        "\n",
        "\n",
        "def is_palindromic(list):\n",
        "    if list == list[::-1]:\n",
        "        return \"Palindrome\"\n",
        "    else:\n",
        "        return \"Not a palindrome\"\n",
        "\n",
        "is_palindromic([1, 2, 3, 2, 1])"
      ]
    },
    {
      "cell_type": "code",
      "source": [
        "def is_palindromic(list):\n",
        "    if list == list[::-1]:\n",
        "        return True\n",
        "    else:\n",
        "        return False\n",
        "\n",
        "\n",
        "\n",
        "\n",
        "if is_palindromic([1, 2, 3, 2, 1]):\n",
        "  print(\"Palindrome\")\n",
        "else:\n",
        "  print(\"Not a Palindrome\")"
      ],
      "metadata": {
        "colab": {
          "base_uri": "https://localhost:8080/"
        },
        "id": "iAdbZ82vqaXJ",
        "outputId": "ef41e7d8-bab2-4419-9212-48328799fbc4"
      },
      "execution_count": null,
      "outputs": [
        {
          "output_type": "stream",
          "name": "stdout",
          "text": [
            "Palindrome\n"
          ]
        }
      ]
    },
    {
      "cell_type": "code",
      "execution_count": null,
      "metadata": {
        "colab": {
          "base_uri": "https://localhost:8080/"
        },
        "id": "OjHndDcH5yow",
        "outputId": "3f120c72-86ea-4728-cff2-ce1062f17538"
      },
      "outputs": [
        {
          "data": {
            "text/plain": [
              "10"
            ]
          },
          "execution_count": 1,
          "metadata": {},
          "output_type": "execute_result"
        }
      ],
      "source": [
        "# Modules\n",
        "\n",
        "import math\n",
        "\n",
        "a = 10.9\n",
        "\n",
        "math.floor(a)\n",
        "\n"
      ]
    },
    {
      "cell_type": "code",
      "execution_count": null,
      "metadata": {
        "colab": {
          "base_uri": "https://localhost:8080/"
        },
        "id": "RQKhZr9eSo4V",
        "outputId": "782dc2b6-7292-477d-c926-c13b98a4fc37"
      },
      "outputs": [
        {
          "data": {
            "text/plain": [
              "11"
            ]
          },
          "execution_count": 2,
          "metadata": {},
          "output_type": "execute_result"
        }
      ],
      "source": [
        "math.ceil(a)"
      ]
    },
    {
      "cell_type": "code",
      "execution_count": null,
      "metadata": {
        "colab": {
          "base_uri": "https://localhost:8080/"
        },
        "id": "aOe9dOhES6GV",
        "outputId": "5c5d2c8e-dca0-43f8-c8ff-6fc0ce4a7bf4"
      },
      "outputs": [
        {
          "data": {
            "text/plain": [
              "10"
            ]
          },
          "execution_count": 3,
          "metadata": {},
          "output_type": "execute_result"
        }
      ],
      "source": [
        "# Modules\n",
        "\n",
        "import math as m\n",
        "\n",
        "a = 10.9\n",
        "\n",
        "m.floor(a)\n",
        "\n"
      ]
    },
    {
      "cell_type": "code",
      "execution_count": null,
      "metadata": {
        "colab": {
          "base_uri": "https://localhost:8080/"
        },
        "id": "T2YP31zdTDEz",
        "outputId": "86ae966b-b90c-4555-8e18-45283fe4fe0a"
      },
      "outputs": [
        {
          "data": {
            "text/plain": [
              "10"
            ]
          },
          "execution_count": 4,
          "metadata": {},
          "output_type": "execute_result"
        }
      ],
      "source": [
        "# Modules\n",
        "\n",
        "from math import floor\n",
        "\n",
        "a = 10.9\n",
        "\n",
        "math.floor(a)\n",
        "\n"
      ]
    },
    {
      "cell_type": "code",
      "execution_count": null,
      "metadata": {
        "id": "bnDu9l0mTQY8"
      },
      "outputs": [],
      "source": [
        "import random"
      ]
    },
    {
      "cell_type": "code",
      "execution_count": null,
      "metadata": {
        "colab": {
          "base_uri": "https://localhost:8080/"
        },
        "id": "FMR_ldETTb4j",
        "outputId": "7a43a0c1-f172-4f1f-e803-76cd5b6da528"
      },
      "outputs": [
        {
          "data": {
            "text/plain": [
              "4"
            ]
          },
          "execution_count": 3,
          "metadata": {},
          "output_type": "execute_result"
        }
      ],
      "source": [
        "random.randint(0, 9)"
      ]
    },
    {
      "cell_type": "code",
      "execution_count": null,
      "metadata": {
        "colab": {
          "base_uri": "https://localhost:8080/"
        },
        "id": "qdQfP6piTqFY",
        "outputId": "cda28a00-d733-468f-8a5c-a74af443319f"
      },
      "outputs": [
        {
          "data": {
            "text/plain": [
              "745"
            ]
          },
          "execution_count": 5,
          "metadata": {},
          "output_type": "execute_result"
        }
      ],
      "source": [
        "random.randint(0, 1001)"
      ]
    },
    {
      "cell_type": "code",
      "execution_count": null,
      "metadata": {
        "colab": {
          "base_uri": "https://localhost:8080/"
        },
        "id": "VzDUJScIT_lB",
        "outputId": "6bae298c-3caf-48fa-869a-5e62d8680a6d"
      },
      "outputs": [
        {
          "name": "stdout",
          "output_type": "stream",
          "text": [
            "6 2 1 7 "
          ]
        }
      ],
      "source": [
        "# generate otp\n",
        "\n",
        "for x in range(4):\n",
        "  print(random.randint(0, 9), end = \" \")"
      ]
    },
    {
      "cell_type": "code",
      "execution_count": null,
      "metadata": {
        "colab": {
          "base_uri": "https://localhost:8080/"
        },
        "id": "3noxkH-nUOAa",
        "outputId": "f68a697c-2d62-413c-e9ed-52b22bed5231"
      },
      "outputs": [
        {
          "name": "stdout",
          "output_type": "stream",
          "text": [
            "2\n",
            "Enter Number : 5\n",
            "Try again....\n",
            "Enter Number : 4\n",
            "Try again....\n",
            "Enter Number : 2\n",
            "You won...\n"
          ]
        }
      ],
      "source": [
        "import random\n",
        "machine = random.randint(1, 11)\n",
        "print(machine)\n",
        "while True:\n",
        "\n",
        "  user = int(input(\"Enter Number : \"))\n",
        "\n",
        "  if machine == user:\n",
        "    print(\"You won...\")\n",
        "    break\n",
        "  else:\n",
        "    print(\"Try again....\")"
      ]
    },
    {
      "cell_type": "code",
      "execution_count": null,
      "metadata": {
        "id": "_KqZ_LbBVB2O"
      },
      "outputs": [],
      "source": [
        "# machine ---> 97\n",
        "\n",
        "# user --> 50 ---> num > machine ---> guess lower\n",
        "#             ---> num < machine ---> guess higher\n",
        "#             ---> num == machine --> you won\n",
        "\n",
        "\n",
        "\n"
      ]
    },
    {
      "cell_type": "code",
      "execution_count": null,
      "metadata": {
        "colab": {
          "base_uri": "https://localhost:8080/"
        },
        "id": "Kfi9NH0FYDyl",
        "outputId": "bc9c9aca-7919-4fdb-8454-d449c2cbe57f"
      },
      "outputs": [
        {
          "name": "stdout",
          "output_type": "stream",
          "text": [
            "Enter Number : 50\n",
            "Guess lower...\n",
            "Enter Number : 25\n",
            "Guess Higher...\n",
            "Enter Number : 32\n",
            "Guess lower...\n",
            "Enter Number : 30\n",
            "You won...\n"
          ]
        }
      ],
      "source": [
        "import random\n",
        "machine = random.randint(1, 100)\n",
        "user = int(input(\"Enter Number : \"))\n",
        "\n",
        "while True:\n",
        "\n",
        "  if machine == user:\n",
        "    print(\"You won...\")\n",
        "    break\n",
        "  elif machine > user:\n",
        "    print(\"Guess Higher...\")\n",
        "  elif machine < user:\n",
        "    print(\"Guess lower...\")\n",
        "\n",
        "  user = int(input(\"Enter Number : \"))"
      ]
    },
    {
      "cell_type": "code",
      "execution_count": null,
      "metadata": {
        "colab": {
          "base_uri": "https://localhost:8080/"
        },
        "id": "1owkrkd-Yhqy",
        "outputId": "47953801-ae12-4d90-b872-df1aba86ba4d"
      },
      "outputs": [
        {
          "name": "stdout",
          "output_type": "stream",
          "text": [
            "Enter Number : 50\n",
            "Guess lower...\n",
            "Enter Number : 25\n",
            "Guess lower...\n",
            "Enter Number : 12\n",
            "Guess Higher...\n",
            "Enter Number : 20\n",
            "Guess lower...\n",
            "Enter Number : 18\n",
            "Guess lower...\n",
            "Enter Number : 15\n",
            "Guess Higher...\n",
            "Enter Number : 16\n",
            "You won..., Attempt :  7\n"
          ]
        }
      ],
      "source": [
        "import random\n",
        "machine = random.randint(1, 100)\n",
        "user = int(input(\"Enter Number : \"))\n",
        "counter = 0\n",
        "\n",
        "while True:\n",
        "\n",
        "  if machine == user:\n",
        "    counter += 1\n",
        "    print(\"You won..., Attempt : \", counter)\n",
        "    break\n",
        "  elif machine > user:\n",
        "    print(\"Guess Higher...\")\n",
        "    counter +=1\n",
        "  elif machine < user:\n",
        "    print(\"Guess lower...\")\n",
        "    counter +=1\n",
        "\n",
        "  user = int(input(\"Enter Number : \"))"
      ]
    },
    {
      "cell_type": "code",
      "execution_count": null,
      "metadata": {
        "id": "ASb6oq9_ZOeu"
      },
      "outputs": [],
      "source": [
        "Student Data:\n",
        "\n",
        "  1. Registration\n",
        "  2. Student list\n",
        "  3. delete student\n",
        "  4. update\n",
        "  4. exit\n",
        "\n",
        "\n",
        "  1. Registration\n",
        "          -> name\n",
        "          -> age\n",
        "          -> contact\n",
        "          -> gender\n",
        "\n",
        "\n",
        "2. display list\n",
        "\n",
        "3. delete student\n",
        "\n",
        "      student provide registeration number\n",
        "\n",
        "      if student found :\n",
        "        delete student successfully\n",
        "\n",
        "      otherwise print message\n",
        "           --> student not found\n",
        "\n",
        "4. update\n",
        "        student provide registeration number\n",
        "\n",
        "      if student found :\n",
        "\n",
        "          1. name\n",
        "          2. gender\n",
        "          3. contact\n",
        "          4. age\n",
        "\n",
        "         update successfully\n",
        "\n",
        "      otherwise print message\n",
        "           --> student not found"
      ]
    },
    {
      "cell_type": "code",
      "execution_count": null,
      "metadata": {
        "colab": {
          "base_uri": "https://localhost:8080/"
        },
        "id": "TP2jidINeJMn",
        "outputId": "9de7e313-85e9-4032-aeb3-c1f19bc6864d"
      },
      "outputs": [
        {
          "name": "stdout",
          "output_type": "stream",
          "text": [
            "\n",
            "      1. Registration\n",
            "      2. Student list\n",
            "      3. delete student\n",
            "      4. update\n",
            "      4. exit\n",
            "  \n",
            "Choose Option : 1\n",
            "Enter Name : Dhanraj\n",
            "Enter Gender : Male\n",
            "Enter Contact : 3333333\n",
            "Enter age : 900\n",
            "Your name is Dhanraj and Register No : 10000000101\n",
            "\n",
            "      1. Registration\n",
            "      2. Student list\n",
            "      3. delete student\n",
            "      4. update\n",
            "      4. exit\n",
            "  \n",
            "Choose Option : 1\n",
            "Enter Name : Raj\n",
            "Enter Gender : Male\n",
            "Enter Contact : 33333\n",
            "Enter age : 2222\n",
            "Your name is Raj and Register No : 10000000102\n",
            "\n",
            "      1. Registration\n",
            "      2. Student list\n",
            "      3. delete student\n",
            "      4. update\n",
            "      4. exit\n",
            "  \n",
            "Choose Option : 4\n",
            "Enter Reg No : 10000000101\n",
            "Student Fount and Reg No 10000000101\n",
            "\n",
            "          1. Name\n",
            "          2. Gender\n",
            "          3. Contact\n",
            "          4. Age\n",
            "          5. Exit\n",
            "      \n",
            "Enter Choice : 3\n",
            "Enter Contact : 989898989\n",
            "Enter Choice : 4\n",
            "Enter Age : 9\n",
            "Enter Choice : 5\n",
            "\n",
            "      1. Registration\n",
            "      2. Student list\n",
            "      3. delete student\n",
            "      4. update\n",
            "      4. exit\n",
            "  \n",
            "Choose Option : 5\n"
          ]
        }
      ],
      "source": [
        "student_data = {}\n",
        "register_no = 10000000100\n",
        "\n",
        "\n",
        "\n",
        "while True:\n",
        "\n",
        "  print('''\n",
        "      1. Registration\n",
        "      2. Student list\n",
        "      3. delete student\n",
        "      4. update\n",
        "      4. exit\n",
        "  ''')\n",
        "\n",
        "  user_input = int(input(\"Choose Option : \"))\n",
        "\n",
        "\n",
        "  if user_input == 1:\n",
        "    register_no += 1\n",
        "    name, gender, contact, age = input(\"Enter Name : \"), input(\"Enter Gender : \"), input(\"Enter Contact : \"), input(\"Enter age : \")\n",
        "\n",
        "    student_data[register_no] = [name, age, gender, contact]\n",
        "\n",
        "    print(f\"Your name is {name} and Register No : {register_no}\")\n",
        "\n",
        "  elif user_input == 2:\n",
        "    pass\n",
        "\n",
        "  elif user_input == 3:\n",
        "    pass\n",
        "\n",
        "\n",
        "  elif user_input == 4:\n",
        "\n",
        "    reg_no = int(input(\"Enter Reg No : \"))\n",
        "\n",
        "    reg_stu = student_data[reg_no]\n",
        "\n",
        "    if reg_no in student_data:\n",
        "      print(f\"Student Fount and Reg No {reg_no}\")\n",
        "\n",
        "      print('''\n",
        "          1. Name\n",
        "          2. Gender\n",
        "          3. Contact\n",
        "          4. Age\n",
        "          5. Exit\n",
        "      ''')\n",
        "      choice = int(input(\"Enter Choice : \"))\n",
        "\n",
        "      while True:\n",
        "\n",
        "        if choice == 1:\n",
        "          reg_stu[0] = input(\"Enter name : \")\n",
        "\n",
        "        elif choice == 2:\n",
        "          reg_stu[0] = input(\"Enter Gender : \")\n",
        "\n",
        "        elif choice == 3:\n",
        "          reg_stu[0] = input(\"Enter Contact : \")\n",
        "\n",
        "\n",
        "        elif choice == 4:\n",
        "          reg_stu[0] = input(\"Enter Age : \")\n",
        "\n",
        "        elif choice == 5:\n",
        "          break\n",
        "\n",
        "        choice = int(input(\"Enter Choice : \"))\n",
        "\n",
        "  elif user_input == 5:\n",
        "    pass\n",
        "    break"
      ]
    },
    {
      "cell_type": "code",
      "execution_count": null,
      "metadata": {
        "id": "v1Gg_N1zepMa"
      },
      "outputs": [],
      "source": []
    }
  ],
  "metadata": {
    "colab": {
      "provenance": []
    },
    "kernelspec": {
      "display_name": "Python 3",
      "name": "python3"
    },
    "language_info": {
      "name": "python"
    }
  },
  "nbformat": 4,
  "nbformat_minor": 0
}