{
  "nbformat": 4,
  "nbformat_minor": 0,
  "metadata": {
    "colab": {
      "provenance": []
    },
    "kernelspec": {
      "name": "python3",
      "display_name": "Python 3"
    },
    "language_info": {
      "name": "python"
    }
  },
  "cells": [
    {
      "cell_type": "code",
      "execution_count": null,
      "metadata": {
        "id": "qYwQD6LkhQeC"
      },
      "outputs": [],
      "source": [
        "# Object Oriented Programming\n",
        "\n",
        "# class name should be start with capital letter\n",
        "# function name should be start with small letter\n",
        "\n",
        "class Human:\n",
        "  ''' '''\n",
        "  def name(self):\n",
        "    name = input(\"Enter name : \")\n",
        "    print(\"Hello I am \",self.name, id(name))\n",
        "\n",
        "  def gender(self):\n",
        "    gender = input(\"Enter Gender : \")\n",
        "    print(f\"Gender : \", self.gender)"
      ]
    },
    {
      "cell_type": "code",
      "source": [
        "h = Human()"
      ],
      "metadata": {
        "id": "6Y5hiq6cjwdh"
      },
      "execution_count": null,
      "outputs": []
    },
    {
      "cell_type": "code",
      "source": [
        "print(h)"
      ],
      "metadata": {
        "colab": {
          "base_uri": "https://localhost:8080/"
        },
        "id": "Kkzu-wxNxhJB",
        "outputId": "9eaae627-1f00-4d3a-d1b5-691a918383a5"
      },
      "execution_count": null,
      "outputs": [
        {
          "output_type": "stream",
          "name": "stdout",
          "text": [
            "<__main__.Human object at 0x79c292d8d900>\n"
          ]
        }
      ]
    },
    {
      "cell_type": "code",
      "source": [
        "h.name()"
      ],
      "metadata": {
        "colab": {
          "base_uri": "https://localhost:8080/"
        },
        "id": "d7DGjQFWxqNM",
        "outputId": "13631852-49f7-410a-f603-fe258db6d34a"
      },
      "execution_count": null,
      "outputs": [
        {
          "output_type": "stream",
          "name": "stdout",
          "text": [
            "Enter name : Dhanraj\n",
            "Hello I am  <bound method Human.name of <__main__.Human object at 0x79c292d8d900>> 133876585048304\n"
          ]
        }
      ]
    },
    {
      "cell_type": "code",
      "source": [
        "h.gender()\n"
      ],
      "metadata": {
        "colab": {
          "base_uri": "https://localhost:8080/"
        },
        "id": "jp6GfQNTxyKU",
        "outputId": "d707c4be-f5dc-4fcc-e6b4-77a4e429fa79"
      },
      "execution_count": null,
      "outputs": [
        {
          "output_type": "stream",
          "name": "stdout",
          "text": [
            "Enter Gender : male\n",
            "Gender :  <bound method Human.gender of <__main__.Human object at 0x79c292d8d900>>\n"
          ]
        }
      ]
    },
    {
      "cell_type": "code",
      "source": [
        "# access modifiers / speciers\n",
        "\n",
        "# 1. public\n",
        "# 2. private\n",
        "# 3. protected\n",
        "# 4. default\n",
        "\n",
        "\n",
        "# 1. public\n",
        "# 2. private\n",
        "# 3. strongly_private"
      ],
      "metadata": {
        "id": "DkHxZ-HwyMeE"
      },
      "execution_count": null,
      "outputs": []
    },
    {
      "cell_type": "code",
      "source": [
        "class Human:\n",
        "\n",
        "  name = \"Dhanraj\"   # public\n",
        "  _phone = 44444444  # private\n",
        "  __pin_no = 123     # strongly_private"
      ],
      "metadata": {
        "id": "jOF7EfJ4ytuj"
      },
      "execution_count": null,
      "outputs": []
    },
    {
      "cell_type": "code",
      "source": [
        "h = Human()\n",
        "\n",
        "h.name"
      ],
      "metadata": {
        "colab": {
          "base_uri": "https://localhost:8080/",
          "height": 36
        },
        "id": "DpJR6vsJzD8T",
        "outputId": "2bd4aa14-2028-460b-c2f2-d4393fd056cd"
      },
      "execution_count": null,
      "outputs": [
        {
          "output_type": "execute_result",
          "data": {
            "text/plain": [
              "'Dhanraj'"
            ],
            "application/vnd.google.colaboratory.intrinsic+json": {
              "type": "string"
            }
          },
          "metadata": {},
          "execution_count": 19
        }
      ]
    },
    {
      "cell_type": "code",
      "source": [
        "h._phone"
      ],
      "metadata": {
        "colab": {
          "base_uri": "https://localhost:8080/"
        },
        "id": "E4CbuTxAzxOn",
        "outputId": "a521cecf-813d-45c4-8d32-cabfc04a80b5"
      },
      "execution_count": null,
      "outputs": [
        {
          "output_type": "execute_result",
          "data": {
            "text/plain": [
              "44444444"
            ]
          },
          "metadata": {},
          "execution_count": 20
        }
      ]
    },
    {
      "cell_type": "code",
      "source": [
        "h.__pin_no"
      ],
      "metadata": {
        "colab": {
          "base_uri": "https://localhost:8080/",
          "height": 141
        },
        "id": "ed_zNaMNz_Es",
        "outputId": "50e94847-0505-4c58-a89d-9b18ed068b76"
      },
      "execution_count": null,
      "outputs": [
        {
          "output_type": "error",
          "ename": "AttributeError",
          "evalue": "'Human' object has no attribute '__pin_no'",
          "traceback": [
            "\u001b[0;31m---------------------------------------------------------------------------\u001b[0m",
            "\u001b[0;31mAttributeError\u001b[0m                            Traceback (most recent call last)",
            "\u001b[0;32m<ipython-input-21-78a61f1c4836>\u001b[0m in \u001b[0;36m<cell line: 1>\u001b[0;34m()\u001b[0m\n\u001b[0;32m----> 1\u001b[0;31m \u001b[0mh\u001b[0m\u001b[0;34m.\u001b[0m\u001b[0m__pin_no\u001b[0m\u001b[0;34m\u001b[0m\u001b[0;34m\u001b[0m\u001b[0m\n\u001b[0m",
            "\u001b[0;31mAttributeError\u001b[0m: 'Human' object has no attribute '__pin_no'"
          ]
        }
      ]
    },
    {
      "cell_type": "code",
      "source": [
        "# print area of circle\n",
        "# set_radius(), printArea()\n",
        "\n",
        "\n",
        "class Circle:\n",
        "\n",
        "  def set_radius(self):\n",
        "    self.radius = int(input(\"Enter Radius : \"))\n",
        "\n",
        "  def print_area(self):\n",
        "    print(f\"Area of circle is : {3.14 * self.radius**2}\")"
      ],
      "metadata": {
        "id": "jrD54wzX0FPf"
      },
      "execution_count": null,
      "outputs": []
    },
    {
      "cell_type": "code",
      "source": [
        "c = Circle()"
      ],
      "metadata": {
        "id": "DGeYN-L_2f8f"
      },
      "execution_count": null,
      "outputs": []
    },
    {
      "cell_type": "code",
      "source": [
        "c.set_radius()"
      ],
      "metadata": {
        "colab": {
          "base_uri": "https://localhost:8080/"
        },
        "id": "5DnY6KNW2iDU",
        "outputId": "fe1c08d6-500d-41fd-b496-a4e907dbfc40"
      },
      "execution_count": null,
      "outputs": [
        {
          "name": "stdout",
          "output_type": "stream",
          "text": [
            "Enter Radius : 10\n"
          ]
        }
      ]
    },
    {
      "cell_type": "code",
      "source": [
        "c.print_area()"
      ],
      "metadata": {
        "colab": {
          "base_uri": "https://localhost:8080/"
        },
        "id": "KpkRRi6A2qDI",
        "outputId": "3662bad6-3c05-4938-bad2-7601bfda1789"
      },
      "execution_count": null,
      "outputs": [
        {
          "output_type": "stream",
          "name": "stdout",
          "text": [
            "Area of circle is : 314.0\n"
          ]
        }
      ]
    },
    {
      "cell_type": "code",
      "source": [
        "c1 = Circle()\n",
        "\n",
        "c1.set_radius()"
      ],
      "metadata": {
        "colab": {
          "base_uri": "https://localhost:8080/"
        },
        "id": "P669OGxd2t6E",
        "outputId": "d4ac78e2-018c-401f-a8b4-e56e570eff88"
      },
      "execution_count": null,
      "outputs": [
        {
          "name": "stdout",
          "output_type": "stream",
          "text": [
            "Enter Radius : 100\n"
          ]
        }
      ]
    },
    {
      "cell_type": "code",
      "source": [
        "c1.print_area()"
      ],
      "metadata": {
        "colab": {
          "base_uri": "https://localhost:8080/"
        },
        "id": "ohzHJMqX20-A",
        "outputId": "c1401975-0eb6-4e77-fd9c-783b80f3b278"
      },
      "execution_count": null,
      "outputs": [
        {
          "output_type": "stream",
          "name": "stdout",
          "text": [
            "Area of circle is : 31400.0\n"
          ]
        }
      ]
    },
    {
      "cell_type": "code",
      "source": [
        "# set_user_data(), display_user_data()\n",
        "# name, age, city\n",
        "\n",
        "\n",
        "class User:\n",
        "\n",
        "  def set_user_data(self, name, age, city):\n",
        "    self.name = name\n",
        "    self.age = age\n",
        "    self.city = city\n",
        "\n",
        "  def display_user_data(self):\n",
        "    print(f\"Name : {self.name}\\t Age : {self.age}\\t City : {self.city}\")"
      ],
      "metadata": {
        "id": "Jdns9dX023D2"
      },
      "execution_count": null,
      "outputs": []
    },
    {
      "cell_type": "code",
      "source": [
        "u = User()"
      ],
      "metadata": {
        "id": "p60LPFCb4tMD"
      },
      "execution_count": null,
      "outputs": []
    },
    {
      "cell_type": "code",
      "source": [
        "user_list = list(map(str, input(\"Enter Name, age, city (separated by space) : \").split()))\n",
        "\n",
        "u.set_user_data(*user_list)"
      ],
      "metadata": {
        "colab": {
          "base_uri": "https://localhost:8080/"
        },
        "id": "7bdkfFw-4ytE",
        "outputId": "01dd5c5a-54af-422c-d613-2b33f616d35e"
      },
      "execution_count": null,
      "outputs": [
        {
          "name": "stdout",
          "output_type": "stream",
          "text": [
            "Enter Name, age, city (separated by space) : Dhanraj 11 surat\n"
          ]
        }
      ]
    },
    {
      "cell_type": "code",
      "source": [
        "u.display_user_data()"
      ],
      "metadata": {
        "colab": {
          "base_uri": "https://localhost:8080/"
        },
        "id": "FdqQMxLZ5Wio",
        "outputId": "a9dc94fd-2a80-400c-f401-d71e3ca14e80"
      },
      "execution_count": null,
      "outputs": [
        {
          "output_type": "stream",
          "name": "stdout",
          "text": [
            "Name : Dhanraj\t Age : 11\t City : surat\n"
          ]
        }
      ]
    },
    {
      "cell_type": "code",
      "source": [
        "# Constructor :\n",
        "# Syntax:\n",
        "# def __init__(self):\n",
        "#     pass"
      ],
      "metadata": {
        "id": "S3CJqgCO5cSg"
      },
      "execution_count": null,
      "outputs": []
    },
    {
      "cell_type": "code",
      "source": [
        "# set_user_data(), display_user_data()\n",
        "# name, age, city\n",
        "\n",
        "\n",
        "class User:\n",
        "\n",
        "  name = \"Dhanraj\"\n",
        "  age = 11\n",
        "  city = \"Shirput\"\n",
        "  def __init__(self, name, age, city):\n",
        "    self.name = name\n",
        "    self.age = age\n",
        "    self.city = city\n",
        "\n",
        "  def display_user_data(self):\n",
        "    print(f\"Name : {self.name}\\t Age : {self.age}\\t City : {self.city}\")"
      ],
      "metadata": {
        "id": "co9AOB4a6vF2"
      },
      "execution_count": null,
      "outputs": []
    },
    {
      "cell_type": "code",
      "source": [
        "u = User()"
      ],
      "metadata": {
        "colab": {
          "base_uri": "https://localhost:8080/",
          "height": 141
        },
        "id": "_6vSJm3o61mA",
        "outputId": "8530b063-ce3f-4297-87cd-c2e559d3c0b2"
      },
      "execution_count": null,
      "outputs": [
        {
          "output_type": "error",
          "ename": "TypeError",
          "evalue": "User.__init__() missing 3 required positional arguments: 'name', 'age', and 'city'",
          "traceback": [
            "\u001b[0;31m---------------------------------------------------------------------------\u001b[0m",
            "\u001b[0;31mTypeError\u001b[0m                                 Traceback (most recent call last)",
            "\u001b[0;32m<ipython-input-39-a4870aec82d4>\u001b[0m in \u001b[0;36m<cell line: 1>\u001b[0;34m()\u001b[0m\n\u001b[0;32m----> 1\u001b[0;31m \u001b[0mu\u001b[0m \u001b[0;34m=\u001b[0m \u001b[0mUser\u001b[0m\u001b[0;34m(\u001b[0m\u001b[0;34m)\u001b[0m\u001b[0;34m\u001b[0m\u001b[0;34m\u001b[0m\u001b[0m\n\u001b[0m",
            "\u001b[0;31mTypeError\u001b[0m: User.__init__() missing 3 required positional arguments: 'name', 'age', and 'city'"
          ]
        }
      ]
    },
    {
      "cell_type": "code",
      "source": [
        "class User2:\n",
        "  def __init__(self, name, age, city):\n",
        "    self.name = name\n",
        "    self.age = age\n",
        "    self.city = city\n",
        "\n",
        "  def display_user_data(self):\n",
        "    print(f\"Name : {self.name}\\t Age : {self.age}\\t City : {self.city}\")"
      ],
      "metadata": {
        "id": "wXpFL9R863Bn"
      },
      "execution_count": null,
      "outputs": []
    },
    {
      "cell_type": "code",
      "source": [
        "u = User(\"dhanraj\", 12, \"Surat\")"
      ],
      "metadata": {
        "id": "TsEaI_B17cNj"
      },
      "execution_count": null,
      "outputs": []
    },
    {
      "cell_type": "code",
      "source": [
        "u.display_user_data()"
      ],
      "metadata": {
        "colab": {
          "base_uri": "https://localhost:8080/"
        },
        "id": "RweX0HnP7heQ",
        "outputId": "25f61964-da03-47ba-a81d-e7ad868401ec"
      },
      "execution_count": null,
      "outputs": [
        {
          "output_type": "stream",
          "name": "stdout",
          "text": [
            "Name : dhanraj\t Age : 12\t City : Surat\n"
          ]
        }
      ]
    },
    {
      "cell_type": "code",
      "source": [
        "# define a class\n",
        "# aadhar card, name, gender, address\n",
        "\n",
        "# global aadhar_card_no"
      ],
      "metadata": {
        "id": "YT32KH6P7jRm"
      },
      "execution_count": null,
      "outputs": []
    },
    {
      "cell_type": "code",
      "source": [
        "class DenaBank:\n",
        "\n",
        "  account_no = 10002024000100\n",
        "\n",
        "  def __init__(self, name, age, city, contact):\n",
        "    self.name = name\n",
        "    self.age = age\n",
        "    self.city = city\n",
        "    self.contact = contact\n",
        "    DenaBank.account_no += 1\n",
        "    self.acc_no = DenaBank.account_no\n",
        "\n",
        "  def __str__(self):\n",
        "    return \"Account created successfully... Name : \" + self.name + \" Account No : \" + str(self.acc_no)"
      ],
      "metadata": {
        "id": "MxgLqFKR_RH0"
      },
      "execution_count": null,
      "outputs": []
    },
    {
      "cell_type": "code",
      "source": [
        " bank = DenaBank(\"Dhanraj\", \"11\", \"Surat\", \"9999999\")"
      ],
      "metadata": {
        "id": "n9mdbwLnAZpg"
      },
      "execution_count": null,
      "outputs": []
    },
    {
      "cell_type": "code",
      "source": [
        "print(bank)"
      ],
      "metadata": {
        "colab": {
          "base_uri": "https://localhost:8080/"
        },
        "id": "XH9KRjr8AdnS",
        "outputId": "1777ce80-a81f-4077-baff-fe609f818a54"
      },
      "execution_count": null,
      "outputs": [
        {
          "output_type": "stream",
          "name": "stdout",
          "text": [
            "Account created successfully... Name : Dhanraj Account No : 10002024000102\n"
          ]
        }
      ]
    },
    {
      "cell_type": "code",
      "source": [
        " bank1 = DenaBank(\"raj\", \"11\", \"Surat\", \"9999999\")"
      ],
      "metadata": {
        "id": "P5HHrb5xAjCP"
      },
      "execution_count": null,
      "outputs": []
    },
    {
      "cell_type": "code",
      "source": [
        "print(bank1)"
      ],
      "metadata": {
        "colab": {
          "base_uri": "https://localhost:8080/"
        },
        "id": "PAFBre8SB_6a",
        "outputId": "36bbf6ae-d47e-442d-d7c5-331332568e25"
      },
      "execution_count": null,
      "outputs": [
        {
          "output_type": "stream",
          "name": "stdout",
          "text": [
            "Account created successfully... Name : raj Account No : 10002024000104\n"
          ]
        }
      ]
    },
    {
      "cell_type": "code",
      "source": [
        "'''\n",
        "Banking System\n",
        "\n",
        "one must code banking system that can do\n",
        "1.open account:\n",
        "  take name,gender,and minimumbalance 3000 to open account.\n",
        "  account number auto generated\n",
        "  # class variable\n",
        "\n",
        "2.check balance():\n",
        "\t1st read account number, search account, if found then show details\n",
        "\n",
        "3.withdraw():\n",
        "\tcheck minimum balance should be kept 2000 else will not allow transection\n",
        "\n",
        "4.deposit():\n",
        "\tread amount ,update balance but amount can not be -ve\n",
        "\n",
        "2,3,4---one must give account number,search account and then\n",
        "perform needed operations\n",
        "'''"
      ],
      "metadata": {
        "id": "TkZ5sVrqCC8h"
      },
      "execution_count": null,
      "outputs": []
    },
    {
      "cell_type": "code",
      "source": [
        "global_account_no = 100020240000100\n",
        "\n",
        "class Account:\n",
        "\n",
        "  def __init__(self, name, age, contact, address, amount):\n",
        "    self.name = name\n",
        "    self.age = age\n",
        "    self.contact = contact\n",
        "    self.address = address\n",
        "    global global_account_no\n",
        "    global_account_no += 1\n",
        "    self.account_no = global_account_no\n",
        "\n",
        "\n",
        "  def __str__(self):\n",
        "    return \"Name : \" + self.name + \"\\n Account No : \" + str(self.account_no) + \"\\nAge : \" + str(self.age) + \" \\n Address : \" + self.address\n",
        "\n",
        "  def deposite(self, amount):\n",
        "    if amount <= 0:\n",
        "      return \"Deposite amount is to less\"\n",
        "    else:\n",
        "      self.amount += amount\n",
        "      print(\"After last transation : \", self.amount)\n",
        "\n",
        "\n",
        "  def withdraw(self, amount):\n",
        "    if self.amount >= amount:\n",
        "      return \"Insufficient Balance\"\n",
        "    else:\n",
        "      self.amount -= amount\n",
        "      print(\"After last transation : \", self.amount)"
      ],
      "metadata": {
        "id": "8KR6wrEPFUnK"
      },
      "execution_count": null,
      "outputs": []
    },
    {
      "cell_type": "code",
      "source": [
        "user_data = (map(str, input(\"Enter Name , age, contact, address (separated by space) : \").split()))\n",
        "user1 = Account(*user_data)"
      ],
      "metadata": {
        "colab": {
          "base_uri": "https://localhost:8080/",
          "height": 304
        },
        "id": "O25Gmdn1Go-H",
        "outputId": "848e6f5b-541c-445c-9bfa-03febcdbbe56"
      },
      "execution_count": null,
      "outputs": [
        {
          "output_type": "error",
          "ename": "KeyboardInterrupt",
          "evalue": "Interrupted by user",
          "traceback": [
            "\u001b[0;31m---------------------------------------------------------------------------\u001b[0m",
            "\u001b[0;31mKeyboardInterrupt\u001b[0m                         Traceback (most recent call last)",
            "\u001b[0;32m<ipython-input-11-f4df7c8aebdf>\u001b[0m in \u001b[0;36m<cell line: 1>\u001b[0;34m()\u001b[0m\n\u001b[0;32m----> 1\u001b[0;31m \u001b[0muser_data\u001b[0m \u001b[0;34m=\u001b[0m \u001b[0;34m(\u001b[0m\u001b[0mmap\u001b[0m\u001b[0;34m(\u001b[0m\u001b[0mstr\u001b[0m\u001b[0;34m,\u001b[0m \u001b[0minput\u001b[0m\u001b[0;34m(\u001b[0m\u001b[0;34m\"Enter Name , age, contact, address (separated by space) : \"\u001b[0m\u001b[0;34m)\u001b[0m\u001b[0;34m.\u001b[0m\u001b[0msplit\u001b[0m\u001b[0;34m(\u001b[0m\u001b[0;34m)\u001b[0m\u001b[0;34m)\u001b[0m\u001b[0;34m)\u001b[0m\u001b[0;34m\u001b[0m\u001b[0;34m\u001b[0m\u001b[0m\n\u001b[0m\u001b[1;32m      2\u001b[0m \u001b[0muser1\u001b[0m \u001b[0;34m=\u001b[0m \u001b[0mAccount\u001b[0m\u001b[0;34m(\u001b[0m\u001b[0;34m*\u001b[0m\u001b[0muser_data\u001b[0m\u001b[0;34m)\u001b[0m\u001b[0;34m\u001b[0m\u001b[0;34m\u001b[0m\u001b[0m\n",
            "\u001b[0;32m/usr/local/lib/python3.10/dist-packages/ipykernel/kernelbase.py\u001b[0m in \u001b[0;36mraw_input\u001b[0;34m(self, prompt)\u001b[0m\n\u001b[1;32m    849\u001b[0m                 \u001b[0;34m\"raw_input was called, but this frontend does not support input requests.\"\u001b[0m\u001b[0;34m\u001b[0m\u001b[0;34m\u001b[0m\u001b[0m\n\u001b[1;32m    850\u001b[0m             )\n\u001b[0;32m--> 851\u001b[0;31m         return self._input_request(str(prompt),\n\u001b[0m\u001b[1;32m    852\u001b[0m             \u001b[0mself\u001b[0m\u001b[0;34m.\u001b[0m\u001b[0m_parent_ident\u001b[0m\u001b[0;34m,\u001b[0m\u001b[0;34m\u001b[0m\u001b[0;34m\u001b[0m\u001b[0m\n\u001b[1;32m    853\u001b[0m             \u001b[0mself\u001b[0m\u001b[0;34m.\u001b[0m\u001b[0m_parent_header\u001b[0m\u001b[0;34m,\u001b[0m\u001b[0;34m\u001b[0m\u001b[0;34m\u001b[0m\u001b[0m\n",
            "\u001b[0;32m/usr/local/lib/python3.10/dist-packages/ipykernel/kernelbase.py\u001b[0m in \u001b[0;36m_input_request\u001b[0;34m(self, prompt, ident, parent, password)\u001b[0m\n\u001b[1;32m    893\u001b[0m             \u001b[0;32mexcept\u001b[0m \u001b[0mKeyboardInterrupt\u001b[0m\u001b[0;34m:\u001b[0m\u001b[0;34m\u001b[0m\u001b[0;34m\u001b[0m\u001b[0m\n\u001b[1;32m    894\u001b[0m                 \u001b[0;31m# re-raise KeyboardInterrupt, to truncate traceback\u001b[0m\u001b[0;34m\u001b[0m\u001b[0;34m\u001b[0m\u001b[0m\n\u001b[0;32m--> 895\u001b[0;31m                 \u001b[0;32mraise\u001b[0m \u001b[0mKeyboardInterrupt\u001b[0m\u001b[0;34m(\u001b[0m\u001b[0;34m\"Interrupted by user\"\u001b[0m\u001b[0;34m)\u001b[0m \u001b[0;32mfrom\u001b[0m \u001b[0;32mNone\u001b[0m\u001b[0;34m\u001b[0m\u001b[0;34m\u001b[0m\u001b[0m\n\u001b[0m\u001b[1;32m    896\u001b[0m             \u001b[0;32mexcept\u001b[0m \u001b[0mException\u001b[0m \u001b[0;32mas\u001b[0m \u001b[0me\u001b[0m\u001b[0;34m:\u001b[0m\u001b[0;34m\u001b[0m\u001b[0;34m\u001b[0m\u001b[0m\n\u001b[1;32m    897\u001b[0m                 \u001b[0mself\u001b[0m\u001b[0;34m.\u001b[0m\u001b[0mlog\u001b[0m\u001b[0;34m.\u001b[0m\u001b[0mwarning\u001b[0m\u001b[0;34m(\u001b[0m\u001b[0;34m\"Invalid Message:\"\u001b[0m\u001b[0;34m,\u001b[0m \u001b[0mexc_info\u001b[0m\u001b[0;34m=\u001b[0m\u001b[0;32mTrue\u001b[0m\u001b[0;34m)\u001b[0m\u001b[0;34m\u001b[0m\u001b[0;34m\u001b[0m\u001b[0m\n",
            "\u001b[0;31mKeyboardInterrupt\u001b[0m: Interrupted by user"
          ]
        }
      ]
    },
    {
      "cell_type": "code",
      "source": [
        "print(user1)"
      ],
      "metadata": {
        "colab": {
          "base_uri": "https://localhost:8080/"
        },
        "id": "rd2Tc_fBG_dC",
        "outputId": "9621618a-c4b1-4dec-dfd6-3d2e9b921dc4"
      },
      "execution_count": null,
      "outputs": [
        {
          "output_type": "stream",
          "name": "stdout",
          "text": [
            "Your Account successfully Created Name : dhanraj and Account No : 100020240000101\n"
          ]
        }
      ]
    },
    {
      "cell_type": "code",
      "source": [
        "\n",
        "\n",
        "bank = {}\n",
        "\n",
        "  name, age, contact, address\n",
        "\n",
        "  amount\n",
        "\n",
        "    minimum balance 3000\n",
        "\n",
        "          if condition is true --> done\n",
        "                          false --> please deposite at least 3000"
      ],
      "metadata": {
        "id": "2sp9n_UNHGlX"
      },
      "execution_count": null,
      "outputs": []
    },
    {
      "cell_type": "code",
      "source": [
        "bank = {}"
      ],
      "metadata": {
        "id": "yXLq2u8pfgGp"
      },
      "execution_count": null,
      "outputs": []
    },
    {
      "cell_type": "code",
      "source": [
        "# user_data = (map(str, input(\"Enter Name , age, contact, address (separated by space) : \").split()))\n",
        "name = input(\"Enter name : \")\n",
        "age = input(\"Enter name : \")\n",
        "contact = input(\"Enter name : \")\n",
        "address = input(\"Enter name : \")\n",
        "while True:\n",
        "\n",
        "  amount = int(input(\"Enter amount : \"))\n",
        "\n",
        "  if amount >= 3000:\n",
        "    a = Account(name, age, contact, address, amount)\n",
        "    bank[a.account_no] = a\n",
        "    break\n",
        "  else:\n",
        "    print(\"Deposite at least 3000...\")\n"
      ],
      "metadata": {
        "colab": {
          "base_uri": "https://localhost:8080/"
        },
        "id": "dm4hYVv1fhmY",
        "outputId": "840804ba-066b-4e65-93d9-262bdc24f383"
      },
      "execution_count": null,
      "outputs": [
        {
          "name": "stdout",
          "output_type": "stream",
          "text": [
            "Enter name : dhanaj\n",
            "Enter name : 33\n",
            "Enter name : 3333\n",
            "Enter name : 333333\n",
            "Enter amount : 3000\n"
          ]
        }
      ]
    },
    {
      "cell_type": "code",
      "source": [
        "# searching\n",
        "\n",
        "user_acc = int(input('Enter Your Acc No : '))\n",
        "\n",
        "bank_keys = bank.keys()\n",
        "\n",
        "\n",
        "if user_acc in bank_keys:\n",
        "  print(\"User Account Foun...\")\n",
        "  print(bank[user_acc])\n",
        "else:\n",
        "  print(\"User Account not Found\")"
      ],
      "metadata": {
        "colab": {
          "base_uri": "https://localhost:8080/"
        },
        "id": "qzB_wKfCiW26",
        "outputId": "1afeb75d-fd4e-4118-b293-99f4f2479368"
      },
      "execution_count": null,
      "outputs": [
        {
          "output_type": "stream",
          "name": "stdout",
          "text": [
            "Enter Your Acc No : 100020240000101\n",
            "User Account Foun...\n",
            "Name : dhanaj\n",
            " Account No : 100020240000101\n",
            "Age : 33 \n",
            " Address : 333333\n"
          ]
        }
      ]
    },
    {
      "cell_type": "code",
      "source": [
        "# login\n",
        "\n",
        "# create function -->\n",
        "\n",
        "dict = {1 : [\"name\", \"age\", \"city\"], 2 : [\"name\", \"age\", \"city\"]}\n",
        "\n",
        "def log_in(userName, password):\n",
        "  if userName in dict.keys():\n",
        "    if password == 1234:\n",
        "      \"withdraw, deposite, check balance, exit\"\n",
        "      # print(dict[userName])\n",
        "      return True\n",
        "    else:\n",
        "      return False\n",
        "      # print(\"invalid username and password\")\n",
        "  # else:\n",
        "  #   print(\"Invalid card\")\n",
        "\n",
        "\n",
        "log_in(1, 1234)\n",
        "\n"
      ],
      "metadata": {
        "colab": {
          "base_uri": "https://localhost:8080/"
        },
        "id": "pEhShvO3nx8U",
        "outputId": "a95942d8-4684-441d-f8ed-80af29db5fe2"
      },
      "execution_count": null,
      "outputs": [
        {
          "output_type": "stream",
          "name": "stdout",
          "text": [
            "['name', 'age', 'city']\n"
          ]
        }
      ]
    },
    {
      "cell_type": "code",
      "source": [
        "log_in(1, 12345)"
      ],
      "metadata": {
        "colab": {
          "base_uri": "https://localhost:8080/"
        },
        "id": "dT_di5_ZtPEj",
        "outputId": "10b3aff8-6e19-412f-dbc5-8438008d8eec"
      },
      "execution_count": null,
      "outputs": [
        {
          "output_type": "stream",
          "name": "stdout",
          "text": [
            "invalid username and password\n"
          ]
        }
      ]
    },
    {
      "cell_type": "code",
      "source": [
        "\n",
        "\n",
        "while True:\n",
        "\n",
        "  yes_no = input(\"Do you want to open an applicatiok : \").upper()\n",
        "\n",
        "  if yes_no == \"Y\":\n",
        "    acc = int(input(\"Enter account : \"))\n",
        "    password = int(input(\"Enter password : \"))\n",
        "\n",
        "    if log_in(acc, password):\n",
        "      print(\"Successfully login...\")\n",
        "\n",
        "      print('''\n",
        "            1. Login\n",
        "            2. New Account\n",
        "      ''')\n",
        "\n",
        "      log_new = int(input(\"Select Option : \"))\n",
        "\n",
        "      choice = int(input(\"1. Deposite amount \\n2. Withdraw amount \\n3. Check Balance\"))\n",
        "\n",
        "      if choice == 1:\n",
        "        if choice == 1:\n",
        "          account_number = int(input(\"Enter account number : \"))\n",
        "          amount = int(input(\"ENter amount : \"))\n",
        "          deposite(account_number, amount)\n",
        "          print(\"Your amount is successfully deposite...\")\n",
        "\n",
        "      elif choice == 2:\n",
        "        # create_account() ....create function\n",
        "\n",
        "    else:\n",
        "      print(\"invalid username and password\")\n",
        "\n",
        "\n",
        "  elif yes_no == \"No\":\n",
        "    pass\n",
        "\n",
        "  else:\n",
        "    print(\"Invalid Input...\")"
      ],
      "metadata": {
        "id": "XVSnkbzYuSXq"
      },
      "execution_count": null,
      "outputs": []
    },
    {
      "cell_type": "code",
      "source": [
        "# inheritance\n",
        "\n",
        "\n",
        "class Parent:\n",
        "\n",
        "  def property(self):\n",
        "    print(\"2 flat / 2 kg / 1 car\")\n",
        "\n",
        "\n",
        "class Child(Parent):\n",
        "  pass"
      ],
      "metadata": {
        "id": "F9zuRHqD3ZvH"
      },
      "execution_count": null,
      "outputs": []
    },
    {
      "cell_type": "code",
      "source": [
        "c = Child()"
      ],
      "metadata": {
        "id": "w74hzJEP38h4"
      },
      "execution_count": null,
      "outputs": []
    },
    {
      "cell_type": "code",
      "source": [
        "c.property()"
      ],
      "metadata": {
        "colab": {
          "base_uri": "https://localhost:8080/"
        },
        "id": "xmQ-YJ5T4Aj0",
        "outputId": "07de84c4-10af-4e40-8d9e-37de3874169b"
      },
      "execution_count": null,
      "outputs": [
        {
          "output_type": "stream",
          "name": "stdout",
          "text": [
            "2 flat / 2 kg / 1 car\n"
          ]
        }
      ]
    },
    {
      "cell_type": "code",
      "source": [
        "# inheritance\n",
        "\n",
        "class GrandParent:\n",
        "\n",
        "  def property1(self):\n",
        "    print(\"10 chash / 2 kg gold\")\n",
        "\n",
        "class Parent(GrandParent):\n",
        "\n",
        "  def property(self):\n",
        "    print(\"2 flat / 2 kg / 1 car\")\n",
        "\n",
        "\n",
        "class Child(Parent):\n",
        "  pass"
      ],
      "metadata": {
        "id": "6fQ7lDGk4J3C"
      },
      "execution_count": null,
      "outputs": []
    },
    {
      "cell_type": "code",
      "source": [
        "class A:\n",
        "  def add(self):\n",
        "    print(\"first\")\n",
        "\n",
        "  def add(self):\n",
        "    print(\"second\")"
      ],
      "metadata": {
        "id": "-EbxSib74egp"
      },
      "execution_count": null,
      "outputs": []
    },
    {
      "cell_type": "code",
      "source": [
        "a = A()"
      ],
      "metadata": {
        "id": "N4Clef8C56Rx"
      },
      "execution_count": null,
      "outputs": []
    },
    {
      "cell_type": "code",
      "source": [
        "a.add()"
      ],
      "metadata": {
        "colab": {
          "base_uri": "https://localhost:8080/"
        },
        "id": "3GPU4gwp6AEv",
        "outputId": "a1cc6f4f-61a0-4e8a-a665-85e2b5d9100f"
      },
      "execution_count": null,
      "outputs": [
        {
          "output_type": "stream",
          "name": "stdout",
          "text": [
            "second\n"
          ]
        }
      ]
    },
    {
      "cell_type": "code",
      "source": [
        "# inheritance  --> one parent ---> 2 child classes\n",
        "\n",
        "class Parent:\n",
        "\n",
        "  def property1(self):\n",
        "    print(\"10 chash / 2 kg gold\")\n",
        "\n",
        "class Child(Parent):\n",
        "\n",
        "  def property(self):\n",
        "    print(\"2 flat / 2 kg / 1 car\")\n",
        "\n",
        "\n",
        "class Child2(Parent):\n",
        "  pass"
      ],
      "metadata": {
        "id": "8gCaV8Sk6F_c"
      },
      "execution_count": null,
      "outputs": []
    },
    {
      "cell_type": "code",
      "source": [
        "c2 = Child()\n",
        "\n",
        "c2.property()"
      ],
      "metadata": {
        "colab": {
          "base_uri": "https://localhost:8080/"
        },
        "id": "BoVS_LlN66iE",
        "outputId": "3316bea3-fd2f-4f18-b7b8-345f0b3213c0"
      },
      "execution_count": null,
      "outputs": [
        {
          "output_type": "stream",
          "name": "stdout",
          "text": [
            "2 flat / 2 kg / 1 car\n"
          ]
        }
      ]
    },
    {
      "cell_type": "code",
      "source": [
        "# inheritance  --> one parent ---> 2 child classes\n",
        "\n",
        "class Parent1:\n",
        "\n",
        "  def property(self):\n",
        "    print(\"10 chash / 2 kg gold\")\n",
        "\n",
        "class Parent2:\n",
        "\n",
        "  def property(self):\n",
        "    print(\"2 flat / 2 kg / 1 car\")\n",
        "\n",
        "\n",
        "class Child(Parent1, Parent2):\n",
        "  pass"
      ],
      "metadata": {
        "id": "aWkMcrcN7FmG"
      },
      "execution_count": null,
      "outputs": []
    },
    {
      "cell_type": "code",
      "source": [
        "c= Child()\n",
        "\n",
        "c.property()"
      ],
      "metadata": {
        "colab": {
          "base_uri": "https://localhost:8080/"
        },
        "id": "t9nDnTbN7ivw",
        "outputId": "07b1ff16-238b-4072-8626-10b1d7771274"
      },
      "execution_count": null,
      "outputs": [
        {
          "output_type": "stream",
          "name": "stdout",
          "text": [
            "10 chash / 2 kg gold\n"
          ]
        }
      ]
    },
    {
      "cell_type": "code",
      "source": [
        "# inheritance  --> one parent ---> 2 child classes\n",
        "\n",
        "class Parent1:\n",
        "\n",
        "  def property(self):\n",
        "    print(\"10 chash / 2 kg gold\")\n",
        "\n",
        "class Parent2:\n",
        "\n",
        "  def property(self):\n",
        "    print(\"2 flat / 2 kg / 1 car\")\n",
        "\n",
        "\n",
        "class Child(Parent2, Parent1):\n",
        "  pass"
      ],
      "metadata": {
        "id": "AC6QSopG785u"
      },
      "execution_count": null,
      "outputs": []
    },
    {
      "cell_type": "code",
      "source": [
        "c= Child()\n",
        "\n",
        "c.property()"
      ],
      "metadata": {
        "colab": {
          "base_uri": "https://localhost:8080/"
        },
        "id": "lSpbwGO18CLi",
        "outputId": "40de8e96-1082-4aec-a708-6dbbbb4e4082"
      },
      "execution_count": null,
      "outputs": [
        {
          "output_type": "stream",
          "name": "stdout",
          "text": [
            "2 flat / 2 kg / 1 car\n"
          ]
        }
      ]
    },
    {
      "cell_type": "code",
      "source": [
        "# inheritance  --> one parent ---> 2 child classes\n",
        "\n",
        "class Parent1:\n",
        "\n",
        "  def marry(self):\n",
        "    print(\"9tara / 3sha \")\n",
        "\n",
        "class Child(Parent1):\n",
        "\n",
        "  def marry(self):\n",
        "    print(\"rashamika\")"
      ],
      "metadata": {
        "id": "4LfQHmRd8DhX"
      },
      "execution_count": null,
      "outputs": []
    },
    {
      "cell_type": "code",
      "source": [
        "p = Parent1()\n",
        "p.marry()"
      ],
      "metadata": {
        "colab": {
          "base_uri": "https://localhost:8080/"
        },
        "id": "GJ4HO6Si8b99",
        "outputId": "ca8efd66-fbba-44da-b7e4-ccae5c944d35"
      },
      "execution_count": null,
      "outputs": [
        {
          "output_type": "stream",
          "name": "stdout",
          "text": [
            "9tara / 3sha \n"
          ]
        }
      ]
    },
    {
      "cell_type": "code",
      "source": [
        "c = Child()\n",
        "c.marry()"
      ],
      "metadata": {
        "colab": {
          "base_uri": "https://localhost:8080/"
        },
        "id": "vQHCRjNJ8eJn",
        "outputId": "0d98f1c8-62d6-46e8-870a-cff1eda184df"
      },
      "execution_count": null,
      "outputs": [
        {
          "output_type": "stream",
          "name": "stdout",
          "text": [
            "rashamika\n"
          ]
        }
      ]
    },
    {
      "cell_type": "code",
      "source": [],
      "metadata": {
        "id": "u95G5P9h8fVf"
      },
      "execution_count": null,
      "outputs": []
    }
  ]
}