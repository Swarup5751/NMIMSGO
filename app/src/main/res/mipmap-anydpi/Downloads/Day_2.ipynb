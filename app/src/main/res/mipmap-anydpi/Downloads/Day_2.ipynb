{
  "nbformat": 4,
  "nbformat_minor": 0,
  "metadata": {
    "colab": {
      "provenance": []
    },
    "kernelspec": {
      "name": "python3",
      "display_name": "Python 3"
    },
    "language_info": {
      "name": "python"
    }
  },
  "cells": [
    {
      "cell_type": "code",
      "execution_count": null,
      "metadata": {
        "colab": {
          "base_uri": "https://localhost:8080/"
        },
        "id": "yGPHpy4iFSKY",
        "outputId": "4efe6012-de4b-4130-a197-761869f8230c"
      },
      "outputs": [
        {
          "output_type": "stream",
          "name": "stdout",
          "text": [
            "*  *  *  *  \n",
            "*  *  *  *  \n",
            "*  *  *  *  \n",
            "*  *  *  *  \n"
          ]
        }
      ],
      "source": [
        "# * * * *\n",
        "# * * * *\n",
        "# * * * *\n",
        "# * * * *\n",
        "\n",
        "import time\n",
        "for row in range(4):\n",
        "  for col in range(4):\n",
        "    time.sleep(1)\n",
        "    print(\"* \", end = \" \")\n",
        "  print()"
      ]
    },
    {
      "cell_type": "code",
      "source": [
        "# 11 12 13 14\n",
        "# 21 22 23 24\n",
        "# 31 32 33 34\n",
        "\n",
        "\n",
        "for row in range(1, 4):\n",
        "  for col in range(1, 5):\n",
        "    print(row, col, end = \" \")\n",
        "  print()"
      ],
      "metadata": {
        "colab": {
          "base_uri": "https://localhost:8080/"
        },
        "id": "2r0DHqyCIRw5",
        "outputId": "b740a354-a44a-4ac9-a1b7-0171df31c12b"
      },
      "execution_count": null,
      "outputs": [
        {
          "output_type": "stream",
          "name": "stdout",
          "text": [
            "1 1 1 2 1 3 1 4 \n",
            "2 1 2 2 2 3 2 4 \n",
            "3 1 3 2 3 3 3 4 \n"
          ]
        }
      ]
    },
    {
      "cell_type": "code",
      "source": [
        "# 11 12 13 14\n",
        "# 21 22 23 24\n",
        "# 31 32 33 34\n",
        "\n",
        "for row in range(1, 4):\n",
        "  for col in range(1, 5):\n",
        "    print((row*10)+col, end = \" \")\n",
        "  print()"
      ],
      "metadata": {
        "colab": {
          "base_uri": "https://localhost:8080/"
        },
        "id": "tsJQjAEKKFmy",
        "outputId": "23cf25d8-a29f-41d7-e8ff-3cf5ada7a3b7"
      },
      "execution_count": null,
      "outputs": [
        {
          "output_type": "stream",
          "name": "stdout",
          "text": [
            "11 12 13 14 \n",
            "21 22 23 24 \n",
            "31 32 33 34 \n"
          ]
        }
      ]
    },
    {
      "cell_type": "code",
      "source": [
        "# 1 1 1 1\n",
        "# 0 0 0 0\n",
        "# 1 1 1 1\n",
        "# 0 0 0 0\n",
        "\n",
        "\n",
        "for row in range(1, 5):\n",
        "  for col in range(1, 5):\n",
        "\n",
        "    if row % 2 == 0:\n",
        "      print(\"1 \", end = \" \")\n",
        "    else:\n",
        "      print(\"0 \", end = \" \")\n",
        "  print()"
      ],
      "metadata": {
        "colab": {
          "base_uri": "https://localhost:8080/"
        },
        "id": "B70ATsliOoDb",
        "outputId": "b44c6776-7896-4f86-a87d-2491ed0ba02f"
      },
      "execution_count": null,
      "outputs": [
        {
          "output_type": "stream",
          "name": "stdout",
          "text": [
            "0  0  0  0  \n",
            "1  1  1  1  \n",
            "0  0  0  0  \n",
            "1  1  1  1  \n"
          ]
        }
      ]
    },
    {
      "cell_type": "code",
      "source": [
        "for row in range(1, 5):\n",
        "  for col in range(1, 5):\n",
        "    print(row%2, end = \" \")\n",
        "  print()"
      ],
      "metadata": {
        "colab": {
          "base_uri": "https://localhost:8080/"
        },
        "id": "m6gxk0iHP6jr",
        "outputId": "2697d055-bba6-4013-8458-5adf1088f29e"
      },
      "execution_count": null,
      "outputs": [
        {
          "output_type": "stream",
          "name": "stdout",
          "text": [
            "1 1 1 1 \n",
            "0 0 0 0 \n",
            "1 1 1 1 \n",
            "0 0 0 0 \n"
          ]
        }
      ]
    },
    {
      "cell_type": "code",
      "source": [
        "# 1 0 1 0\n",
        "# 1 0 1 0\n",
        "# 1 0 1 0\n",
        "# 1 0 1 0\n",
        "\n",
        "for row in range(1, 5):\n",
        "  for col in range(1, 5):\n",
        "    print(col%2, end = \" \")\n",
        "  print()\n"
      ],
      "metadata": {
        "colab": {
          "base_uri": "https://localhost:8080/"
        },
        "id": "Hm_4Zt4NMd4U",
        "outputId": "6055b028-3955-4b6e-f698-a938de3ca62f"
      },
      "execution_count": null,
      "outputs": [
        {
          "output_type": "stream",
          "name": "stdout",
          "text": [
            "1 0 1 0 \n",
            "1 0 1 0 \n",
            "1 0 1 0 \n",
            "1 0 1 0 \n"
          ]
        }
      ]
    },
    {
      "cell_type": "code",
      "source": [
        "# 1\n",
        "# 1 0\n",
        "# 1 0 1\n",
        "# 1 0 1 0\n",
        "\n",
        "for row in range(1, 5):\n",
        "  for col in range(1, row+1):\n",
        "    print(col%2 , end = \" \")\n",
        "  print()\n"
      ],
      "metadata": {
        "colab": {
          "base_uri": "https://localhost:8080/"
        },
        "id": "Glc3eBpSQl5i",
        "outputId": "39f44d89-5e16-4298-8bb7-8277ff91f69e"
      },
      "execution_count": null,
      "outputs": [
        {
          "output_type": "stream",
          "name": "stdout",
          "text": [
            "1 \n",
            "1 0 \n",
            "1 0 1 \n",
            "1 0 1 0 \n"
          ]
        }
      ]
    },
    {
      "cell_type": "code",
      "source": [
        "# Collection Data Types\n",
        "\n",
        "1. list\n",
        "2. tuple\n",
        "3. dict\n",
        "4. set"
      ],
      "metadata": {
        "id": "vFmpu67dRlSa"
      },
      "execution_count": null,
      "outputs": []
    },
    {
      "cell_type": "code",
      "source": [
        "# 1. list\n",
        "\n",
        "-> we can store hetrogeneous\n",
        "-> indexing concept is applicable\n",
        "-> inserting order is preserve\n",
        "-> we can store duplicates\n",
        "-> we can use slice\n",
        "-> growanle in nature\n",
        "-> mutable"
      ],
      "metadata": {
        "id": "gxeMSjC2T7e0"
      },
      "execution_count": null,
      "outputs": []
    },
    {
      "cell_type": "code",
      "source": [
        "list = []\n",
        "\n",
        "type(list)"
      ],
      "metadata": {
        "colab": {
          "base_uri": "https://localhost:8080/"
        },
        "id": "ZpYFDtlTWAza",
        "outputId": "646e0b0b-54b1-4050-f141-1e2c17d5e7a6"
      },
      "execution_count": null,
      "outputs": [
        {
          "output_type": "execute_result",
          "data": {
            "text/plain": [
              "list"
            ]
          },
          "metadata": {},
          "execution_count": 13
        }
      ]
    },
    {
      "cell_type": "code",
      "source": [
        "id(list)"
      ],
      "metadata": {
        "colab": {
          "base_uri": "https://localhost:8080/"
        },
        "id": "DJX-FabYWE8X",
        "outputId": "1efacd10-3d89-415a-feeb-100aa091e38a"
      },
      "execution_count": null,
      "outputs": [
        {
          "output_type": "execute_result",
          "data": {
            "text/plain": [
              "139078469700416"
            ]
          },
          "metadata": {},
          "execution_count": 14
        }
      ]
    },
    {
      "cell_type": "code",
      "source": [
        "-> append(para)\n",
        "-> insert(index, value)\n",
        "-> min()\n",
        "-> max()\n",
        "> sort()\n",
        "-> sorted()\n",
        "-> pop()"
      ],
      "metadata": {
        "id": "dYje_JVYWGaH"
      },
      "execution_count": null,
      "outputs": []
    },
    {
      "cell_type": "code",
      "source": [
        "l = [10, 10, 20, 30, True, 10 + 0j,  \"Dhanraj\", 10.9]\n",
        "l"
      ],
      "metadata": {
        "colab": {
          "base_uri": "https://localhost:8080/"
        },
        "id": "L-WrWwUtWV64",
        "outputId": "8d03cee8-9bf3-4abe-8f41-c60183ad6d57"
      },
      "execution_count": null,
      "outputs": [
        {
          "output_type": "execute_result",
          "data": {
            "text/plain": [
              "[10, 10, 20, 30, True, (10+0j), 'Dhanraj', 10.9]"
            ]
          },
          "metadata": {},
          "execution_count": 15
        }
      ]
    },
    {
      "cell_type": "code",
      "source": [
        "for values in l:\n",
        "  print(values)"
      ],
      "metadata": {
        "colab": {
          "base_uri": "https://localhost:8080/"
        },
        "id": "H-RYRBgiWeMu",
        "outputId": "b7993d48-fed8-4346-ade9-e37488e582d9"
      },
      "execution_count": null,
      "outputs": [
        {
          "output_type": "stream",
          "name": "stdout",
          "text": [
            "10\n",
            "10\n",
            "20\n",
            "30\n",
            "True\n",
            "(10+0j)\n",
            "Dhanraj\n",
            "10.9\n"
          ]
        }
      ]
    },
    {
      "cell_type": "code",
      "source": [
        "for index in range(len(l)):\n",
        "  print(\"at \", index , \" we have \", l[index])"
      ],
      "metadata": {
        "colab": {
          "base_uri": "https://localhost:8080/"
        },
        "id": "UbKN4U1OWjyD",
        "outputId": "1ebfabb8-0c3e-4eeb-94a7-505cdac1ec09"
      },
      "execution_count": null,
      "outputs": [
        {
          "output_type": "stream",
          "name": "stdout",
          "text": [
            "at  0  we have  10\n",
            "at  1  we have  10\n",
            "at  2  we have  20\n",
            "at  3  we have  30\n",
            "at  4  we have  True\n",
            "at  5  we have  (10+0j)\n",
            "at  6  we have  Dhanraj\n",
            "at  7  we have  10.9\n"
          ]
        }
      ]
    },
    {
      "cell_type": "code",
      "source": [
        "l = [10, 20, 30]\n",
        "id(l)"
      ],
      "metadata": {
        "colab": {
          "base_uri": "https://localhost:8080/"
        },
        "id": "Yju-9W13W0iN",
        "outputId": "5e1fd345-540c-46e1-ac43-f9d45ceeaccd"
      },
      "execution_count": null,
      "outputs": [
        {
          "output_type": "execute_result",
          "data": {
            "text/plain": [
              "139078467866816"
            ]
          },
          "metadata": {},
          "execution_count": 18
        }
      ]
    },
    {
      "cell_type": "code",
      "source": [
        "l.append(500)\n",
        "l"
      ],
      "metadata": {
        "colab": {
          "base_uri": "https://localhost:8080/"
        },
        "id": "o5v3Z-MTW-Ro",
        "outputId": "32a69c56-e45b-4ebe-fbfe-6315af25fbbe"
      },
      "execution_count": null,
      "outputs": [
        {
          "output_type": "execute_result",
          "data": {
            "text/plain": [
              "[10, 20, 30, 500]"
            ]
          },
          "metadata": {},
          "execution_count": 19
        }
      ]
    },
    {
      "cell_type": "code",
      "source": [
        "id(l)"
      ],
      "metadata": {
        "colab": {
          "base_uri": "https://localhost:8080/"
        },
        "id": "zNogn63gXBUL",
        "outputId": "aef3410f-42d1-41f3-b7cc-db8709db211d"
      },
      "execution_count": null,
      "outputs": [
        {
          "output_type": "execute_result",
          "data": {
            "text/plain": [
              "139078467866816"
            ]
          },
          "metadata": {},
          "execution_count": 20
        }
      ]
    },
    {
      "cell_type": "code",
      "source": [
        "l.insert(1, 1)"
      ],
      "metadata": {
        "id": "MeKqQRLnXDUH"
      },
      "execution_count": null,
      "outputs": []
    },
    {
      "cell_type": "code",
      "source": [
        "l"
      ],
      "metadata": {
        "colab": {
          "base_uri": "https://localhost:8080/"
        },
        "id": "QurhWK9yXRbc",
        "outputId": "97b2f5c7-2f93-430f-851c-fbcfcb484d23"
      },
      "execution_count": null,
      "outputs": [
        {
          "output_type": "execute_result",
          "data": {
            "text/plain": [
              "[10, 1, 20, 30, 500]"
            ]
          },
          "metadata": {},
          "execution_count": 22
        }
      ]
    },
    {
      "cell_type": "code",
      "source": [
        "l.pop()\n",
        "l"
      ],
      "metadata": {
        "colab": {
          "base_uri": "https://localhost:8080/"
        },
        "id": "buBYgXWFXR74",
        "outputId": "eabbd50c-4960-44aa-939b-d416b7e5d8d9"
      },
      "execution_count": null,
      "outputs": [
        {
          "output_type": "execute_result",
          "data": {
            "text/plain": [
              "[10, 1, 20, 30]"
            ]
          },
          "metadata": {},
          "execution_count": 23
        }
      ]
    },
    {
      "cell_type": "code",
      "source": [
        "sum(l)\n",
        "print(min(l), max(l), sum(l))"
      ],
      "metadata": {
        "colab": {
          "base_uri": "https://localhost:8080/"
        },
        "id": "BuYBoQwNXn02",
        "outputId": "e0f835e6-3240-4b1d-a26e-d74913a0396b"
      },
      "execution_count": null,
      "outputs": [
        {
          "output_type": "stream",
          "name": "stdout",
          "text": [
            "1 30 61\n"
          ]
        }
      ]
    },
    {
      "cell_type": "code",
      "source": [
        "# define a empty list and i\n",
        "# insert elements till first blank is given\n",
        "# print --> list, min, max, avg"
      ],
      "metadata": {
        "id": "XOQZ60cBXWIF"
      },
      "execution_count": null,
      "outputs": []
    },
    {
      "cell_type": "code",
      "source": [
        "user_order_list = []\n",
        "\n",
        "while True:\n",
        "\n",
        "  user_order = input(\"Add To Cart -> \")\n",
        "\n",
        "  if user_order == \"\":\n",
        "    break\n",
        "  else:\n",
        "    user_order_list.append(int(user_order))\n",
        "\n",
        "print(user_order_list)\n",
        "print(\"Max -> \", max(user_order_list),  \" Min : \", min(user_order_list),  \"Avg : \", sum(user_order_list)/ len(user_order_list))"
      ],
      "metadata": {
        "id": "JCg5JDbtZyOO"
      },
      "execution_count": null,
      "outputs": []
    },
    {
      "cell_type": "code",
      "source": [
        "'''\n",
        "define list\n",
        "\n",
        "Sample Input --> 10, 20, 30, 40, 50, 1, 10, 20\n",
        "\n",
        "find avg and display\n",
        "\n",
        "like avg = 30\n",
        "\n",
        "if avg > element ---> num += 10 otherwise num -= 5\n",
        "\n",
        "'''"
      ],
      "metadata": {
        "id": "7iEnxLV_aGnF"
      },
      "execution_count": null,
      "outputs": []
    },
    {
      "cell_type": "code",
      "source": [
        "l = [10, 20, 30, 40, 50, 1, 10, 20]\n",
        "\n",
        "avg = sum(l) // len(l)\n",
        "for element in range(len(l)):\n",
        "\n",
        "  if l[element] > avg:\n",
        "    l[element] -= 5\n",
        "  else:\n",
        "    l[element] += 10\n",
        "\n",
        "print(\"Avg is : \", avg)\n",
        "print(\"Final list -> \", l)"
      ],
      "metadata": {
        "colab": {
          "base_uri": "https://localhost:8080/"
        },
        "id": "dH1kYDuIeHh1",
        "outputId": "6d38a844-c49d-46c5-db8f-621de1b9aac6"
      },
      "execution_count": null,
      "outputs": [
        {
          "output_type": "stream",
          "name": "stdout",
          "text": [
            "Avg is :  22\n",
            "Final list ->  [20, 30, 25, 35, 45, 11, 20, 30]\n"
          ]
        }
      ]
    },
    {
      "cell_type": "code",
      "source": [
        "l = [10, 20,10, 10, 20]\n",
        "l.count(10)"
      ],
      "metadata": {
        "colab": {
          "base_uri": "https://localhost:8080/"
        },
        "id": "X-rRFrY7fLCe",
        "outputId": "389b9c42-cb98-45a0-fe60-0a6d39921bf3"
      },
      "execution_count": null,
      "outputs": [
        {
          "output_type": "execute_result",
          "data": {
            "text/plain": [
              "3"
            ]
          },
          "metadata": {},
          "execution_count": 5
        }
      ]
    },
    {
      "cell_type": "code",
      "source": [
        "# # without using count function solve the question\n",
        "\n",
        "# Sample input --> l = [10, 20,10, 10, 20]\n",
        "# Expected output --> 3\n",
        "\n",
        "\n",
        "l = [10, 20,10, 10, 20]\n",
        "count = 0\n",
        "element = 10\n",
        "\n",
        "for x in l:\n",
        "  if x == element:\n",
        "    count += 1\n",
        "\n",
        "print(\"Count is : \", count)\n"
      ],
      "metadata": {
        "colab": {
          "base_uri": "https://localhost:8080/"
        },
        "id": "63j_tvGJf7qK",
        "outputId": "63f90a76-d4ec-4e05-f82f-5cec094018c4"
      },
      "execution_count": null,
      "outputs": [
        {
          "output_type": "stream",
          "name": "stdout",
          "text": [
            "Count is :  3\n"
          ]
        }
      ]
    },
    {
      "cell_type": "code",
      "source": [
        "list1 = [10, 20, 30, 40, 55]\n",
        "list2 = [1, 2, 3, 4]\n",
        "\n",
        "for x in range(len(list2)):\n",
        "  list1[x] += list2[x]\n",
        "\n",
        "print(list1)"
      ],
      "metadata": {
        "colab": {
          "base_uri": "https://localhost:8080/"
        },
        "id": "fK0yvAhkhKaJ",
        "outputId": "68190f9c-5358-4423-b36f-d57b8c1a0ab2"
      },
      "execution_count": null,
      "outputs": [
        {
          "output_type": "stream",
          "name": "stdout",
          "text": [
            "[11, 22, 33, 44, 55]\n"
          ]
        }
      ]
    },
    {
      "cell_type": "code",
      "source": [
        "# define a list\n",
        "# if element is odd then add\n",
        "# if element is even the multiply\n",
        "# print list, odd , even, and addition of odd + even\n",
        "\n",
        "\n",
        "l = [1, 2, 3, 4, 5, 6, 7, 8, 9, 10]\n",
        "even = 1\n",
        "odd = 0\n",
        "\n",
        "for element in l:\n",
        "  if element % 2 == 0:\n",
        "    even *= element\n",
        "  else:\n",
        "    odd += element\n",
        "\n",
        "print(\"Odd numbers addition is : \", odd)\n",
        "print(\"Odd numbers addition is : \", even)\n",
        "print(\"Odd numbers addition is : \", even + odd)"
      ],
      "metadata": {
        "colab": {
          "base_uri": "https://localhost:8080/"
        },
        "id": "fMi-ymA8imdr",
        "outputId": "461e7053-1df4-49f8-d909-4629bf025254"
      },
      "execution_count": null,
      "outputs": [
        {
          "output_type": "stream",
          "name": "stdout",
          "text": [
            "Odd numbers addition is :  25\n",
            "Odd numbers addition is :  3840\n",
            "Odd numbers addition is :  3865\n"
          ]
        }
      ]
    },
    {
      "cell_type": "code",
      "source": [
        "l = [1, 2, 3, 4, 5]\n",
        "\n",
        "for x in range(len(l)):\n",
        "  out = l.pop()\n",
        "  l.insert(0, out)\n",
        "  print(l)\n",
        "\n",
        "print(\"------------------------\")\n",
        "\n",
        "for x in range(len(l)):\n",
        "  out = l.pop(0)\n",
        "  l.append(out)\n",
        "  print(l)"
      ],
      "metadata": {
        "colab": {
          "base_uri": "https://localhost:8080/"
        },
        "id": "Ag-84fq9i45g",
        "outputId": "c66593a2-4015-4b9d-b187-21ed0f8aa947"
      },
      "execution_count": null,
      "outputs": [
        {
          "output_type": "stream",
          "name": "stdout",
          "text": [
            "[5, 1, 2, 3, 4]\n",
            "[4, 5, 1, 2, 3]\n",
            "[3, 4, 5, 1, 2]\n",
            "[2, 3, 4, 5, 1]\n",
            "[1, 2, 3, 4, 5]\n",
            "------------------------\n",
            "[2, 3, 4, 5, 1]\n",
            "[3, 4, 5, 1, 2]\n",
            "[4, 5, 1, 2, 3]\n",
            "[5, 1, 2, 3, 4]\n",
            "[1, 2, 3, 4, 5]\n"
          ]
        }
      ]
    },
    {
      "cell_type": "code",
      "source": [
        "# set\n",
        "\n",
        "'''\n",
        "-> set() , {at least one element}\n",
        "-> hetrogeneous\n",
        "-> duplicates not allow\n",
        "-> order not preserved\n",
        "-> indexing not applicable\n",
        "-> growable in nature\n",
        "'''\n",
        "\n",
        "s = {}\n",
        "type(s)"
      ],
      "metadata": {
        "colab": {
          "base_uri": "https://localhost:8080/"
        },
        "id": "ErohlvWxnKXq",
        "outputId": "7d3c1313-e75f-43f7-c113-117542968b10"
      },
      "execution_count": null,
      "outputs": [
        {
          "output_type": "execute_result",
          "data": {
            "text/plain": [
              "dict"
            ]
          },
          "metadata": {},
          "execution_count": 15
        }
      ]
    },
    {
      "cell_type": "code",
      "source": [
        "s = set()\n",
        "type(s)"
      ],
      "metadata": {
        "colab": {
          "base_uri": "https://localhost:8080/"
        },
        "id": "Hb4fLyljprcP",
        "outputId": "7ab8bcdd-3179-494c-b7f8-9fd3d795ffaf"
      },
      "execution_count": null,
      "outputs": [
        {
          "output_type": "execute_result",
          "data": {
            "text/plain": [
              "set"
            ]
          },
          "metadata": {},
          "execution_count": 17
        }
      ]
    },
    {
      "cell_type": "code",
      "source": [
        "s = {1}\n",
        "type(s)"
      ],
      "metadata": {
        "colab": {
          "base_uri": "https://localhost:8080/"
        },
        "id": "ar9AJhvwpu8G",
        "outputId": "4e3729b5-1dd1-4b32-99e2-c56359e7ad45"
      },
      "execution_count": null,
      "outputs": [
        {
          "output_type": "execute_result",
          "data": {
            "text/plain": [
              "set"
            ]
          },
          "metadata": {},
          "execution_count": 18
        }
      ]
    },
    {
      "cell_type": "code",
      "source": [
        "s = {1, 1, 1, 1, 1, 1, 1}\n",
        "s"
      ],
      "metadata": {
        "colab": {
          "base_uri": "https://localhost:8080/"
        },
        "id": "qMf1N4qbp0lf",
        "outputId": "ffa25bdd-60b3-4382-a9e6-1928a200e579"
      },
      "execution_count": null,
      "outputs": [
        {
          "output_type": "execute_result",
          "data": {
            "text/plain": [
              "{1}"
            ]
          },
          "metadata": {},
          "execution_count": 19
        }
      ]
    },
    {
      "cell_type": "code",
      "source": [
        "s = {1, 2, 3, 4, 5}\n",
        "s.pop()\n",
        "s"
      ],
      "metadata": {
        "colab": {
          "base_uri": "https://localhost:8080/"
        },
        "id": "MnO8VDrjp4Cs",
        "outputId": "e7f6d30c-4817-4165-8078-94e0373e3801"
      },
      "execution_count": null,
      "outputs": [
        {
          "output_type": "execute_result",
          "data": {
            "text/plain": [
              "{2, 3, 4, 5}"
            ]
          },
          "metadata": {},
          "execution_count": 20
        }
      ]
    },
    {
      "cell_type": "code",
      "source": [
        "l = [1, 2, 3, 4]\n",
        "l.remove(1)\n",
        "l"
      ],
      "metadata": {
        "colab": {
          "base_uri": "https://localhost:8080/"
        },
        "id": "WQkoGezZqJVB",
        "outputId": "31a24748-ead7-490f-db5f-9234f55c8798"
      },
      "execution_count": null,
      "outputs": [
        {
          "output_type": "execute_result",
          "data": {
            "text/plain": [
              "[2, 3, 4]"
            ]
          },
          "metadata": {},
          "execution_count": 21
        }
      ]
    },
    {
      "cell_type": "code",
      "source": [
        "l = [1, 2, 3, 4]\n",
        "l.remove(10)\n",
        "l"
      ],
      "metadata": {
        "colab": {
          "base_uri": "https://localhost:8080/",
          "height": 183
        },
        "id": "sMJ5bW8WqYFH",
        "outputId": "c037dc72-d6a9-4068-9f81-8f3780b32888"
      },
      "execution_count": null,
      "outputs": [
        {
          "output_type": "error",
          "ename": "ValueError",
          "evalue": "list.remove(x): x not in list",
          "traceback": [
            "\u001b[0;31m---------------------------------------------------------------------------\u001b[0m",
            "\u001b[0;31mValueError\u001b[0m                                Traceback (most recent call last)",
            "\u001b[0;32m<ipython-input-22-87728601cd81>\u001b[0m in \u001b[0;36m<cell line: 2>\u001b[0;34m()\u001b[0m\n\u001b[1;32m      1\u001b[0m \u001b[0ml\u001b[0m \u001b[0;34m=\u001b[0m \u001b[0;34m[\u001b[0m\u001b[0;36m1\u001b[0m\u001b[0;34m,\u001b[0m \u001b[0;36m2\u001b[0m\u001b[0;34m,\u001b[0m \u001b[0;36m3\u001b[0m\u001b[0;34m,\u001b[0m \u001b[0;36m4\u001b[0m\u001b[0;34m]\u001b[0m\u001b[0;34m\u001b[0m\u001b[0;34m\u001b[0m\u001b[0m\n\u001b[0;32m----> 2\u001b[0;31m \u001b[0ml\u001b[0m\u001b[0;34m.\u001b[0m\u001b[0mremove\u001b[0m\u001b[0;34m(\u001b[0m\u001b[0;36m10\u001b[0m\u001b[0;34m)\u001b[0m\u001b[0;34m\u001b[0m\u001b[0;34m\u001b[0m\u001b[0m\n\u001b[0m\u001b[1;32m      3\u001b[0m \u001b[0ml\u001b[0m\u001b[0;34m\u001b[0m\u001b[0;34m\u001b[0m\u001b[0m\n",
            "\u001b[0;31mValueError\u001b[0m: list.remove(x): x not in list"
          ]
        }
      ]
    },
    {
      "cell_type": "code",
      "source": [
        "l = {1, 2, 3, 4}\n",
        "l.remove(1)\n",
        "l"
      ],
      "metadata": {
        "colab": {
          "base_uri": "https://localhost:8080/"
        },
        "id": "7wsHHFv8qaQo",
        "outputId": "7b692624-c714-45e2-f06c-87b6f2120709"
      },
      "execution_count": null,
      "outputs": [
        {
          "output_type": "execute_result",
          "data": {
            "text/plain": [
              "{2, 3, 4}"
            ]
          },
          "metadata": {},
          "execution_count": 23
        }
      ]
    },
    {
      "cell_type": "code",
      "source": [
        "l = {1, 2, 3, 4}\n",
        "l.remove(10)\n",
        "l"
      ],
      "metadata": {
        "colab": {
          "base_uri": "https://localhost:8080/",
          "height": 183
        },
        "id": "zxxQwwPvqjdK",
        "outputId": "685475f8-90d5-4988-bf1a-93443102245c"
      },
      "execution_count": null,
      "outputs": [
        {
          "output_type": "error",
          "ename": "KeyError",
          "evalue": "10",
          "traceback": [
            "\u001b[0;31m---------------------------------------------------------------------------\u001b[0m",
            "\u001b[0;31mKeyError\u001b[0m                                  Traceback (most recent call last)",
            "\u001b[0;32m<ipython-input-24-874053174eea>\u001b[0m in \u001b[0;36m<cell line: 2>\u001b[0;34m()\u001b[0m\n\u001b[1;32m      1\u001b[0m \u001b[0ml\u001b[0m \u001b[0;34m=\u001b[0m \u001b[0;34m{\u001b[0m\u001b[0;36m1\u001b[0m\u001b[0;34m,\u001b[0m \u001b[0;36m2\u001b[0m\u001b[0;34m,\u001b[0m \u001b[0;36m3\u001b[0m\u001b[0;34m,\u001b[0m \u001b[0;36m4\u001b[0m\u001b[0;34m}\u001b[0m\u001b[0;34m\u001b[0m\u001b[0;34m\u001b[0m\u001b[0m\n\u001b[0;32m----> 2\u001b[0;31m \u001b[0ml\u001b[0m\u001b[0;34m.\u001b[0m\u001b[0mremove\u001b[0m\u001b[0;34m(\u001b[0m\u001b[0;36m10\u001b[0m\u001b[0;34m)\u001b[0m\u001b[0;34m\u001b[0m\u001b[0;34m\u001b[0m\u001b[0m\n\u001b[0m\u001b[1;32m      3\u001b[0m \u001b[0ml\u001b[0m\u001b[0;34m\u001b[0m\u001b[0;34m\u001b[0m\u001b[0m\n",
            "\u001b[0;31mKeyError\u001b[0m: 10"
          ]
        }
      ]
    },
    {
      "cell_type": "code",
      "source": [
        "s = {1, 2, 3, 4}\n",
        "s.discard(10)\n",
        "s"
      ],
      "metadata": {
        "colab": {
          "base_uri": "https://localhost:8080/"
        },
        "id": "DNoi1WznqnXq",
        "outputId": "b004a5be-c198-43db-b3a3-18058dbbe126"
      },
      "execution_count": null,
      "outputs": [
        {
          "output_type": "execute_result",
          "data": {
            "text/plain": [
              "{1, 2, 3, 4}"
            ]
          },
          "metadata": {},
          "execution_count": 1
        }
      ]
    },
    {
      "cell_type": "code",
      "source": [
        "s = {1}\n",
        "id(s)"
      ],
      "metadata": {
        "id": "xYKYxoUlqzYR",
        "colab": {
          "base_uri": "https://localhost:8080/"
        },
        "outputId": "a62199b4-bf86-4556-9e68-2178c0438b21"
      },
      "execution_count": null,
      "outputs": [
        {
          "output_type": "execute_result",
          "data": {
            "text/plain": [
              "138658696078368"
            ]
          },
          "metadata": {},
          "execution_count": 2
        }
      ]
    },
    {
      "cell_type": "code",
      "source": [
        "s.add(3)\n"
      ],
      "metadata": {
        "id": "WYVLO4Lo8C_P"
      },
      "execution_count": null,
      "outputs": []
    },
    {
      "cell_type": "code",
      "source": [
        "id(s)"
      ],
      "metadata": {
        "colab": {
          "base_uri": "https://localhost:8080/"
        },
        "id": "f9w0K7o98GT1",
        "outputId": "3438c680-9717-4f23-845b-5cf756dc753d"
      },
      "execution_count": null,
      "outputs": [
        {
          "output_type": "execute_result",
          "data": {
            "text/plain": [
              "138658696078368"
            ]
          },
          "metadata": {},
          "execution_count": 4
        }
      ]
    },
    {
      "cell_type": "code",
      "source": [
        "l = [1, 3, 0, -1, 1]\n",
        "\n",
        "l.sort()   # within sort"
      ],
      "metadata": {
        "id": "v8jBvXw88Hbk"
      },
      "execution_count": null,
      "outputs": []
    },
    {
      "cell_type": "code",
      "source": [
        "print(l.sort())"
      ],
      "metadata": {
        "colab": {
          "base_uri": "https://localhost:8080/"
        },
        "id": "orMnXxIw8fVr",
        "outputId": "adcefb79-0777-4518-b4dd-50fc017e6a06"
      },
      "execution_count": null,
      "outputs": [
        {
          "output_type": "stream",
          "name": "stdout",
          "text": [
            "None\n"
          ]
        }
      ]
    },
    {
      "cell_type": "code",
      "source": [
        "l = [1, 3, 0, -1, 1, 0]\n",
        "print(sorted(l))"
      ],
      "metadata": {
        "colab": {
          "base_uri": "https://localhost:8080/"
        },
        "id": "HCV_QjO78k_Z",
        "outputId": "33e0ace3-7d71-48db-ee63-46d8ac557558"
      },
      "execution_count": null,
      "outputs": [
        {
          "output_type": "stream",
          "name": "stdout",
          "text": [
            "[-1, 0, 0, 1, 1, 3]\n"
          ]
        }
      ]
    },
    {
      "cell_type": "code",
      "source": [
        "# Sample Input --> l = [1, 2, 3, 1, 2, 3, 3, 3, 2, 1, 0, 9, 1]\n",
        "# Expected output -->\n",
        "\n",
        "# 1 -> 4\n",
        "# 2 -> 3\n",
        "# 3 -> 4\n",
        "# 0 -> 1\n",
        "# 9 -> 1\n",
        "\n",
        "\n",
        "l = [1, 2, 3, 1, 2, 3, 3, 3, 2, 1, 0, 9, 1]\n",
        "\n",
        "unique_list = set(l)\n",
        "\n",
        "for x in unique_list:\n",
        "  print(x , \" -> \", l.count(x))\n"
      ],
      "metadata": {
        "colab": {
          "base_uri": "https://localhost:8080/"
        },
        "id": "VuyUbRnI86Kd",
        "outputId": "5cd641de-0f90-45b7-99c2-1ef61f10e16e"
      },
      "execution_count": null,
      "outputs": [
        {
          "output_type": "stream",
          "name": "stdout",
          "text": [
            "0  ->  1\n",
            "1  ->  4\n",
            "2  ->  3\n",
            "3  ->  4\n",
            "9  ->  1\n"
          ]
        }
      ]
    },
    {
      "cell_type": "code",
      "source": [
        "# Tuple\n",
        "\n",
        "-> htro\n",
        "-> ()\n",
        "-> Immutable"
      ],
      "metadata": {
        "id": "XdPlqRxfBz5i"
      },
      "execution_count": null,
      "outputs": []
    },
    {
      "cell_type": "code",
      "source": [
        "t = ()\n",
        "type(t)"
      ],
      "metadata": {
        "colab": {
          "base_uri": "https://localhost:8080/"
        },
        "id": "nn10nEkoCFbz",
        "outputId": "f5532386-39cc-45f4-bd0e-f0402e3842cf"
      },
      "execution_count": null,
      "outputs": [
        {
          "output_type": "execute_result",
          "data": {
            "text/plain": [
              "tuple"
            ]
          },
          "metadata": {},
          "execution_count": 14
        }
      ]
    },
    {
      "cell_type": "code",
      "source": [
        "id(t)"
      ],
      "metadata": {
        "colab": {
          "base_uri": "https://localhost:8080/"
        },
        "id": "LMm0WcbHCZ94",
        "outputId": "0936e790-3d20-4213-b917-58d3755ce86e"
      },
      "execution_count": null,
      "outputs": [
        {
          "output_type": "execute_result",
          "data": {
            "text/plain": [
              "138658990948464"
            ]
          },
          "metadata": {},
          "execution_count": 15
        }
      ]
    },
    {
      "cell_type": "code",
      "source": [
        "t = (1, 2)\n",
        "id(t)"
      ],
      "metadata": {
        "colab": {
          "base_uri": "https://localhost:8080/"
        },
        "id": "nVDI1ZqxCchg",
        "outputId": "69160c6a-b59d-4051-e969-786205b1db2e"
      },
      "execution_count": null,
      "outputs": [
        {
          "output_type": "execute_result",
          "data": {
            "text/plain": [
              "138658687413824"
            ]
          },
          "metadata": {},
          "execution_count": 16
        }
      ]
    },
    {
      "cell_type": "code",
      "source": [
        "t = ([1],)\n",
        "id(t)"
      ],
      "metadata": {
        "colab": {
          "base_uri": "https://localhost:8080/"
        },
        "id": "WECbkk2EChoy",
        "outputId": "6223c1b0-d546-4d0f-de84-419580112e49"
      },
      "execution_count": null,
      "outputs": [
        {
          "output_type": "execute_result",
          "data": {
            "text/plain": [
              "138657663488528"
            ]
          },
          "metadata": {},
          "execution_count": 19
        }
      ]
    },
    {
      "cell_type": "code",
      "source": [
        "t[0].append(10)\n",
        "t"
      ],
      "metadata": {
        "colab": {
          "base_uri": "https://localhost:8080/"
        },
        "id": "yjITr_HKEUBZ",
        "outputId": "a6393465-4bd1-4816-856d-be63c9f6e456"
      },
      "execution_count": null,
      "outputs": [
        {
          "output_type": "execute_result",
          "data": {
            "text/plain": [
              "([1, 10],)"
            ]
          },
          "metadata": {},
          "execution_count": 20
        }
      ]
    },
    {
      "cell_type": "code",
      "source": [
        "id(t)"
      ],
      "metadata": {
        "colab": {
          "base_uri": "https://localhost:8080/"
        },
        "id": "Yd3EeOTVEa2T",
        "outputId": "63389818-f446-456e-af9a-8887209bed22"
      },
      "execution_count": null,
      "outputs": [
        {
          "output_type": "execute_result",
          "data": {
            "text/plain": [
              "138657663488528"
            ]
          },
          "metadata": {},
          "execution_count": 21
        }
      ]
    },
    {
      "cell_type": "code",
      "source": [
        "# dict\n",
        "\n",
        "# key : value"
      ],
      "metadata": {
        "id": "S7j-014hEgWx"
      },
      "execution_count": null,
      "outputs": []
    },
    {
      "cell_type": "code",
      "source": [
        "d = {1 : \"Python\", 1 : \"Java\"}\n",
        "d"
      ],
      "metadata": {
        "colab": {
          "base_uri": "https://localhost:8080/"
        },
        "id": "HhRXzvujFw-E",
        "outputId": "c6b3178c-7ce4-4bc6-f8c6-1315a658c288"
      },
      "execution_count": null,
      "outputs": [
        {
          "output_type": "execute_result",
          "data": {
            "text/plain": [
              "{1: 'Java'}"
            ]
          },
          "metadata": {},
          "execution_count": 23
        }
      ]
    },
    {
      "cell_type": "code",
      "source": [
        "d = {1 : \"Python\", 1 : \"Java\"}\n",
        "d.items()"
      ],
      "metadata": {
        "colab": {
          "base_uri": "https://localhost:8080/"
        },
        "id": "RVoNQ-gZF1bb",
        "outputId": "4ce39743-d343-42ab-ffd8-3b8d737f45bb"
      },
      "execution_count": null,
      "outputs": [
        {
          "output_type": "execute_result",
          "data": {
            "text/plain": [
              "dict_items([(1, 'Java')])"
            ]
          },
          "metadata": {},
          "execution_count": 24
        }
      ]
    },
    {
      "cell_type": "code",
      "source": [
        "d = {1 : \"Python\", 2 : \"Java\", 3 : \"Ruby\", 4 : \"R\"}\n",
        "\n",
        "for key, value in d.items():\n",
        "  print(\"key : \", key ,  \" Value : \", value)"
      ],
      "metadata": {
        "colab": {
          "base_uri": "https://localhost:8080/"
        },
        "id": "hxBzRiMVF5ZV",
        "outputId": "97b90081-80eb-4498-b0c4-d93404034cb7"
      },
      "execution_count": null,
      "outputs": [
        {
          "output_type": "stream",
          "name": "stdout",
          "text": [
            "key :  1  Value :  Python\n",
            "key :  2  Value :  Java\n",
            "key :  3  Value :  Ruby\n",
            "key :  4  Value :  R\n"
          ]
        }
      ]
    },
    {
      "cell_type": "code",
      "source": [
        "d.values()"
      ],
      "metadata": {
        "colab": {
          "base_uri": "https://localhost:8080/"
        },
        "id": "G2F3Kpt0HRSg",
        "outputId": "3b951941-c17a-4f61-9208-5afa3b87a08e"
      },
      "execution_count": null,
      "outputs": [
        {
          "output_type": "execute_result",
          "data": {
            "text/plain": [
              "dict_values(['Python', 'Java', 'Ruby', 'R'])"
            ]
          },
          "metadata": {},
          "execution_count": 28
        }
      ]
    },
    {
      "cell_type": "code",
      "source": [
        "d.keys()"
      ],
      "metadata": {
        "colab": {
          "base_uri": "https://localhost:8080/"
        },
        "id": "SAID__14H1nV",
        "outputId": "4bdc312b-9d22-42c2-850d-0abaefa2ee8a"
      },
      "execution_count": null,
      "outputs": [
        {
          "output_type": "execute_result",
          "data": {
            "text/plain": [
              "dict_keys([1, 2, 3, 4])"
            ]
          },
          "metadata": {},
          "execution_count": 29
        }
      ]
    },
    {
      "cell_type": "code",
      "source": [
        "# Sample Input --> l = [1, 2, 3, 1, 2, 3, 3, 3, 2, 1, 0, 9, 1]\n",
        "# Expected output -->\n",
        "\n",
        "# { 1 : 4\n",
        "# 2 : 3\n",
        "# 3 : 4\n",
        "# 0 : 1\n",
        "# 9 : 1\n",
        "# }\n",
        "\n",
        "l = [1, 2, 3, 1, 2, 3, 3, 3, 2, 1, 0, 9, 1]\n",
        "\n",
        "unique_list = sorted(set(l))\n",
        "my_dict = {}\n",
        "\n",
        "for x in unique_list:\n",
        "  my_dict[x] = l.count(x)\n",
        "\n",
        "print(my_dict)\n"
      ],
      "metadata": {
        "colab": {
          "base_uri": "https://localhost:8080/"
        },
        "id": "dsoK23ssH4dT",
        "outputId": "656ec198-b2d5-49d4-9e59-e5b3dfc9cbcd"
      },
      "execution_count": null,
      "outputs": [
        {
          "output_type": "stream",
          "name": "stdout",
          "text": [
            "{0: 1, 1: 4, 2: 3, 3: 4, 9: 1}\n"
          ]
        }
      ]
    },
    {
      "cell_type": "code",
      "source": [
        "# Project\n",
        "\n",
        "# You are a tea stall owner\n",
        "# selling products --> tea = 12, coffee = 30, water = 20, banmaska =100\n",
        "# print total amount\n",
        "\n",
        "\n",
        "\n",
        "\n",
        "tea = coffee = banmaska = water = 0\n",
        "while True:\n",
        "\n",
        "  waiter = input(\"Do You Want To Order : (Y/N)\")\n",
        "\n",
        "  if waiter == \"Y\":\n",
        "\n",
        "    user_order = int(input(\"1. Tea \\t\\t 12 \\n2. Coffee \\t 30 \\n3. Water \\t 20 \\n4. Ban Maska \\t 100 \\n0. Exit \\n\"))\n",
        "\n",
        "    if user_order == 1:\n",
        "      print(\"Tea Selected...\")\n",
        "      tea += 1\n",
        "\n",
        "    elif user_order == 2:\n",
        "      print(\" Coffee Selected...\")\n",
        "      coffee += 1\n",
        "\n",
        "    elif user_order == 3:\n",
        "      print(\" Water Selected...\")\n",
        "      water += 1\n",
        "\n",
        "    elif user_order == 4:\n",
        "      print(\"BunMaska Selected...\")\n",
        "      banmaska += 1\n",
        "\n",
        "    elif user_order == 0:\n",
        "      print(\"Thanks For Ordering...\")\n",
        "      break\n",
        "\n",
        "    else:\n",
        "      print(\"Bhai dekh ke...\")\n",
        "\n",
        "  elif waiter == \"N\":\n",
        "    pass\n",
        "\n",
        "\n",
        "\n",
        "total_amount = (tea*12) + (coffee*30) + (water * 20) + (banmaska*100)\n",
        "print(\"Total Payable amount is : \" ,  total_amount)\n",
        "\n"
      ],
      "metadata": {
        "colab": {
          "base_uri": "https://localhost:8080/"
        },
        "id": "PiTmEk8RKVXd",
        "outputId": "e7581998-894a-43e9-ea5b-f94cca130fa9"
      },
      "execution_count": null,
      "outputs": [
        {
          "output_type": "stream",
          "name": "stdout",
          "text": [
            "Do You Want To Order : (Y/N)Y\n",
            "1. Tea \t\t 12 \n",
            "2. Coffee \t 30 \n",
            "3. Water \t 20 \n",
            "4. Ban Maska \t 100 \n",
            "0. Exit \n",
            "1\n",
            "Tea Selected...\n",
            "Do You Want To Order : (Y/N)3\n",
            "Do You Want To Order : (Y/N)4\n",
            "Do You Want To Order : (Y/N)y\n",
            "Do You Want To Order : (Y/N)Y\n",
            "1. Tea \t\t 12 \n",
            "2. Coffee \t 30 \n",
            "3. Water \t 20 \n",
            "4. Ban Maska \t 100 \n",
            "0. Exit \n",
            "3\n",
            " Water Selected...\n",
            "Do You Want To Order : (Y/N)Y\n",
            "1. Tea \t\t 12 \n",
            "2. Coffee \t 30 \n",
            "3. Water \t 20 \n",
            "4. Ban Maska \t 100 \n",
            "0. Exit \n",
            "4\n",
            "BunMaska Selected...\n",
            "Do You Want To Order : (Y/N)\n",
            "Do You Want To Order : (Y/N)Y\n",
            "1. Tea \t\t 12 \n",
            "2. Coffee \t 30 \n",
            "3. Water \t 20 \n",
            "4. Ban Maska \t 100 \n",
            "0. Exit \n",
            "0\n",
            "Thanks For Ordering...\n",
            "Total Payable amount is :  132\n"
          ]
        }
      ]
    },
    {
      "cell_type": "code",
      "source": [
        "Bill No : 1000000101\n",
        "-----------------------------\n",
        "Tea     12    2   24\n",
        "Coffee  30    2   60\n",
        "----------------------------\n",
        "Total Amount :    84"
      ],
      "metadata": {
        "id": "bxCgB3miQRhk"
      },
      "execution_count": null,
      "outputs": []
    },
    {
      "cell_type": "code",
      "source": [
        "import time\n",
        "\n",
        "bill_no = 1000000100\n",
        "tea = coffee = water = banmaska = 0\n",
        "\n",
        "while True:\n",
        "\n",
        "  machine = input(\"Machine On or OFF : (Y/N) ? \")\n",
        "\n",
        "  if machine == \"Y\":\n",
        "\n",
        "    yes_no = input(\"Any Order : (Y/N) ? \")\n",
        "\n",
        "    if yes_no == \"Y\":\n",
        "\n",
        "      tea = int(input(\"Tea : \"))\n",
        "      coffee = int(input(\"Coffee : \"))\n",
        "      banmaska = int(input(\"Banmaska : \"))\n",
        "      water = int(input(\"Water  : \"))\n",
        "\n",
        "\n",
        "      # printing bill\n",
        "\n",
        "      bill_no += 1\n",
        "\n",
        "      for x in range(10):\n",
        "        time.sleep(1)\n",
        "        print(\"---\", end = \"\")\n",
        "\n",
        "      print(\"\\nBill No : \", bill_no)\n",
        "      print(\"----------------------------------\")\n",
        "\n",
        "      if tea > 0:\n",
        "        print(\"Tea  \\t\\t  12 \", tea, (tea*12))\n",
        "\n",
        "      if coffee > 0:\n",
        "        print(\"Coffee  \\t\\t  12 \", coffee, (coffee*30))\n",
        "\n",
        "      if water > 0:\n",
        "        print(\"water  \\t\\t  12 \", water, (water*20))\n",
        "\n",
        "      if banmaska > 0:\n",
        "        print(\"BanMaska  \\t  12 \", banmaska, (banmaska*100))\n",
        "\n",
        "      print(\"----------------------------------\")\n",
        "\n",
        "      print(\"Total Payable Amount : \" , (tea*12) + (coffee*30) + (water * 20) + (banmaska*100))\n",
        "\n",
        "      print(\"      Visit Again\\n\\n\")\n",
        "\n",
        "\n",
        "    elif yes_no == \"N\":\n",
        "      print(\"Ok...\")\n",
        "\n",
        "  elif machine == \"N\":\n",
        "    print(\"Switch Off...\")\n",
        "    break\n",
        "\n",
        "\n",
        "  else:\n",
        "    print(\"Please Provide Correct Input \")"
      ],
      "metadata": {
        "colab": {
          "base_uri": "https://localhost:8080/"
        },
        "id": "2zYOOQyac2OC",
        "outputId": "3767035e-8f10-4392-a73f-9edd4d967cd7"
      },
      "execution_count": null,
      "outputs": [
        {
          "output_type": "stream",
          "name": "stdout",
          "text": [
            "Machine On or OFF : (Y/N) ? Y\n",
            "Any Order : (Y/N) ? Y\n",
            "Tea : 10\n",
            "Coffee : 2\n",
            "Banmaska : 1\n",
            "Water  : 5\n",
            "------------------------------Bill No :  1000000101\n",
            "----------------------------------\n",
            "Tea  \t\t  12  10 120\n",
            "Coffee  \t\t  12  2 60\n",
            "water  \t\t  12  5 100\n",
            "BanMaska  \t  12  1 100\n",
            "----------------------------------\n",
            "Total Payable Amount :  380\n",
            "      Visit Again\n",
            "Machine On or OFF : (Y/N) ? Y\n",
            "Any Order : (Y/N) ? Y\n",
            "Tea : 5\n",
            "Coffee : 0\n",
            "Banmaska : 0\n",
            "Water  : 0\n",
            "------------------------------Bill No :  1000000102\n",
            "----------------------------------\n",
            "Tea  \t\t  12  5 60\n",
            "----------------------------------\n",
            "Total Payable Amount :  60\n",
            "      Visit Again\n",
            "Machine On or OFF : (Y/N) ? N\n",
            "Switch Off...\n"
          ]
        }
      ]
    },
    {
      "cell_type": "code",
      "source": [],
      "metadata": {
        "id": "4CK9kGySfTpA"
      },
      "execution_count": null,
      "outputs": []
    }
  ]
}