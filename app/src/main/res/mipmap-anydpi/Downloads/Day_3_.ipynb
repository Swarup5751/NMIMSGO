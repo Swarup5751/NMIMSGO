{
  "nbformat": 4,
  "nbformat_minor": 0,
  "metadata": {
    "colab": {
      "provenance": []
    },
    "kernelspec": {
      "name": "python3",
      "display_name": "Python 3"
    },
    "language_info": {
      "name": "python"
    }
  },
  "cells": [
    {
      "cell_type": "code",
      "execution_count": null,
      "metadata": {
        "id": "jccnlob7Q9ls"
      },
      "outputs": [],
      "source": [
        "l = [10, 10, 10, 20, 30, 10, 30, 10]"
      ]
    },
    {
      "cell_type": "code",
      "source": [
        "1.\tFind the Maximum and Minimum Elements:\n",
        "○\tQuestion: Write a function to find the maximum and minimum elements in an array.\n",
        "○\tLogic: Iterate through the array, updating the maximum and minimum as you go.\n",
        "○\tSample Input: [5, 3, 9, 2, 8]\n",
        "○\tExpected Output: Maximum: 9, Minimum: 2\n"
      ],
      "metadata": {
        "id": "lDs2H_QyUwe3"
      },
      "execution_count": null,
      "outputs": []
    },
    {
      "cell_type": "code",
      "source": [
        "l = [5, 3, 9, 2, 8]\n",
        "max = min = 0\n",
        "for x in l:\n",
        "  if x > max:\n",
        "    max = x\n",
        "    print(\" max -> \",  max)\n",
        "  if x < min:\n",
        "    min = x\n",
        "    print(\" min -> \",  min)\n",
        "\n",
        "print(\"Max : \", max,  \" Min : \", min)"
      ],
      "metadata": {
        "colab": {
          "base_uri": "https://localhost:8080/"
        },
        "id": "aZQs6kueUxxa",
        "outputId": "631a9a4e-445f-4314-af78-4bcd3dbb53a8"
      },
      "execution_count": null,
      "outputs": [
        {
          "output_type": "stream",
          "name": "stdout",
          "text": [
            " max ->  5\n",
            " max ->  9\n",
            "Max :  9  Min :  0\n"
          ]
        }
      ]
    },
    {
      "cell_type": "code",
      "source": [
        "l = [5, 3, 9, 2, 8]\n",
        "max = 0\n",
        "min = l[0]\n",
        "\n",
        "for x in range(len(l)):\n",
        "  if l[x] > max:\n",
        "    max = l[x]\n",
        "  if x < min:\n",
        "    min = l[x]\n",
        "\n",
        "\n",
        "print(\"Max : \", max,  \" Min : \", min)"
      ],
      "metadata": {
        "colab": {
          "base_uri": "https://localhost:8080/"
        },
        "id": "3X57Egr2YbQu",
        "outputId": "9d29b58f-060a-42a1-e8c3-68b3afa9a187"
      },
      "execution_count": null,
      "outputs": [
        {
          "output_type": "stream",
          "name": "stdout",
          "text": [
            "Max :  9  Min :  2\n"
          ]
        }
      ]
    },
    {
      "cell_type": "code",
      "source": [
        "2.\tFind the Second Largest Element:\n",
        "○\tQuestion: Find the second largest element in an array.\n",
        "○\tLogic: Initialize two variables to store the largest and second-largest elements and iterate through the array.\n",
        "○\tSample Input: [7, 3, 9, 2, 8]\n",
        "○\tExpected Output: Second Largest: 8\n"
      ],
      "metadata": {
        "id": "P2HHZY1CZNQZ"
      },
      "execution_count": null,
      "outputs": []
    },
    {
      "cell_type": "code",
      "source": [
        "3.\tRemove Duplicates from Unsorted Array:\n",
        "○\tQuestion: Write a function to remove duplicates from an unsorted array.\n",
        "○\tLogic: Use a hash set to keep track of unique elements as you iterate through the array.\n",
        "○\tSample Input: [3, 2, 3, 1, 2, 4]\n",
        "○\tExpected Output: [3, 2, 1, 4]\n"
      ],
      "metadata": {
        "id": "5F2iE2LFbYl3"
      },
      "execution_count": null,
      "outputs": []
    },
    {
      "cell_type": "code",
      "source": [
        "l = [3, 2, 3, 1, 2, 4]\n",
        "result_list = []\n",
        "unique_element = set()\n",
        "\n",
        "for x in l:\n",
        "  if x not in unique_element:\n",
        "    unique_element.add(x)\n",
        "    result_list.append(x)\n",
        "\n",
        "print(result_list)"
      ],
      "metadata": {
        "colab": {
          "base_uri": "https://localhost:8080/"
        },
        "id": "WJs9ciQDe8ee",
        "outputId": "58e509c3-0976-491f-c5c4-0a212759fc45"
      },
      "execution_count": null,
      "outputs": [
        {
          "output_type": "stream",
          "name": "stdout",
          "text": [
            "[3, 2, 1, 4]\n"
          ]
        }
      ]
    },
    {
      "cell_type": "code",
      "source": [
        "8.\tRearrange Positive and Negative Numbers:\n",
        "○\tQuestion: Given an array containing both positive and negative numbers, rearrange them in an alternating fashion.\n",
        "○\tLogic: Separate positive and negative numbers, then merge them alternately.\n",
        "○\tSample Input: [-1, 2, -3, 4, 5, -6]\n",
        "○\tExpected Output: [-1, 2, -3, 4, -6, 5]\n",
        "\n"
      ],
      "metadata": {
        "id": "GcNo2VJ2bbj-"
      },
      "execution_count": null,
      "outputs": []
    },
    {
      "cell_type": "code",
      "source": [],
      "metadata": {
        "id": "70frQEgKbbCD"
      },
      "execution_count": null,
      "outputs": []
    },
    {
      "cell_type": "code",
      "source": [
        "9.\tFind the Majority Element:\n",
        "○\tQuestion: Find the majority element (element that appears more than n/2 times) in an array.\n",
        "○\tLogic: Use Moore's Voting Algorithm to find the majority element.\n",
        "○\tSample Input: [3, 3, 4, 2, 4, 4, 2, 4, 4]\n",
        "○\tExpected Output: Majority Element: 4"
      ],
      "metadata": {
        "id": "cm-l8EMubaUV"
      },
      "execution_count": null,
      "outputs": []
    },
    {
      "cell_type": "code",
      "source": [
        "# String\n",
        "\n",
        "s = \"Hello, Python\"\n",
        "s"
      ],
      "metadata": {
        "colab": {
          "base_uri": "https://localhost:8080/",
          "height": 36
        },
        "id": "pgxpwABlk9tW",
        "outputId": "95b95e9d-48b4-4db0-d356-d11ffaa0329e"
      },
      "execution_count": null,
      "outputs": [
        {
          "output_type": "execute_result",
          "data": {
            "text/plain": [
              "'Hello, Python'"
            ],
            "application/vnd.google.colaboratory.intrinsic+json": {
              "type": "string"
            }
          },
          "metadata": {},
          "execution_count": 8
        }
      ]
    },
    {
      "cell_type": "code",
      "source": [
        "s = \"नमस्कार, धनराज तुम्ही कसे आहात ?\"\n",
        "s"
      ],
      "metadata": {
        "colab": {
          "base_uri": "https://localhost:8080/",
          "height": 36
        },
        "id": "MvcyA_C8lEAC",
        "outputId": "6ce36bef-7eed-488d-e88f-563e687933c9"
      },
      "execution_count": null,
      "outputs": [
        {
          "output_type": "execute_result",
          "data": {
            "text/plain": [
              "'नमस्कार, धनराज तुम्ही कसे आहात ?'"
            ],
            "application/vnd.google.colaboratory.intrinsic+json": {
              "type": "string"
            }
          },
          "metadata": {},
          "execution_count": 9
        }
      ]
    },
    {
      "cell_type": "code",
      "source": [
        "message = \"હેલો, ધનરાજ તમે કેમ છો ?\"\n",
        "message"
      ],
      "metadata": {
        "colab": {
          "base_uri": "https://localhost:8080/",
          "height": 36
        },
        "id": "DeODqD9DlZNo",
        "outputId": "81054dd9-2cab-4c73-e222-17b2b5adc3a8"
      },
      "execution_count": null,
      "outputs": [
        {
          "output_type": "execute_result",
          "data": {
            "text/plain": [
              "'હેલો, ધનરાજ તમે કેમ છો ?'"
            ],
            "application/vnd.google.colaboratory.intrinsic+json": {
              "type": "string"
            }
          },
          "metadata": {},
          "execution_count": 10
        }
      ]
    },
    {
      "cell_type": "code",
      "source": [
        "s = \"Program\"\n",
        "type(s)"
      ],
      "metadata": {
        "colab": {
          "base_uri": "https://localhost:8080/"
        },
        "id": "FFEalZE0lf8C",
        "outputId": "3eddec4c-cf00-4833-f8d4-90b0254569a6"
      },
      "execution_count": null,
      "outputs": [
        {
          "output_type": "execute_result",
          "data": {
            "text/plain": [
              "str"
            ]
          },
          "metadata": {},
          "execution_count": 11
        }
      ]
    },
    {
      "cell_type": "code",
      "source": [
        "id(s)"
      ],
      "metadata": {
        "colab": {
          "base_uri": "https://localhost:8080/"
        },
        "id": "pe3u1SCAlu5N",
        "outputId": "4ded46c4-fe3a-412f-9645-87b7cf79c329"
      },
      "execution_count": null,
      "outputs": [
        {
          "output_type": "execute_result",
          "data": {
            "text/plain": [
              "137971910834160"
            ]
          },
          "metadata": {},
          "execution_count": 12
        }
      ]
    },
    {
      "cell_type": "code",
      "source": [
        "for character in s:\n",
        "  print(character)"
      ],
      "metadata": {
        "colab": {
          "base_uri": "https://localhost:8080/"
        },
        "id": "T83aYLTZlwDe",
        "outputId": "8b07f66f-364e-473b-c0bc-af3a87ffbbe9"
      },
      "execution_count": null,
      "outputs": [
        {
          "output_type": "stream",
          "name": "stdout",
          "text": [
            "P\n",
            "r\n",
            "o\n",
            "g\n",
            "r\n",
            "a\n",
            "m\n"
          ]
        }
      ]
    },
    {
      "cell_type": "code",
      "source": [
        "ord(\"A\") ---> number ---> ord(string)"
      ],
      "metadata": {
        "colab": {
          "base_uri": "https://localhost:8080/"
        },
        "id": "gElg366Yl56G",
        "outputId": "0cefd03e-ee64-4183-96c7-e50a413b902f"
      },
      "execution_count": null,
      "outputs": [
        {
          "output_type": "execute_result",
          "data": {
            "text/plain": [
              "65"
            ]
          },
          "metadata": {},
          "execution_count": 15
        }
      ]
    },
    {
      "cell_type": "code",
      "source": [
        "ord(\"A\")"
      ],
      "metadata": {
        "colab": {
          "base_uri": "https://localhost:8080/"
        },
        "id": "YszgILZJmIGC",
        "outputId": "456d2ecd-99e3-4256-b858-e107143b953a"
      },
      "execution_count": null,
      "outputs": [
        {
          "output_type": "execute_result",
          "data": {
            "text/plain": [
              "65"
            ]
          },
          "metadata": {},
          "execution_count": 16
        }
      ]
    },
    {
      "cell_type": "code",
      "source": [
        "chr(65)  --> int --> chr(integer_value)"
      ],
      "metadata": {
        "colab": {
          "base_uri": "https://localhost:8080/",
          "height": 36
        },
        "id": "aO0oHFNWmSO0",
        "outputId": "de4ea88a-26ae-45d4-8dec-14104f178cf9"
      },
      "execution_count": null,
      "outputs": [
        {
          "output_type": "execute_result",
          "data": {
            "text/plain": [
              "'A'"
            ],
            "application/vnd.google.colaboratory.intrinsic+json": {
              "type": "string"
            }
          },
          "metadata": {},
          "execution_count": 17
        }
      ]
    },
    {
      "cell_type": "code",
      "source": [
        "print(chr(97))"
      ],
      "metadata": {
        "colab": {
          "base_uri": "https://localhost:8080/"
        },
        "id": "1a4hQMxDmlR4",
        "outputId": "2e31733e-922f-4d3e-fe9b-7d18b1705daa"
      },
      "execution_count": null,
      "outputs": [
        {
          "output_type": "stream",
          "name": "stdout",
          "text": [
            "a\n"
          ]
        }
      ]
    },
    {
      "cell_type": "code",
      "source": [
        "s = \"😊😊😊😊\"\n",
        "s"
      ],
      "metadata": {
        "colab": {
          "base_uri": "https://localhost:8080/",
          "height": 36
        },
        "id": "4_jWfYL5mwDg",
        "outputId": "5ca8bb2b-7c9d-4c2b-dd1f-9f0bfe519568"
      },
      "execution_count": null,
      "outputs": [
        {
          "output_type": "execute_result",
          "data": {
            "text/plain": [
              "'😊😊😊😊'"
            ],
            "application/vnd.google.colaboratory.intrinsic+json": {
              "type": "string"
            }
          },
          "metadata": {},
          "execution_count": 19
        }
      ]
    },
    {
      "cell_type": "code",
      "source": [
        "s = \"Python is good programming language\"\n",
        "\n",
        "for word in range(len(s)-1, 0 ,-1):\n",
        "  print(word)"
      ],
      "metadata": {
        "colab": {
          "base_uri": "https://localhost:8080/"
        },
        "id": "rE4yTE4AnFca",
        "outputId": "399e7bfe-5bcd-421b-d3d0-90b053313c01"
      },
      "execution_count": null,
      "outputs": [
        {
          "output_type": "stream",
          "name": "stdout",
          "text": [
            "34\n",
            "33\n",
            "32\n",
            "31\n",
            "30\n",
            "29\n",
            "28\n",
            "27\n",
            "26\n",
            "25\n",
            "24\n",
            "23\n",
            "22\n",
            "21\n",
            "20\n",
            "19\n",
            "18\n",
            "17\n",
            "16\n",
            "15\n",
            "14\n",
            "13\n",
            "12\n",
            "11\n",
            "10\n",
            "9\n",
            "8\n",
            "7\n",
            "6\n",
            "5\n",
            "4\n",
            "3\n",
            "2\n",
            "1\n"
          ]
        }
      ]
    },
    {
      "cell_type": "code",
      "source": [
        "s = \"Python is good programming language\"\n",
        "\n",
        "for index in range(len(s)-1, -1 ,-1):\n",
        "  print(\"at index :\", index, \" we have -> \", s[index])"
      ],
      "metadata": {
        "colab": {
          "base_uri": "https://localhost:8080/"
        },
        "id": "fCTz3ESOnXm7",
        "outputId": "0f29b35b-a79c-4e63-e07f-38b93d4bb340"
      },
      "execution_count": null,
      "outputs": [
        {
          "output_type": "stream",
          "name": "stdout",
          "text": [
            "at index : 34  we have ->  e\n",
            "at index : 33  we have ->  g\n",
            "at index : 32  we have ->  a\n",
            "at index : 31  we have ->  u\n",
            "at index : 30  we have ->  g\n",
            "at index : 29  we have ->  n\n",
            "at index : 28  we have ->  a\n",
            "at index : 27  we have ->  l\n",
            "at index : 26  we have ->   \n",
            "at index : 25  we have ->  g\n",
            "at index : 24  we have ->  n\n",
            "at index : 23  we have ->  i\n",
            "at index : 22  we have ->  m\n",
            "at index : 21  we have ->  m\n",
            "at index : 20  we have ->  a\n",
            "at index : 19  we have ->  r\n",
            "at index : 18  we have ->  g\n",
            "at index : 17  we have ->  o\n",
            "at index : 16  we have ->  r\n",
            "at index : 15  we have ->  p\n",
            "at index : 14  we have ->   \n",
            "at index : 13  we have ->  d\n",
            "at index : 12  we have ->  o\n",
            "at index : 11  we have ->  o\n",
            "at index : 10  we have ->  g\n",
            "at index : 9  we have ->   \n",
            "at index : 8  we have ->  s\n",
            "at index : 7  we have ->  i\n",
            "at index : 6  we have ->   \n",
            "at index : 5  we have ->  n\n",
            "at index : 4  we have ->  o\n",
            "at index : 3  we have ->  h\n",
            "at index : 2  we have ->  t\n",
            "at index : 1  we have ->  y\n",
            "at index : 0  we have ->  P\n"
          ]
        }
      ]
    },
    {
      "cell_type": "code",
      "source": [
        "s = \"Python is good programming language\".split()\n",
        "s"
      ],
      "metadata": {
        "colab": {
          "base_uri": "https://localhost:8080/"
        },
        "id": "pIdryumMoAAd",
        "outputId": "031d14e2-cc52-4b04-e09f-6da7fafa8b00"
      },
      "execution_count": null,
      "outputs": [
        {
          "output_type": "execute_result",
          "data": {
            "text/plain": [
              "['Python', 'is', 'good', 'programming', 'language']"
            ]
          },
          "metadata": {},
          "execution_count": 25
        }
      ]
    },
    {
      "cell_type": "code",
      "source": [
        "for word in s:\n",
        "  print(word)"
      ],
      "metadata": {
        "colab": {
          "base_uri": "https://localhost:8080/"
        },
        "id": "vwhgcGmAoYY8",
        "outputId": "f63ed70a-28cf-4ec2-a7b6-da2752946be9"
      },
      "execution_count": null,
      "outputs": [
        {
          "output_type": "stream",
          "name": "stdout",
          "text": [
            "Python\n",
            "is\n",
            "good\n",
            "programming\n",
            "language\n"
          ]
        }
      ]
    },
    {
      "cell_type": "code",
      "source": [
        "sample --> program\n",
        "expected -->\n",
        "\n",
        "p\n",
        "p r\n",
        "p r o\n",
        "\n",
        "program"
      ],
      "metadata": {
        "id": "gVyVQXq4odW2"
      },
      "execution_count": null,
      "outputs": []
    },
    {
      "cell_type": "code",
      "source": [
        "line = \"program\"\n",
        "\n",
        "for character in line:\n",
        "  print(character)"
      ],
      "metadata": {
        "colab": {
          "base_uri": "https://localhost:8080/"
        },
        "id": "LUx-v_-UqKKo",
        "outputId": "dcc8c7e6-4e36-4efd-b14d-55d6afffee67"
      },
      "execution_count": null,
      "outputs": [
        {
          "output_type": "stream",
          "name": "stdout",
          "text": [
            "p\n",
            "r\n",
            "o\n",
            "g\n",
            "r\n",
            "a\n",
            "m\n"
          ]
        }
      ]
    },
    {
      "cell_type": "code",
      "source": [
        "# slicing\n",
        "\n",
        "[start : end : steps]\n",
        "\n",
        "start --> 0 --> optional\n",
        "end   --> len() --> optional\n",
        "steps --> 1 --> optional\n",
        "\n",
        "\n",
        "a = slice(start, end, steps)"
      ],
      "metadata": {
        "id": "Z-OVfK72qf7F"
      },
      "execution_count": null,
      "outputs": []
    },
    {
      "cell_type": "code",
      "source": [
        "line = \"program\"\n",
        "\n",
        "line[::2]"
      ],
      "metadata": {
        "colab": {
          "base_uri": "https://localhost:8080/",
          "height": 36
        },
        "id": "DU5tLkNeq2Kt",
        "outputId": "a9b87e86-ac1e-464e-e227-61e9dfbf4567"
      },
      "execution_count": null,
      "outputs": [
        {
          "output_type": "execute_result",
          "data": {
            "text/plain": [
              "'porm'"
            ],
            "application/vnd.google.colaboratory.intrinsic+json": {
              "type": "string"
            }
          },
          "metadata": {},
          "execution_count": 31
        }
      ]
    },
    {
      "cell_type": "code",
      "source": [
        "t = (1,2, 3, 4)\n",
        "\n",
        "a = slice(1, 3)\n",
        "\n",
        "print(t[a])"
      ],
      "metadata": {
        "colab": {
          "base_uri": "https://localhost:8080/"
        },
        "id": "VPu1-jUIrGE0",
        "outputId": "d63a6b05-ff68-41a8-cd25-ab94bd53aa8c"
      },
      "execution_count": null,
      "outputs": [
        {
          "output_type": "stream",
          "name": "stdout",
          "text": [
            "(2, 3)\n"
          ]
        }
      ]
    },
    {
      "cell_type": "code",
      "source": [
        "line = \"program\"\n",
        "\n",
        "for index in range(len(line)):\n",
        "  print(line[:index+1:])"
      ],
      "metadata": {
        "colab": {
          "base_uri": "https://localhost:8080/"
        },
        "id": "jlMV7iJlqT4l",
        "outputId": "de098603-dbc5-4e11-b003-82d5adb0c366"
      },
      "execution_count": null,
      "outputs": [
        {
          "output_type": "stream",
          "name": "stdout",
          "text": [
            "p\n",
            "pr\n",
            "pro\n",
            "prog\n",
            "progr\n",
            "progra\n",
            "program\n"
          ]
        }
      ]
    },
    {
      "cell_type": "code",
      "source": [
        "s1 = \"program\"\n",
        "s2 = \"hello\"\n",
        "\n",
        "print(s1 + s2)"
      ],
      "metadata": {
        "colab": {
          "base_uri": "https://localhost:8080/"
        },
        "id": "Hu6CmBORry6V",
        "outputId": "071ee539-c76f-4d54-af8b-cec079076c25"
      },
      "execution_count": null,
      "outputs": [
        {
          "output_type": "stream",
          "name": "stdout",
          "text": [
            "programhello\n"
          ]
        }
      ]
    },
    {
      "cell_type": "code",
      "source": [
        "s = \"hello\"\n",
        "\n",
        "print(s * 5)"
      ],
      "metadata": {
        "colab": {
          "base_uri": "https://localhost:8080/"
        },
        "id": "OQHPqxj0sEg9",
        "outputId": "75121f29-40e0-4fdf-9a0f-8d339a925087"
      },
      "execution_count": null,
      "outputs": [
        {
          "output_type": "stream",
          "name": "stdout",
          "text": [
            "hellohellohellohellohello\n"
          ]
        }
      ]
    },
    {
      "cell_type": "code",
      "source": [
        "# *\n",
        "# * *\n",
        "# * * *\n",
        "# * * * *\n",
        "\n",
        "for x in range(5):\n",
        "  print(\"* \"*x)"
      ],
      "metadata": {
        "colab": {
          "base_uri": "https://localhost:8080/"
        },
        "id": "oGoxJjPksKvk",
        "outputId": "fd4cb7ab-a74a-4055-9b19-2f247995b5c3"
      },
      "execution_count": null,
      "outputs": [
        {
          "output_type": "stream",
          "name": "stdout",
          "text": [
            "\n",
            "* \n",
            "* * \n",
            "* * * \n",
            "* * * * \n"
          ]
        }
      ]
    },
    {
      "cell_type": "code",
      "source": [
        "# * * * *\n",
        "# * * *\n",
        "# * *\n",
        "# *\n",
        "\n",
        "for x in range(5, -1, -1):\n",
        "  print(\"* \"*x)\n"
      ],
      "metadata": {
        "colab": {
          "base_uri": "https://localhost:8080/"
        },
        "id": "0CVoNyPDs2zo",
        "outputId": "ec1b6703-15a2-4aee-921b-67e056b37dbc"
      },
      "execution_count": null,
      "outputs": [
        {
          "output_type": "stream",
          "name": "stdout",
          "text": [
            "* * * * * \n",
            "* * * * \n",
            "* * * \n",
            "* * \n",
            "* \n",
            "\n"
          ]
        }
      ]
    },
    {
      "cell_type": "code",
      "source": [
        "#    *\n",
        "#   * *\n",
        "#  * * *\n",
        "\n",
        "\n",
        "for x in range(5):\n",
        "  print(\" \"*(5-x), \"* \"*x)"
      ],
      "metadata": {
        "colab": {
          "base_uri": "https://localhost:8080/"
        },
        "id": "kJMN1NnvtPRe",
        "outputId": "1553c63e-68fd-4af0-dc58-cb3af6e43e29"
      },
      "execution_count": null,
      "outputs": [
        {
          "output_type": "stream",
          "name": "stdout",
          "text": [
            "      \n",
            "     * \n",
            "    * * \n",
            "   * * * \n",
            "  * * * * \n"
          ]
        }
      ]
    },
    {
      "cell_type": "code",
      "source": [
        "# Take a input from user\n",
        "\n",
        "# I/p --> How are you\n",
        "# o/p -->\n",
        "\n",
        "# you\n",
        "# you are\n",
        "# you are how\n",
        "\n",
        "\n",
        "user_line = input(\"Enter Line : \").split()\n",
        "user_line  = user_line[::-1]\n",
        "rev_line = ''\n",
        "\n",
        "for word in user_line:\n",
        "  rev_line += word + \" \"\n",
        "  print(rev_line)"
      ],
      "metadata": {
        "colab": {
          "base_uri": "https://localhost:8080/"
        },
        "id": "fK7IfBdrvUOV",
        "outputId": "d4510042-5cbe-4777-810c-d05cea683ed3"
      },
      "execution_count": null,
      "outputs": [
        {
          "output_type": "stream",
          "name": "stdout",
          "text": [
            "Enter Line : How are you\n",
            "you \n",
            "you are \n",
            "you are How \n"
          ]
        }
      ]
    },
    {
      "cell_type": "code",
      "source": [
        "# upper()\n",
        "# lower()\n",
        "# center()\n",
        "# capatalize()\n",
        "# title()"
      ],
      "metadata": {
        "id": "vB7CMv6UzLl4"
      },
      "execution_count": null,
      "outputs": []
    },
    {
      "cell_type": "code",
      "source": [
        "s = input(\"Enter something --> \").lower()\n",
        "s"
      ],
      "metadata": {
        "colab": {
          "base_uri": "https://localhost:8080/",
          "height": 54
        },
        "id": "qawvrLmGGu_h",
        "outputId": "3066cdda-45b1-4913-8aa9-c90b770ad7b9"
      },
      "execution_count": null,
      "outputs": [
        {
          "name": "stdout",
          "output_type": "stream",
          "text": [
            "Enter something --> HELLO\n"
          ]
        },
        {
          "output_type": "execute_result",
          "data": {
            "text/plain": [
              "'hello'"
            ],
            "application/vnd.google.colaboratory.intrinsic+json": {
              "type": "string"
            }
          },
          "metadata": {},
          "execution_count": 2
        }
      ]
    },
    {
      "cell_type": "code",
      "source": [
        "s = input(\"Enter something --> \").upper()\n",
        "s"
      ],
      "metadata": {
        "colab": {
          "base_uri": "https://localhost:8080/",
          "height": 54
        },
        "id": "kWE3pJH9G5_8",
        "outputId": "300d11f4-bda4-438c-d5d6-f2769c5b6b78"
      },
      "execution_count": null,
      "outputs": [
        {
          "name": "stdout",
          "output_type": "stream",
          "text": [
            "Enter something --> hello\n"
          ]
        },
        {
          "output_type": "execute_result",
          "data": {
            "text/plain": [
              "'HELLO'"
            ],
            "application/vnd.google.colaboratory.intrinsic+json": {
              "type": "string"
            }
          },
          "metadata": {},
          "execution_count": 3
        }
      ]
    },
    {
      "cell_type": "code",
      "source": [
        "s = input(\"Enter something --> \").lower()\n",
        "\n",
        "s.center(s, \"*\")\n"
      ],
      "metadata": {
        "colab": {
          "base_uri": "https://localhost:8080/",
          "height": 201
        },
        "id": "FbVVn0zLG-0q",
        "outputId": "db3e21f1-5b12-4e55-9cff-6b4095dce9da"
      },
      "execution_count": null,
      "outputs": [
        {
          "name": "stdout",
          "output_type": "stream",
          "text": [
            "Enter something --> hello\n"
          ]
        },
        {
          "output_type": "error",
          "ename": "TypeError",
          "evalue": "'str' object cannot be interpreted as an integer",
          "traceback": [
            "\u001b[0;31m---------------------------------------------------------------------------\u001b[0m",
            "\u001b[0;31mTypeError\u001b[0m                                 Traceback (most recent call last)",
            "\u001b[0;32m<ipython-input-7-e7af918ce185>\u001b[0m in \u001b[0;36m<cell line: 3>\u001b[0;34m()\u001b[0m\n\u001b[1;32m      1\u001b[0m \u001b[0ms\u001b[0m \u001b[0;34m=\u001b[0m \u001b[0minput\u001b[0m\u001b[0;34m(\u001b[0m\u001b[0;34m\"Enter something --> \"\u001b[0m\u001b[0;34m)\u001b[0m\u001b[0;34m.\u001b[0m\u001b[0mlower\u001b[0m\u001b[0;34m(\u001b[0m\u001b[0;34m)\u001b[0m\u001b[0;34m\u001b[0m\u001b[0;34m\u001b[0m\u001b[0m\n\u001b[1;32m      2\u001b[0m \u001b[0;34m\u001b[0m\u001b[0m\n\u001b[0;32m----> 3\u001b[0;31m \u001b[0ms\u001b[0m\u001b[0;34m.\u001b[0m\u001b[0mcenter\u001b[0m\u001b[0;34m(\u001b[0m\u001b[0ms\u001b[0m\u001b[0;34m,\u001b[0m \u001b[0;34m\"*\"\u001b[0m\u001b[0;34m)\u001b[0m\u001b[0;34m\u001b[0m\u001b[0;34m\u001b[0m\u001b[0m\n\u001b[0m",
            "\u001b[0;31mTypeError\u001b[0m: 'str' object cannot be interpreted as an integer"
          ]
        }
      ]
    },
    {
      "cell_type": "code",
      "source": [
        "s = input(\"Enter something --> \").lower()\n",
        "\n",
        "s.center(len(s) + 10, \" \")\n"
      ],
      "metadata": {
        "colab": {
          "base_uri": "https://localhost:8080/",
          "height": 54
        },
        "id": "FACeuIkRHC7c",
        "outputId": "e26d9b62-5d4f-49b0-9575-8a06ff214994"
      },
      "execution_count": null,
      "outputs": [
        {
          "name": "stdout",
          "output_type": "stream",
          "text": [
            "Enter something --> Thank You\n"
          ]
        },
        {
          "output_type": "execute_result",
          "data": {
            "text/plain": [
              "'     thank you     '"
            ],
            "application/vnd.google.colaboratory.intrinsic+json": {
              "type": "string"
            }
          },
          "metadata": {},
          "execution_count": 10
        }
      ]
    },
    {
      "cell_type": "code",
      "source": [
        "s = input(\"Enter something --> \").lower()\n",
        "\n",
        "s.capitalize()\n"
      ],
      "metadata": {
        "colab": {
          "base_uri": "https://localhost:8080/",
          "height": 54
        },
        "id": "bgJF5SedHqta",
        "outputId": "64e12406-4207-473c-c5d6-94e319ac0333"
      },
      "execution_count": null,
      "outputs": [
        {
          "name": "stdout",
          "output_type": "stream",
          "text": [
            "Enter something --> hello python\n"
          ]
        },
        {
          "output_type": "execute_result",
          "data": {
            "text/plain": [
              "'Hello python'"
            ],
            "application/vnd.google.colaboratory.intrinsic+json": {
              "type": "string"
            }
          },
          "metadata": {},
          "execution_count": 14
        }
      ]
    },
    {
      "cell_type": "code",
      "source": [
        "s = input(\"Enter something --> \").lower()\n",
        "\n",
        "s.title()\n"
      ],
      "metadata": {
        "colab": {
          "base_uri": "https://localhost:8080/",
          "height": 54
        },
        "id": "yjmrVzmIH_ik",
        "outputId": "c83035f8-9de9-4d9c-b702-a23232f9c543"
      },
      "execution_count": null,
      "outputs": [
        {
          "name": "stdout",
          "output_type": "stream",
          "text": [
            "Enter something --> hello python\n"
          ]
        },
        {
          "output_type": "execute_result",
          "data": {
            "text/plain": [
              "'Hello Python'"
            ],
            "application/vnd.google.colaboratory.intrinsic+json": {
              "type": "string"
            }
          },
          "metadata": {},
          "execution_count": 15
        }
      ]
    },
    {
      "cell_type": "code",
      "source": [
        "# A : 65\n",
        "# Z : 90\n",
        "\n",
        "for x in range(ord(\"A\"), ord(\"Z\")+1):\n",
        "  print(chr(x),  \" : \", x)"
      ],
      "metadata": {
        "colab": {
          "base_uri": "https://localhost:8080/"
        },
        "id": "iGeZ8WJ_ID_i",
        "outputId": "cf54bdc4-fb12-4028-f814-0861876eaa11"
      },
      "execution_count": null,
      "outputs": [
        {
          "output_type": "stream",
          "name": "stdout",
          "text": [
            "A  :  65\n",
            "B  :  66\n",
            "C  :  67\n",
            "D  :  68\n",
            "E  :  69\n",
            "F  :  70\n",
            "G  :  71\n",
            "H  :  72\n",
            "I  :  73\n",
            "J  :  74\n",
            "K  :  75\n",
            "L  :  76\n",
            "M  :  77\n",
            "N  :  78\n",
            "O  :  79\n",
            "P  :  80\n",
            "Q  :  81\n",
            "R  :  82\n",
            "S  :  83\n",
            "T  :  84\n",
            "U  :  85\n",
            "V  :  86\n",
            "W  :  87\n",
            "X  :  88\n",
            "Y  :  89\n",
            "Z  :  90\n"
          ]
        }
      ]
    },
    {
      "cell_type": "code",
      "source": [
        "# Read two characters from user\n",
        "start --> a\n",
        "end ---> D\n",
        "\n",
        "output -->\n",
        "----------------\n",
        "\n",
        "\n",
        "A\n",
        "A B\n",
        "A B C\n",
        "A B C D"
      ],
      "metadata": {
        "id": "2TmFjEoKJD62"
      },
      "execution_count": null,
      "outputs": []
    },
    {
      "cell_type": "code",
      "source": [
        "\n",
        "\n",
        "# output -->  Max word : the , count : 4\n",
        "\n",
        "line = \"the the the the  and and are are\".split()\n",
        "\n",
        "word_list = list(set(line))\n",
        "max = 0\n",
        "max_word = ''\n",
        "\n",
        "for word in word_list:\n",
        "\n",
        "  if line.count(word) > max:\n",
        "    max = line.count(word)\n",
        "    max_word = word\n",
        "\n",
        "print(\"Max Word : \", max_word, \" Count : \", max)"
      ],
      "metadata": {
        "colab": {
          "base_uri": "https://localhost:8080/"
        },
        "id": "l0KWJG6zLG_E",
        "outputId": "1da41db4-e23c-4dc0-a010-8fee41632dbb"
      },
      "execution_count": null,
      "outputs": [
        {
          "output_type": "stream",
          "name": "stdout",
          "text": [
            "Max Word :  the  Count :  4\n"
          ]
        }
      ]
    },
    {
      "cell_type": "code",
      "source": [],
      "metadata": {
        "id": "WGoOcsNyOv1B"
      },
      "execution_count": null,
      "outputs": []
    }
  ]
}